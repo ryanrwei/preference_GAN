{
 "cells": [
  {
   "cell_type": "code",
   "execution_count": 1,
   "id": "b404cb8f",
   "metadata": {},
   "outputs": [],
   "source": [
    "from matplotlib import pyplot as plt\n",
    "import numpy as np\n",
    "import pandas as pd\n",
    "from itertools import permutations\n",
    "from sklearn.datasets import make_blobs\n",
    "import random\n",
    "from utils import resize_to_ori_calMRE\n",
    "from Kmeans_sampling import Kmeans\n"
   ]
  },
  {
   "cell_type": "code",
   "execution_count": 2,
   "id": "d3d1969e",
   "metadata": {},
   "outputs": [],
   "source": [
    "# def resize_to_ori_calMRE(x, img_size, img_width, img_height, ori_size):\n",
    "#     x = x.reshape([-1, img_width*img_height])\n",
    "#     cell_size = int(img_size//ori_size)\n",
    "\n",
    "#     ori_dat = []\n",
    "#     for j in range(x.shape[0]):\n",
    "#         dat = x[j]\n",
    "#         tmp = []\n",
    "#         for i in range(dat.shape[0] // cell_size):\n",
    "#             k = dat[(i)*cell_size:(i+1)*cell_size]\n",
    "#             tmp.append(np.mean(k))\n",
    "#         ori_dat.append(tmp)\n",
    "#     ori_dat = np.array(ori_dat)    \n",
    "#     return ori_dat"
   ]
  },
  {
   "cell_type": "code",
   "execution_count": 3,
   "id": "e9700e21",
   "metadata": {},
   "outputs": [],
   "source": [
    "# class Kmeans:\n",
    "#     def __init__(self, num_cluster):\n",
    "#         self.num_cluster = num_cluster\n",
    "#         self.num_iter = 0\n",
    "        \n",
    "#     def calc_distance(self,x1,x2):\n",
    "#         diff = x1 - x2\n",
    "#         distances = np.sqrt(np.square(diff).sum(axis=1))\n",
    "#         return distances        \n",
    "\n",
    "#     def calc_distance_emd_hist(self, x1, x2, m):\n",
    "#         np.set_printoptions(precision=2)\n",
    "#         # x1, x2 are two election histograms (normalized)\n",
    "#         # m is number of alternatives\n",
    "\n",
    "#         fact_m = len(x1)\n",
    "\n",
    "#         # find mapping\n",
    "#         alts = tuple(range(m))\n",
    "#         perms = list(permutations(alts))\n",
    "\n",
    "#         emd = np.inf\n",
    "\n",
    "#         for i, p1 in enumerate(perms):\n",
    "\n",
    "#             new_x2 = []\n",
    "#             for p2 in perms:\n",
    "\n",
    "#                 new_p2 = []\n",
    "#                 for j in p2:\n",
    "#                     new_p2.append(p1[j])\n",
    "#                 new_p2 = tuple(new_p2)\n",
    "#                 idx = perms.index(new_p2)\n",
    "\n",
    "#                 new_x2.append(x2[idx])\n",
    "#             new_x2 = np.array(new_x2)\n",
    "\n",
    "#             emd = np.min((emd, np.linalg.norm(x1 - new_x2)))\n",
    "\n",
    "#         return emd\n",
    "\n",
    "    \n",
    "#     def fit(self, x, num_alternative, max_iter):\n",
    "#         self.x = x\n",
    "#         num_samples = self.x.shape[0]\n",
    "#         num_features = self.x.shape[1]\n",
    "#         self.num_alternative = num_alternative\n",
    "        \n",
    "#         # Kmeans++ select center \n",
    "#         first = np.random.choice(num_samples)\n",
    "#         # init_center list\n",
    "#         index_select = [first]\n",
    "#         # cal the rest k-1 centers\n",
    "#         for i in range(1, self.num_cluster):\n",
    "#             all_distances = np.empty((num_samples,0))\n",
    "#             for j in index_select:\n",
    "#                 # calculate the distance between each point and selected center\n",
    "#                 distances = []\n",
    "#                 for k in range(len(self.x)):\n",
    "#                     distances.append(self.calc_distance_emd_hist(self.x[k], x[j], self.num_alternative))\n",
    "#                 distances = np.array(distances).reshape([-1, 1])                 \n",
    "#                 # store the distance between each point and selected center in an array, each col store one selected center \n",
    "#                 all_distances = np.c_[all_distances, distances]\n",
    "#             # Find the minimum distance from each point to the selected center of mass\n",
    "#             min_distances = all_distances.min(axis=1).reshape(-1,1)\n",
    "#             # select the most farthest point as new center\n",
    "#             index = np.argmax(min_distances)\n",
    "#             index_select.append(index)\n",
    "#         self.original_center = x[index_select]\n",
    "#         print('init finish')\n",
    "        \n",
    "#         while True and self.num_iter <= max_iter :\n",
    "#             # initialize a dict, taks cluster as key and assign it an empty array\n",
    "#             dict_y = {}\n",
    "#             for j in range(self.num_cluster):\n",
    "#                 dict_y[j] = np.empty((0,num_features))\n",
    "#             for i in range(num_samples):\n",
    "#                 distances = []\n",
    "#                 for j in range(len(self.original_center)):\n",
    "#                     distances.append(self.calc_distance_emd_hist(x[i], self.original_center[j], self.num_alternative))\n",
    "#                 distances = np.array(distances).reshape([-1])  \n",
    "\n",
    "#                 # assign x[i] into the most closed center, store it in a dict\n",
    "#                 label = np.argsort(distances)[0]\n",
    "#                 dict_y[label] = np.r_[dict_y[label],x[i].reshape(1,-1)]\n",
    "#             centers = np.empty((0,num_features))\n",
    "#             # re-calculalte the center of each cluster \n",
    "#             for i in range(self.num_cluster):\n",
    "#                 center = np.mean(dict_y[i],axis=0).reshape(1,-1)\n",
    "#                 centers = np.r_[centers,center]\n",
    "#             # if centers[i] == centers[i+1]: stop the training\n",
    "#             result = np.all(centers == self.original_center)\n",
    "#             if result == True:\n",
    "#                 break\n",
    "#             else:\n",
    "#                 # update centers\n",
    "#                 self.original_center = centers\n",
    "                \n",
    "#             self.num_iter += 1\n",
    "# #             print('current num_iter: ', self.num_iter)\n",
    "\n",
    "#         print('total used num_iter: ', self.num_iter)\n",
    "\n",
    "#     def predict_and_cluster(self, x):\n",
    "#         y_preds = []\n",
    "#         num_samples = x.shape[0]\n",
    "#         self.num_features = x.shape[1]\n",
    "        \n",
    "#         cluster_x = {}\n",
    "#         for i in range(self.num_cluster):\n",
    "#             cluster_x[i] = []\n",
    "        \n",
    "#         for i in range(num_samples):\n",
    "#             distances = []\n",
    "#             for j in range(len(self.original_center)):\n",
    "#                 distances.append(self.calc_distance_emd_hist(x[i], self.original_center[j], self.num_alternative))\n",
    "#             distances = np.array(distances).reshape([-1]) \n",
    "            \n",
    "#             y_pred = np.argsort(distances)[0]\n",
    "#             y_preds.append(y_pred)\n",
    "            \n",
    "#             cluster_x[y_pred].append(x[i])\n",
    "            \n",
    "#         return y_preds, cluster_x\n",
    "    \n",
    "#     def Kmeans_sampling(self, x, num_sampling):\n",
    "#         num_sampling = int(num_sampling//self.num_cluster)\n",
    "        \n",
    "#         sampled_x = []\n",
    "#         for i in range(self.num_cluster):\n",
    "#             random_seed = np.random.randint(len(x[i]), size = num_sampling)\n",
    "#             sampled_x.append(np.array(x[i])[random_seed])\n",
    "#         sampled_x_ = np.array(sampled_x).reshape([-1, self.num_features])\n",
    "#         np.random.seed(0)\n",
    "#         np.random.shuffle(sampled_x_)\n",
    "        \n",
    "#         return sampled_x_"
   ]
  },
  {
   "cell_type": "code",
   "execution_count": 4,
   "id": "f8308a72",
   "metadata": {},
   "outputs": [
    {
     "name": "stdout",
     "output_type": "stream",
     "text": [
      "(1000, 6)\n"
     ]
    }
   ],
   "source": [
    "pointers = pd.read_csv('./data/netflix_data_3alt_resize.csv')\n",
    "pointers = pointers.iloc[:1000,1:].values\n",
    "pointers = resize_to_ori_calMRE(pointers, np.math.factorial(6), 30, 24, np.math.factorial(3)) \n",
    "x = pointers[:, :]\n",
    "print(x.shape)"
   ]
  },
  {
   "cell_type": "code",
   "execution_count": 5,
   "id": "66fcc510",
   "metadata": {
    "scrolled": true
   },
   "outputs": [
    {
     "name": "stdout",
     "output_type": "stream",
     "text": [
      "init finish\n",
      "total used num_iter:  1001\n",
      "(50, 6)\n"
     ]
    }
   ],
   "source": [
    "model = Kmeans(num_cluster = 10)\n",
    "model.fit(x, num_alternative=3, max_iter = 1000)\n",
    "y_preds, clustered_x = model.predict_and_cluster(x)\n",
    "sampled_x = model.Kmeans_sampling_fn(clustered_x, 50)\n",
    "print(sampled_x.shape)"
   ]
  },
  {
   "cell_type": "code",
   "execution_count": 6,
   "id": "ff5c91aa",
   "metadata": {},
   "outputs": [
    {
     "name": "stdout",
     "output_type": "stream",
     "text": [
      "(1000, 24)\n"
     ]
    }
   ],
   "source": [
    "pointers = pd.read_csv('./data/netflix_data_4alt_resize.csv')\n",
    "pointers = pointers.iloc[:1000,1:].values\n",
    "pointers = resize_to_ori_calMRE(pointers, np.math.factorial(6), 30, 24, np.math.factorial(4)) \n",
    "x = pointers[:, :]\n",
    "print(x.shape)"
   ]
  },
  {
   "cell_type": "code",
   "execution_count": 7,
   "id": "6110e14b",
   "metadata": {},
   "outputs": [
    {
     "name": "stdout",
     "output_type": "stream",
     "text": [
      "init finish\n",
      "total used num_iter:  56\n",
      "(50, 24)\n"
     ]
    }
   ],
   "source": [
    "model = Kmeans(num_cluster = 10)\n",
    "model.fit(x, num_alternative=4, max_iter = 1000)\n",
    "y_preds, clustered_x = model.predict_and_cluster(x)\n",
    "sampled_x = model.Kmeans_sampling_fn(clustered_x, 50)\n",
    "print(sampled_x.shape)"
   ]
  }
 ],
 "metadata": {
  "kernelspec": {
   "display_name": "tf1.12",
   "language": "python",
   "name": "tf1.12"
  },
  "language_info": {
   "codemirror_mode": {
    "name": "ipython",
    "version": 3
   },
   "file_extension": ".py",
   "mimetype": "text/x-python",
   "name": "python",
   "nbconvert_exporter": "python",
   "pygments_lexer": "ipython3",
   "version": "3.6.13"
  }
 },
 "nbformat": 4,
 "nbformat_minor": 5
}
