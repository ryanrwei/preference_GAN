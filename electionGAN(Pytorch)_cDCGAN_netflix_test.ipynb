{
 "cells": [
  {
   "cell_type": "code",
   "execution_count": 1,
   "id": "14823bfe",
   "metadata": {},
   "outputs": [
    {
     "name": "stderr",
     "output_type": "stream",
     "text": [
      "C:\\Users\\WIN10\\anaconda3\\envs\\pytorch\\lib\\site-packages\\tqdm\\auto.py:22: TqdmWarning: IProgress not found. Please update jupyter and ipywidgets. See https://ipywidgets.readthedocs.io/en/stable/user_install.html\n",
      "  from .autonotebook import tqdm as notebook_tqdm\n"
     ]
    }
   ],
   "source": [
    "import torch\n",
    "import torch.nn as nn\n",
    "import torch.nn.functional as F\n",
    "import torch.utils.data as Data\n",
    "from torch import optim\n",
    "import numpy as np\n",
    "import pandas as pd\n",
    "import os, time, random\n",
    "import matplotlib.pyplot as plt\n",
    "from utils import one_hot, resize_to_ori_calMRE, resize_to_ori\n",
    "import math\n"
   ]
  },
  {
   "cell_type": "markdown",
   "id": "182b7aca",
   "metadata": {},
   "source": [
    "# Define save path"
   ]
  },
  {
   "cell_type": "code",
   "execution_count": 2,
   "id": "e4af1512",
   "metadata": {},
   "outputs": [],
   "source": [
    "folder = 'election_GAN(pytorch)/'\n",
    "gen_results = 'generated_results/'\n",
    "\n",
    "model = 'model_'\n",
    "\n",
    "if not os.path.isdir(folder):\n",
    "    os.mkdir(folder)\n",
    "    \n",
    "if not os.path.isdir(folder + gen_results):\n",
    "    os.mkdir(folder + gen_results)\n",
    "\n",
    "# save ckpt\n",
    "saver_path = os.path.join(folder, model)\n",
    "\n",
    "# save generated data\n",
    "generated_path = os.path.join(folder + gen_results)"
   ]
  },
  {
   "cell_type": "markdown",
   "id": "5cbfa907",
   "metadata": {},
   "source": [
    "# Load data"
   ]
  },
  {
   "cell_type": "code",
   "execution_count": 3,
   "id": "61daac8f",
   "metadata": {},
   "outputs": [
    {
     "name": "stdout",
     "output_type": "stream",
     "text": [
      "(1000, 24, 30)\n",
      "(1000, 24, 30)\n",
      "(2000, 24, 30)\n"
     ]
    }
   ],
   "source": [
    "img_width = 30\n",
    "img_height = 24\n",
    "\n",
    "data_alt3 = pd.read_csv('./data/netflix_data_3alt_resize.csv')\n",
    "data_alt3 = data_alt3.iloc[:1000,1:].values\n",
    "\n",
    "data_alt3 = data_alt3.reshape([-1, img_height, img_width])\n",
    "print(data_alt3.shape)\n",
    "\n",
    "##################################\n",
    "data_alt4 = pd.read_csv('./data/netflix_data_4alt_resize.csv')\n",
    "data_alt4 = data_alt4.iloc[:1000,1:].values\n",
    "\n",
    "data_alt4 = data_alt4.reshape([-1, img_height, img_width])\n",
    "print(data_alt4.shape)\n",
    "\n",
    "data_alt_3_4 = np.concatenate( (data_alt3, data_alt4), axis = 0)\n",
    "print(data_alt_3_4.shape)"
   ]
  },
  {
   "cell_type": "code",
   "execution_count": 4,
   "id": "20698c1c",
   "metadata": {},
   "outputs": [],
   "source": [
    "# fig, ax = plt.subplots(figsize=(5, 5))\n",
    "# ax.cla()\n",
    "# ax.imshow(np.reshape(data_alt3[2], (data_alt3.shape[1], data_alt3.shape[2])), cmap='gray')\n",
    "\n",
    "# fig, ax = plt.subplots(figsize=(5, 5))\n",
    "# ax.cla()\n",
    "# ax.imshow(np.reshape(data_alt4[99], (data_alt3.shape[1], data_alt3.shape[2])), cmap='gray')"
   ]
  },
  {
   "cell_type": "code",
   "execution_count": 5,
   "id": "1b209522",
   "metadata": {},
   "outputs": [
    {
     "name": "stdout",
     "output_type": "stream",
     "text": [
      "(2000, 2)\n"
     ]
    }
   ],
   "source": [
    "label_alt3 = np.zeros([data_alt3.shape[0]])\n",
    "label_alt4 = np.zeros([data_alt4.shape[0]]) + 1\n",
    "label_alt_3_4 = np.concatenate( (label_alt3,label_alt4), axis = 0)\n",
    "\n",
    "label_alt_onehot = one_hot(label_alt_3_4, 1 + 1)   \n",
    "print(label_alt_onehot.shape)"
   ]
  },
  {
   "cell_type": "markdown",
   "id": "06608d70",
   "metadata": {},
   "source": [
    "# Define Generator and discriminator"
   ]
  },
  {
   "cell_type": "code",
   "execution_count": 6,
   "id": "57caff9c",
   "metadata": {},
   "outputs": [],
   "source": [
    "def gradient_penalty(dis, x_real, x_fake, x_label, device=\"cpu\"):\n",
    "    batch_size, height, width = x_real.shape\n",
    "    alpha = torch.rand((batch_size, 1, 1)).repeat(1, height, width).to(device)\n",
    "    interpolated_images = x_real * alpha + x_fake * (1 - alpha)\n",
    "\n",
    "    # Calculate dis scores\n",
    "    mixed_scores = dis(interpolated_images, x_label)\n",
    "\n",
    "    # Take the gradient of the scores with respect to the images\n",
    "    gradient = torch.autograd.grad(\n",
    "        inputs=interpolated_images,\n",
    "        outputs=mixed_scores,\n",
    "        grad_outputs=torch.ones_like(mixed_scores),\n",
    "        create_graph=True,\n",
    "        retain_graph=True,\n",
    "    )[0]\n",
    "    gradient = gradient.view(gradient.shape[0], -1)\n",
    "    gradient_norm = gradient.norm(2, dim=1)\n",
    "    gradient_penalty = torch.mean((gradient_norm - 1) ** 2)\n",
    "    return gradient_penalty"
   ]
  },
  {
   "cell_type": "code",
   "execution_count": 7,
   "id": "198045a7",
   "metadata": {},
   "outputs": [],
   "source": [
    "class Generator(nn.Module):\n",
    "    def __init__(self, z_dim = 128, num_classes = 2):\n",
    "        super(Generator, self).__init__()\n",
    "        self.dim = 128\n",
    "        self.hidden = torch.nn.Linear(z_dim + num_classes, self.dim*1*1*3)   \n",
    "        self.tconv1 = self.conv_block(self.dim*3, self.dim*3, k_size=[1,5], stride=[1,5], pad=0, out_pad=0, use_bn=False)\n",
    "        self.tconv2 = self.conv_block(self.dim*3, self.dim*2, k_size=[4,1], stride=[4,1], pad=0, out_pad=0, use_bn=False)\n",
    "        self.tconv3 = self.conv_block(self.dim*2, self.dim*1, k_size=[3,3], stride=[3,3], pad=0, out_pad=0, use_bn=False)\n",
    "        self.tconv4 = self.conv_block(self.dim*1, 1, k_size=[2,2], stride=[2,2], pad=0, out_pad=0, use_bn=False)        \n",
    "        \n",
    "    def conv_block(self, c_in, c_out, k_size, stride, pad, out_pad, use_bn=False):\n",
    "        module = []\n",
    "        module.append(nn.ConvTranspose2d(c_in, c_out, k_size, stride, padding=pad, output_padding=out_pad, bias=not use_bn))\n",
    "        if use_bn: module.append(nn.BatchNorm2d(c_out))\n",
    "        return nn.Sequential(*module)        \n",
    "\n",
    "    def forward(self, x, label):\n",
    "        x = x.reshape([x.shape[0], -1, 1, 1])\n",
    "        label = label.reshape([x.shape[0], -1, 1, 1])\n",
    "        x = torch.cat((x, label), dim=1).reshape([x.shape[0], -1])\n",
    "        x = F.relu(self.hidden(x)).reshape([x.shape[0], 3*self.dim, 1, 1])\n",
    "        x = F.relu(self.tconv1(x))\n",
    "        x = F.relu(self.tconv2(x))\n",
    "        x = self.tconv3(x)\n",
    "        x = self.tconv4(x)\n",
    "        \n",
    "        return x.squeeze()"
   ]
  },
  {
   "cell_type": "code",
   "execution_count": 8,
   "id": "6d71da2a",
   "metadata": {},
   "outputs": [],
   "source": [
    "class Conv2dSame(torch.nn.Conv2d):\n",
    "\n",
    "    def calc_same_pad(self, i: int, k: int, s: int, d: int) -> int:\n",
    "        return max((math.ceil(i / s) - 1) * s + (k - 1) * d + 1 - i, 0)\n",
    "\n",
    "    def forward(self, x: torch.Tensor) -> torch.Tensor:\n",
    "        ih, iw = x.size()[-2:]\n",
    "\n",
    "        pad_h = self.calc_same_pad(i=ih, k=self.kernel_size[0], s=self.stride[0], d=self.dilation[0])\n",
    "        pad_w = self.calc_same_pad(i=iw, k=self.kernel_size[1], s=self.stride[1], d=self.dilation[1])\n",
    "\n",
    "        if pad_h > 0 or pad_w > 0:\n",
    "            x = F.pad(\n",
    "                x, [pad_w // 2, pad_w - pad_w // 2, pad_h // 2, pad_h - pad_h // 2]\n",
    "            )\n",
    "        return F.conv2d(x, self.weight, self.bias, self.stride, self.padding, self.dilation, self.groups)\n",
    "    \n",
    "class Discriminator(nn.Module):\n",
    "    def __init__(self, num_classes = 2):\n",
    "        super(Discriminator, self).__init__()\n",
    "        self.dim = 128\n",
    "        self.height = 24\n",
    "        self.width = 30\n",
    "        self.conv1 = self.conv_block(1 + num_classes, self.dim, k_size=[4,5], stride=[2,2], pad=0)\n",
    "        self.conv2 = self.conv_block(self.dim, self.dim * 2, k_size=[4,5], stride=[2,2], pad=0)\n",
    "        self.conv3 = self.conv_block(self.dim * 2, self.dim * 2, k_size=[4,5], stride=[2,2], pad=0)\n",
    "        self.hidden = torch.nn.Linear(3072, 1)  \n",
    "\n",
    "    def conv_block(self, c_in, c_out, k_size, stride, pad=0, use_bn=False):\n",
    "        module = []\n",
    "        module.append(Conv2dSame(in_channels=c_in, \n",
    "                                 out_channels=c_out, kernel_size=k_size, stride=stride, groups=1, bias=not use_bn))\n",
    "        if use_bn: module.append(nn.BatchNorm2d(c_out))\n",
    "        return nn.Sequential(*module)        \n",
    "        \n",
    "    def forward(self, x, label):\n",
    "        alpha = 0.2\n",
    "        x = x.reshape([batch_size, 1, self.height, self.width])\n",
    "        label = label.reshape([batch_size, 2, self.height, self.width])\n",
    "        x = torch.cat((x, label), dim=1)\n",
    "        x = F.leaky_relu(self.conv1(x), alpha)\n",
    "        x = F.leaky_relu(self.conv2(x), alpha)\n",
    "        x = self.conv3(x)\n",
    "        x = x.reshape([x.shape[0], -1])\n",
    "        x = self.hidden(x)\n",
    "                        \n",
    "        return x.squeeze()"
   ]
  },
  {
   "cell_type": "code",
   "execution_count": 9,
   "id": "4e3e17ec",
   "metadata": {},
   "outputs": [],
   "source": [
    "class election_GAN(object):\n",
    "    def __init__(self,\n",
    "                num_samples = None,\n",
    "                dim_height = None,\n",
    "                dim_width = None,\n",
    "                dim_z = None,\n",
    "                num_class = None,\n",
    "                batch_size = None,\n",
    "                lambda_gp = None):\n",
    "        \n",
    "        self.device = \"cuda\" if torch.cuda.is_available() else \"cpu\"\n",
    "#         self.device = \"cpu\" \n",
    "        self.num_samples = num_samples\n",
    "        self.dim_height = dim_height\n",
    "        self.dim_width = dim_width\n",
    "        self.dim_z = dim_z\n",
    "        self.num_class = num_class\n",
    "        self.batch_size = batch_size\n",
    "        self.lambda_gp = lambda_gp\n",
    "       \n",
    "    def train_model(self,\n",
    "                    x_train = None,     \n",
    "                    y_train = None,\n",
    "                    dataloder_num_workers = 1,\n",
    "                    train_epoch = 17000, \n",
    "                    step_valid = 50,\n",
    "                    step_save_data = 1000,\n",
    "                    iteration_generator = None,\n",
    "                    n_critic = 5,\n",
    "                   ):\n",
    "        '''define gen, dis and optim'''\n",
    "        self.gen = Generator(z_dim = self.dim_z, num_classes = self.num_class).to(self.device)\n",
    "        self.dis = Discriminator(num_classes = self.num_class).to(self.device)\n",
    "\n",
    "        self.g_opt = optim.Adam(self.gen.parameters(), lr=0.0001, betas=(0.5, 0.9))\n",
    "        self.d_opt = optim.Adam(self.dis.parameters(), lr=0.0001, betas=(0.5, 0.9))\n",
    "        \n",
    "        '''load data into dataloder'''\n",
    "        torch_dataset = Data.TensorDataset(torch.Tensor(x_train), torch.Tensor(y_train))\n",
    "\n",
    "        data_loader = Data.DataLoader(dataset = torch_dataset, batch_size = self.batch_size, \n",
    "                                shuffle = True, num_workers = dataloder_num_workers, drop_last = True)\n",
    "        \n",
    "        \n",
    "        ''' Training '''\n",
    "        self.train_hist = {}\n",
    "        self.train_hist['D_losses'] = []\n",
    "        self.train_hist['G_losses'] = []\n",
    "\n",
    "        time_start=time.time()\n",
    "\n",
    "        print('Optimization start!')\n",
    "        for epoch in range(train_epoch):\n",
    "            G_losses = []\n",
    "            D_losses = []\n",
    "\n",
    "            time_start_epoch = time.time()\n",
    "\n",
    "            for i, data in enumerate(data_loader):\n",
    "                x_real, x_label = data        \n",
    "                x_real = x_real.to(self.device)\n",
    "\n",
    "                z_label = x_label.reshape([self.batch_size, self.num_class, 1, 1]).to(self.device)\n",
    "                np_ones = np.ones([self.batch_size, self.num_class, self.dim_height, self.dim_width])\n",
    "                x_label = z_label * torch.Tensor(np_ones).to(self.device)\n",
    "\n",
    "                '''#############        Discriminator       #######################'''\n",
    "                z_fake = torch.randn(self.batch_size, self.dim_z, 1, 1).to(self.device)\n",
    "                x_fake = self.gen(z_fake, z_label)\n",
    "#                 print(x_fake.shape)\n",
    "#                 break\n",
    "#             break\n",
    "                \n",
    "                \n",
    "                fake_out = self.dis(x_fake.detach(), x_label)\n",
    "                real_out = self.dis(x_real.detach(), x_label)\n",
    "                gp = gradient_penalty(self.dis, x_real, x_fake, x_label, device = self.device)\n",
    "                self.d_loss = (-(torch.mean(real_out) - torch.mean(fake_out)) + self.lambda_gp * gp)\n",
    "\n",
    "                self.dis.zero_grad()\n",
    "                self.d_loss.backward()\n",
    "                self.d_opt.step()  \n",
    "                D_losses.append(self.d_loss.data.cpu().numpy())\n",
    "\n",
    "                '''#############        Generator          #######################'''\n",
    "                if (i+1) % n_critic == 0:  \n",
    "                    z_fake = torch.randn(self.batch_size, self.dim_z, 1, 1).to(self.device)\n",
    "                    y_ = []\n",
    "                    for _ in range(self.batch_size): y_.append(random.randrange(0, self.num_class, self.num_class-1))  \n",
    "                    y_ = np.array(y_).reshape([self.batch_size, 1])\n",
    "                    z_label = one_hot(y_, self.num_class).reshape([self.batch_size, self.num_class, 1, 1])\n",
    "                    x_label = z_label * np.ones([self.batch_size, self.num_class, self.dim_height, self.dim_width])\n",
    "                    z_label = torch.Tensor(z_label).to(self.device)    \n",
    "                    x_label = torch.Tensor(x_label).to(self.device)    \n",
    "\n",
    "                    x_fake = self.gen(z_fake, z_label)\n",
    "                    fake_out = self.dis(x_fake, x_label)\n",
    "                    self.g_loss = -torch.mean(fake_out)\n",
    "\n",
    "                    self.g_opt.zero_grad()\n",
    "                    self.g_loss.backward()\n",
    "                    self.g_opt.step()\n",
    "                    G_losses.append(self.g_loss.data.cpu().numpy())\n",
    "\n",
    "\n",
    "            ############        show loss      #######################\n",
    "            if (epoch+1) % 1 == 0:\n",
    "                print('[%d/%d] loss_d: %.3f, loss_g: %.3f'%((epoch + 1), train_epoch, np.mean(D_losses), np.mean(G_losses)))\n",
    "                self.train_hist['D_losses'].append(np.mean(D_losses))\n",
    "                self.train_hist['G_losses'].append(np.mean(G_losses))\n",
    "\n",
    "            ############        visualize generated data      #######################\n",
    "            if (epoch+1) % step_valid == 0:\n",
    "                with torch.no_grad():\n",
    "                   ############        num_alternative = 3      #######################\n",
    "                    z_fake = torch.randn(self.batch_size, self.dim_z, 1, 1).to(self.device)\n",
    "                    z_label = np.zeros([self.batch_size, 1]) + 0\n",
    "                    z_label = one_hot(z_label, self.num_class).reshape([self.batch_size, self.num_class, 1, 1])\n",
    "                    z_label = torch.Tensor(z_label).to(self.device)    \n",
    "\n",
    "                    gen_alt3 = self.gen(z_fake, z_label)\n",
    "                    ############        num_alternative = 4      #######################\n",
    "                    z_fake = torch.randn(self.batch_size, self.dim_z, 1, 1).to(self.device)\n",
    "                    z_label = np.zeros([self.batch_size, 1]) + 1\n",
    "                    z_label = one_hot(z_label, self.num_class).reshape([self.batch_size, self.num_class, 1, 1])\n",
    "                    z_label = torch.Tensor(z_label).to(self.device)    \n",
    "\n",
    "                    gen_alt4 = self.gen(z_fake, z_label)\n",
    "\n",
    "                    plt.figure(epoch)\n",
    "                    fig, ax = plt.subplots(figsize=(3, 3))\n",
    "                    ax.cla()\n",
    "                    ax.imshow(gen_alt3.data.cpu().numpy()[0], cmap='gray')\n",
    "\n",
    "                    fig, ax = plt.subplots(figsize=(3, 3))\n",
    "                    ax.cla()\n",
    "                    ax.imshow(gen_alt4.data.cpu().numpy()[0], cmap='gray')            \n",
    "                    plt.show()      \n",
    "\n",
    "            ############        save per 1000 epoch      #######################\n",
    "            if (epoch+1) % step_save_data == 0:\n",
    "                with torch.no_grad():\n",
    "\n",
    "                    generated_3alt = []\n",
    "                    generated_4alt = []                     \n",
    "                    for _ in range(iteration_generator):  \n",
    "                       ############        num_alternative = 3      #######################\n",
    "                        z_fake = torch.randn(self.batch_size, self.dim_z, 1, 1).to(self.device)\n",
    "                        z_label = np.zeros([self.batch_size, 1]) + 0\n",
    "                        z_label = one_hot(z_label, self.num_class).reshape([self.batch_size, self.num_class, 1, 1])\n",
    "                        z_label = torch.Tensor(z_label).to(self.device)    \n",
    "                        gen_alt3 = self.gen(z_fake, z_label)\n",
    "                        generated_3alt.append(gen_alt3.data.cpu().numpy().reshape([self.batch_size, self.dim_height, self.dim_width]))\n",
    "\n",
    "                        ############        num_alternative = 4      #######################\n",
    "                        z_fake = torch.randn(self.batch_size, self.dim_z, 1, 1).to(self.device)\n",
    "                        z_label = np.zeros([self.batch_size, 1]) + 1\n",
    "                        z_label = one_hot(z_label, self.num_class).reshape([self.batch_size, self.num_class, 1, 1])\n",
    "                        z_label = torch.Tensor(z_label).to(self.device)    \n",
    "                        gen_alt4 = self.gen(z_fake, z_label)\n",
    "                        generated_4alt.append(gen_alt4.data.cpu().numpy().reshape([self.batch_size, self.dim_height, self.dim_width]))\n",
    "\n",
    "                    generated_3alt = np.array(generated_3alt).reshape([iteration_generator*self.batch_size, self.dim_height, self.dim_width])\n",
    "                    gen_alt3_ori = resize_to_ori(generated_3alt, np.math.factorial(6), 30, 24, np.math.factorial(3), self.batch_size, iteration_generator)\n",
    "                    gen_alt3_pd = pd.DataFrame(gen_alt3_ori, columns = ['ABC', 'ACB', 'BAC', 'BCA', 'CAB', 'CBA'])\n",
    "                    gen_alt3_pd.to_csv(generated_path + 'generated_atl3_' + str(epoch) + '.csv')                    \n",
    "\n",
    "                    generated_4alt = np.array(generated_4alt).reshape([iteration_generator*self.batch_size, self.dim_height, self.dim_width])     \n",
    "                    gen_alt4_ori = resize_to_ori(generated_4alt, np.math.factorial(6), 30, 24, np.math.factorial(4), self.batch_size, iteration_generator)\n",
    "                    gen_alt4_pd = pd.DataFrame(gen_alt4_ori, columns = ['ABCD', 'ACBD', 'BACD', 'BCAD', 'CABD', 'CBAD', 'DABC',\n",
    "                           'DACB', 'DBAC', 'DBCA', 'DCAB', 'DCBA', 'ADBC', 'ADCB', 'BDAC', 'BDCA',\n",
    "                           'CDAB', 'CDBA', 'ABDC', 'ACDB', 'BADC', 'BCDA', 'CADB', 'CBDA'])\n",
    "                    gen_alt4_pd.to_csv(generated_path + 'generated_atl4_' + str(epoch) + '.csv')   \n",
    "\n",
    "            time_end_epoch = time.time()\n",
    "            print('Time cost in one epoch', time_end_epoch - time_start_epoch,'s')         \n",
    "\n",
    "        ###########        save      #######################\n",
    "        torch.save(self.gen, saver_path + 'gen.pkl')\n",
    "        torch.save(self.dis, saver_path + 'dis.pkl')\n",
    "        print('save success')    \n",
    "\n",
    "\n",
    "        print(\"Optimization Finished!\")\n",
    "\n",
    "        time_end=time.time()\n",
    "        print('Total Time cost',time_end-time_start,'s')\n",
    "        \n",
    "        \n",
    "    '''loss curve'''\n",
    "    def show_train_hist(self):\n",
    "        x = range(len(self.train_hist['D_losses']))\n",
    "\n",
    "        y1 = self.train_hist['D_losses']\n",
    "        y2 = self.train_hist['G_losses']\n",
    "\n",
    "        plt.plot(x, y1, label='D_loss')\n",
    "        plt.plot(x, y2, label='G_loss')\n",
    "\n",
    "        plt.xlabel('Epoch')\n",
    "        plt.ylabel('Loss')\n",
    "\n",
    "        plt.legend(loc=4)  \n",
    "        plt.grid(True)\n",
    "        plt.tight_layout() \n",
    "        plt.title(\"Training Losses\")\n",
    "\n",
    "        plt.show()"
   ]
  },
  {
   "cell_type": "code",
   "execution_count": 10,
   "id": "2de28709",
   "metadata": {},
   "outputs": [],
   "source": [
    "batch_size = 64\n",
    "\n",
    "model = election_GAN(\n",
    "                num_samples = data_alt_3_4.shape[0],\n",
    "                dim_height = data_alt_3_4.shape[1],\n",
    "                dim_width = data_alt_3_4.shape[2],\n",
    "                dim_z = 128,\n",
    "                num_class = label_alt_onehot.shape[-1],\n",
    "                batch_size = batch_size,\n",
    "                lambda_gp = 10)"
   ]
  },
  {
   "cell_type": "code",
   "execution_count": 11,
   "id": "3768ea9f",
   "metadata": {
    "scrolled": true
   },
   "outputs": [
    {
     "name": "stdout",
     "output_type": "stream",
     "text": [
      "Optimization start!\n",
      "[1/2000] loss_d: -4.716, loss_g: 5.761\n",
      "Time cost in one epoch 6.184567451477051 s\n",
      "[2/2000] loss_d: -8.484, loss_g: 3.864\n",
      "Time cost in one epoch 4.020575046539307 s\n",
      "[3/2000] loss_d: -1.959, loss_g: -3.482\n",
      "Time cost in one epoch 4.157049655914307 s\n",
      "[4/2000] loss_d: -1.657, loss_g: 1.499\n",
      "Time cost in one epoch 4.090405225753784 s\n",
      "[5/2000] loss_d: -2.232, loss_g: -2.977\n",
      "Time cost in one epoch 4.207930564880371 s\n",
      "[6/2000] loss_d: -2.226, loss_g: -3.260\n",
      "Time cost in one epoch 4.281142234802246 s\n",
      "[7/2000] loss_d: -2.209, loss_g: -4.982\n",
      "Time cost in one epoch 4.217865943908691 s\n",
      "[8/2000] loss_d: -2.243, loss_g: -6.501\n",
      "Time cost in one epoch 4.144240856170654 s\n",
      "[9/2000] loss_d: -2.237, loss_g: -5.459\n",
      "Time cost in one epoch 4.162174224853516 s\n",
      "[10/2000] loss_d: -2.240, loss_g: -5.569\n",
      "Time cost in one epoch 4.234629154205322 s\n",
      "[11/2000] loss_d: -2.231, loss_g: -3.780\n",
      "Time cost in one epoch 4.25999903678894 s\n",
      "[12/2000] loss_d: -2.243, loss_g: -4.262\n",
      "Time cost in one epoch 4.2097954750061035 s\n",
      "[13/2000] loss_d: -2.126, loss_g: -2.310\n",
      "Time cost in one epoch 4.271080017089844 s\n",
      "[14/2000] loss_d: -2.137, loss_g: -1.791\n",
      "Time cost in one epoch 4.214025259017944 s\n",
      "[15/2000] loss_d: -2.008, loss_g: -0.570\n",
      "Time cost in one epoch 4.299490213394165 s\n",
      "[16/2000] loss_d: -2.003, loss_g: 1.245\n",
      "Time cost in one epoch 4.260710000991821 s\n",
      "[17/2000] loss_d: -1.992, loss_g: 3.735\n",
      "Time cost in one epoch 4.332192659378052 s\n",
      "[18/2000] loss_d: -1.972, loss_g: 7.676\n",
      "Time cost in one epoch 4.332361698150635 s\n",
      "[19/2000] loss_d: -1.957, loss_g: 6.730\n",
      "Time cost in one epoch 4.294464349746704 s\n",
      "[20/2000] loss_d: -1.953, loss_g: 7.121\n",
      "Time cost in one epoch 4.324357032775879 s\n",
      "[21/2000] loss_d: -1.944, loss_g: 4.241\n",
      "Time cost in one epoch 4.383541584014893 s\n",
      "[22/2000] loss_d: -1.921, loss_g: 4.186\n",
      "Time cost in one epoch 4.474182844161987 s\n",
      "[23/2000] loss_d: -1.864, loss_g: 4.704\n",
      "Time cost in one epoch 4.3387274742126465 s\n",
      "[24/2000] loss_d: -1.885, loss_g: 3.590\n",
      "Time cost in one epoch 4.43995475769043 s\n",
      "[25/2000] loss_d: -1.863, loss_g: 3.595\n"
     ]
    },
    {
     "data": {
      "text/plain": [
       "<Figure size 640x480 with 0 Axes>"
      ]
     },
     "metadata": {},
     "output_type": "display_data"
    },
    {
     "data": {
      "image/png": "[encoded data removed]",
      "text/plain": [
       "<Figure size 300x300 with 1 Axes>"
      ]
     },
     "metadata": {},
     "output_type": "display_data"
    },
    {
     "data": {
      "image/png": "[encoded data removed]",
      "text/plain": [
       "<Figure size 300x300 with 1 Axes>"
      ]
     },
     "metadata": {},
     "output_type": "display_data"
    },
    {
     "name": "stdout",
     "output_type": "stream",
     "text": [
      "Time cost in one epoch 4.65325403213501 s\n",
      "[26/2000] loss_d: -1.800, loss_g: 3.252\n",
      "Time cost in one epoch 4.3238205909729 s\n",
      "[27/2000] loss_d: -1.756, loss_g: 2.627\n",
      "Time cost in one epoch 4.36810564994812 s\n",
      "[28/2000] loss_d: -1.801, loss_g: 3.191\n",
      "Time cost in one epoch 4.364427804946899 s\n",
      "[29/2000] loss_d: -1.738, loss_g: 2.025\n",
      "Time cost in one epoch 5.003641605377197 s\n",
      "[30/2000] loss_d: -1.704, loss_g: 0.157\n",
      "Time cost in one epoch 4.3999128341674805 s\n",
      "[31/2000] loss_d: -1.654, loss_g: 0.730\n",
      "Time cost in one epoch 4.371699810028076 s\n",
      "[32/2000] loss_d: -1.605, loss_g: 0.368\n",
      "Time cost in one epoch 4.3301520347595215 s\n",
      "[33/2000] loss_d: -1.618, loss_g: 0.504\n",
      "Time cost in one epoch 4.46607780456543 s\n",
      "[34/2000] loss_d: -1.562, loss_g: 0.299\n",
      "Time cost in one epoch 4.4108216762542725 s\n",
      "[35/2000] loss_d: -1.580, loss_g: 1.417\n",
      "Time cost in one epoch 4.483160734176636 s\n",
      "[36/2000] loss_d: -1.587, loss_g: 1.755\n",
      "Time cost in one epoch 5.059366464614868 s\n",
      "[37/2000] loss_d: -1.562, loss_g: 3.394\n",
      "Time cost in one epoch 4.417539358139038 s\n",
      "[38/2000] loss_d: -1.516, loss_g: 2.433\n",
      "Time cost in one epoch 4.46139669418335 s\n",
      "[39/2000] loss_d: -1.493, loss_g: 3.140\n",
      "Time cost in one epoch 4.362675666809082 s\n",
      "[40/2000] loss_d: -1.513, loss_g: 3.595\n",
      "Time cost in one epoch 4.5831544399261475 s\n",
      "[41/2000] loss_d: -1.471, loss_g: 1.661\n",
      "Time cost in one epoch 4.453537464141846 s\n",
      "[42/2000] loss_d: -1.490, loss_g: 3.946\n",
      "Time cost in one epoch 4.463672637939453 s\n",
      "[43/2000] loss_d: -1.443, loss_g: 3.173\n",
      "Time cost in one epoch 4.587508678436279 s\n",
      "[44/2000] loss_d: -1.402, loss_g: 2.918\n",
      "Time cost in one epoch 4.47581148147583 s\n",
      "[45/2000] loss_d: -1.372, loss_g: 3.721\n",
      "Time cost in one epoch 4.4441540241241455 s\n",
      "[46/2000] loss_d: -1.345, loss_g: 4.023\n",
      "Time cost in one epoch 4.4349119663238525 s\n",
      "[47/2000] loss_d: -1.335, loss_g: 3.570\n",
      "Time cost in one epoch 4.74231219291687 s\n",
      "[48/2000] loss_d: -1.333, loss_g: 4.488\n",
      "Time cost in one epoch 4.519860744476318 s\n",
      "[49/2000] loss_d: -1.250, loss_g: 5.178\n",
      "Time cost in one epoch 4.4708638191223145 s\n",
      "[50/2000] loss_d: -1.245, loss_g: 6.304\n"
     ]
    },
    {
     "data": {
      "text/plain": [
       "<Figure size 640x480 with 0 Axes>"
      ]
     },
     "metadata": {},
     "output_type": "display_data"
    },
    {
     "data": {
      "image/png": "[encoded data removed]",
      "text/plain": [
       "<Figure size 300x300 with 1 Axes>"
      ]
     },
     "metadata": {},
     "output_type": "display_data"
    },
    {
     "data": {
      "image/png": "[encoded data removed]",
      "text/plain": [
       "<Figure size 300x300 with 1 Axes>"
      ]
     },
     "metadata": {},
     "output_type": "display_data"
    },
    {
     "name": "stdout",
     "output_type": "stream",
     "text": [
      "Time cost in one epoch 4.791692733764648 s\n",
      "[51/2000] loss_d: -1.241, loss_g: 7.537\n",
      "Time cost in one epoch 4.548080205917358 s\n",
      "[52/2000] loss_d: -1.168, loss_g: 8.559\n",
      "Time cost in one epoch 4.600311279296875 s\n",
      "[53/2000] loss_d: -1.114, loss_g: 7.720\n",
      "Time cost in one epoch 4.43528413772583 s\n",
      "[54/2000] loss_d: -1.128, loss_g: 9.201\n",
      "Time cost in one epoch 4.840405225753784 s\n",
      "[55/2000] loss_d: -1.111, loss_g: 8.595\n",
      "Time cost in one epoch 4.541079759597778 s\n",
      "[56/2000] loss_d: -1.060, loss_g: 9.146\n",
      "Time cost in one epoch 4.51631498336792 s\n",
      "[57/2000] loss_d: -1.130, loss_g: 8.774\n",
      "Time cost in one epoch 4.536667346954346 s\n",
      "[58/2000] loss_d: -1.091, loss_g: 10.236\n",
      "Time cost in one epoch 5.128105163574219 s\n",
      "[59/2000] loss_d: -1.017, loss_g: 11.107\n",
      "Time cost in one epoch 4.455018043518066 s\n",
      "[60/2000] loss_d: -1.027, loss_g: 11.089\n",
      "Time cost in one epoch 4.42401385307312 s\n",
      "[61/2000] loss_d: -1.045, loss_g: 11.985\n",
      "Time cost in one epoch 4.746657609939575 s\n",
      "[62/2000] loss_d: -1.010, loss_g: 12.309\n",
      "Time cost in one epoch 4.509122848510742 s\n",
      "[63/2000] loss_d: -0.984, loss_g: 12.056\n",
      "Time cost in one epoch 4.502129793167114 s\n",
      "[64/2000] loss_d: -0.970, loss_g: 12.186\n",
      "Time cost in one epoch 4.823857307434082 s\n",
      "[65/2000] loss_d: -1.008, loss_g: 11.591\n",
      "Time cost in one epoch 4.5817272663116455 s\n",
      "[66/2000] loss_d: -0.982, loss_g: 12.056\n",
      "Time cost in one epoch 4.509152173995972 s\n",
      "[67/2000] loss_d: -0.939, loss_g: 11.808\n",
      "Time cost in one epoch 4.484729528427124 s\n",
      "[68/2000] loss_d: -0.937, loss_g: 11.287\n",
      "Time cost in one epoch 4.696340322494507 s\n",
      "[69/2000] loss_d: -0.920, loss_g: 12.307\n",
      "Time cost in one epoch 4.594269752502441 s\n",
      "[70/2000] loss_d: -0.886, loss_g: 12.808\n",
      "Time cost in one epoch 4.5602638721466064 s\n",
      "[71/2000] loss_d: -0.911, loss_g: 11.582\n",
      "Time cost in one epoch 4.5926172733306885 s\n",
      "[72/2000] loss_d: -0.873, loss_g: 12.253\n",
      "Time cost in one epoch 4.467767715454102 s\n",
      "[73/2000] loss_d: -0.807, loss_g: 12.545\n",
      "Time cost in one epoch 4.484513759613037 s\n",
      "[74/2000] loss_d: -0.841, loss_g: 12.445\n",
      "Time cost in one epoch 4.539567947387695 s\n",
      "[75/2000] loss_d: -0.785, loss_g: 13.710\n"
     ]
    },
    {
     "data": {
      "text/plain": [
       "<Figure size 640x480 with 0 Axes>"
      ]
     },
     "metadata": {},
     "output_type": "display_data"
    },
    {
     "data": {
      "image/png": "[encoded data removed]",
      "text/plain": [
       "<Figure size 300x300 with 1 Axes>"
      ]
     },
     "metadata": {},
     "output_type": "display_data"
    },
    {
     "data": {
      "image/png": "[encoded data removed]",
      "text/plain": [
       "<Figure size 300x300 with 1 Axes>"
      ]
     },
     "metadata": {},
     "output_type": "display_data"
    },
    {
     "name": "stdout",
     "output_type": "stream",
     "text": [
      "Time cost in one epoch 4.912707090377808 s\n",
      "[76/2000] loss_d: -0.768, loss_g: 13.506\n",
      "Time cost in one epoch 4.525192737579346 s\n",
      "[77/2000] loss_d: -0.772, loss_g: 14.809\n",
      "Time cost in one epoch 4.48235297203064 s\n",
      "[78/2000] loss_d: -0.757, loss_g: 14.085\n",
      "Time cost in one epoch 4.499424695968628 s\n",
      "[79/2000] loss_d: -0.718, loss_g: 14.050\n",
      "Time cost in one epoch 4.539425849914551 s\n",
      "[80/2000] loss_d: -0.660, loss_g: 14.676\n",
      "Time cost in one epoch 4.4983086585998535 s\n",
      "[81/2000] loss_d: -0.662, loss_g: 15.672\n",
      "Time cost in one epoch 4.4779558181762695 s\n",
      "[82/2000] loss_d: -0.671, loss_g: 14.389\n",
      "Time cost in one epoch 4.692969083786011 s\n",
      "[83/2000] loss_d: -0.642, loss_g: 13.164\n",
      "Time cost in one epoch 4.504785776138306 s\n",
      "[84/2000] loss_d: -0.581, loss_g: 13.686\n",
      "Time cost in one epoch 4.518786191940308 s\n",
      "[85/2000] loss_d: -0.616, loss_g: 14.172\n",
      "Time cost in one epoch 4.4682533740997314 s\n",
      "[86/2000] loss_d: -0.624, loss_g: 13.328\n",
      "Time cost in one epoch 4.471971035003662 s\n",
      "[87/2000] loss_d: -0.563, loss_g: 14.144\n",
      "Time cost in one epoch 4.513720989227295 s\n",
      "[88/2000] loss_d: -0.560, loss_g: 14.797\n",
      "Time cost in one epoch 4.545118808746338 s\n",
      "[89/2000] loss_d: -0.563, loss_g: 14.152\n",
      "Time cost in one epoch 5.95091986656189 s\n",
      "[90/2000] loss_d: -0.530, loss_g: 14.125\n",
      "Time cost in one epoch 9.688982248306274 s\n",
      "[91/2000] loss_d: -0.546, loss_g: 14.105\n",
      "Time cost in one epoch 9.992507696151733 s\n",
      "[92/2000] loss_d: -0.526, loss_g: 14.446\n",
      "Time cost in one epoch 10.249155282974243 s\n",
      "[93/2000] loss_d: -0.551, loss_g: 13.891\n",
      "Time cost in one epoch 9.495149612426758 s\n",
      "[94/2000] loss_d: -0.546, loss_g: 13.394\n",
      "Time cost in one epoch 9.8983895778656 s\n",
      "[95/2000] loss_d: -0.579, loss_g: 12.744\n",
      "Time cost in one epoch 9.130449295043945 s\n",
      "[96/2000] loss_d: -0.519, loss_g: 12.792\n",
      "Time cost in one epoch 4.130163908004761 s\n",
      "[97/2000] loss_d: -0.500, loss_g: 13.186\n",
      "Time cost in one epoch 4.089941501617432 s\n",
      "[98/2000] loss_d: -0.537, loss_g: 12.877\n",
      "Time cost in one epoch 4.07907247543335 s\n",
      "[99/2000] loss_d: -0.482, loss_g: 13.594\n",
      "Time cost in one epoch 4.1392502784729 s\n",
      "[100/2000] loss_d: -0.505, loss_g: 14.122\n"
     ]
    },
    {
     "data": {
      "text/plain": [
       "<Figure size 640x480 with 0 Axes>"
      ]
     },
     "metadata": {},
     "output_type": "display_data"
    },
    {
     "data": {
      "image/png": "[encoded data removed]",
      "text/plain": [
       "<Figure size 300x300 with 1 Axes>"
      ]
     },
     "metadata": {},
     "output_type": "display_data"
    },
    {
     "data": {
      "image/png": "[encoded data removed]",
      "text/plain": [
       "<Figure size 300x300 with 1 Axes>"
      ]
     },
     "metadata": {},
     "output_type": "display_data"
    },
    {
     "name": "stdout",
     "output_type": "stream",
     "text": [
      "Time cost in one epoch 4.2847747802734375 s\n",
      "[101/2000] loss_d: -0.511, loss_g: 13.000\n",
      "Time cost in one epoch 4.14048433303833 s\n",
      "[102/2000] loss_d: -0.578, loss_g: 10.677\n",
      "Time cost in one epoch 4.24529242515564 s\n",
      "[103/2000] loss_d: -0.504, loss_g: 10.629\n",
      "Time cost in one epoch 4.242696046829224 s\n",
      "[104/2000] loss_d: -0.439, loss_g: 11.247\n",
      "Time cost in one epoch 4.1953349113464355 s\n",
      "[105/2000] loss_d: -0.496, loss_g: 9.735\n",
      "Time cost in one epoch 4.229424238204956 s\n",
      "[106/2000] loss_d: -0.449, loss_g: 11.364\n",
      "Time cost in one epoch 4.204338788986206 s\n",
      "[107/2000] loss_d: -0.471, loss_g: 11.530\n",
      "Time cost in one epoch 4.215071439743042 s\n",
      "[108/2000] loss_d: -0.475, loss_g: 10.413\n",
      "Time cost in one epoch 4.299761056900024 s\n",
      "[109/2000] loss_d: -0.435, loss_g: 10.143\n",
      "Time cost in one epoch 4.263819456100464 s\n",
      "[110/2000] loss_d: -0.427, loss_g: 10.113\n",
      "Time cost in one epoch 4.334280014038086 s\n",
      "[111/2000] loss_d: -0.455, loss_g: 10.583\n",
      "Time cost in one epoch 4.484516620635986 s\n",
      "[112/2000] loss_d: -0.458, loss_g: 10.958\n",
      "Time cost in one epoch 4.24148154258728 s\n",
      "[113/2000] loss_d: -0.435, loss_g: 10.063\n",
      "Time cost in one epoch 4.266740322113037 s\n",
      "[114/2000] loss_d: -0.424, loss_g: 10.382\n",
      "Time cost in one epoch 4.356980800628662 s\n",
      "[115/2000] loss_d: -0.440, loss_g: 10.276\n",
      "Time cost in one epoch 4.31936240196228 s\n",
      "[116/2000] loss_d: -0.457, loss_g: 9.171\n",
      "Time cost in one epoch 4.293121576309204 s\n",
      "[117/2000] loss_d: -0.439, loss_g: 9.850\n",
      "Time cost in one epoch 4.361829996109009 s\n",
      "[118/2000] loss_d: -0.461, loss_g: 8.817\n",
      "Time cost in one epoch 4.3526294231414795 s\n",
      "[119/2000] loss_d: -0.411, loss_g: 9.602\n",
      "Time cost in one epoch 4.461233615875244 s\n",
      "[120/2000] loss_d: -0.399, loss_g: 9.153\n",
      "Time cost in one epoch 4.3056230545043945 s\n",
      "[121/2000] loss_d: -0.409, loss_g: 8.758\n",
      "Time cost in one epoch 4.375288009643555 s\n",
      "[122/2000] loss_d: -0.423, loss_g: 7.382\n",
      "Time cost in one epoch 4.439421653747559 s\n",
      "[123/2000] loss_d: -0.418, loss_g: 7.105\n",
      "Time cost in one epoch 4.369336366653442 s\n",
      "[124/2000] loss_d: -0.412, loss_g: 7.300\n",
      "Time cost in one epoch 4.311384677886963 s\n",
      "[125/2000] loss_d: -0.422, loss_g: 7.925\n"
     ]
    },
    {
     "data": {
      "text/plain": [
       "<Figure size 640x480 with 0 Axes>"
      ]
     },
     "metadata": {},
     "output_type": "display_data"
    },
    {
     "data": {
      "image/png": "[encoded data removed]",
      "text/plain": [
       "<Figure size 300x300 with 1 Axes>"
      ]
     },
     "metadata": {},
     "output_type": "display_data"
    },
    {
     "data": {
      "image/png": "[encoded data removed]",
      "text/plain": [
       "<Figure size 300x300 with 1 Axes>"
      ]
     },
     "metadata": {},
     "output_type": "display_data"
    },
    {
     "name": "stdout",
     "output_type": "stream",
     "text": [
      "Time cost in one epoch 4.629894495010376 s\n",
      "[126/2000] loss_d: -0.432, loss_g: 7.593\n",
      "Time cost in one epoch 4.566226959228516 s\n",
      "[127/2000] loss_d: -0.404, loss_g: 6.221\n",
      "Time cost in one epoch 4.37778639793396 s\n",
      "[128/2000] loss_d: -0.438, loss_g: 7.183\n",
      "Time cost in one epoch 4.39601469039917 s\n",
      "[129/2000] loss_d: -0.412, loss_g: 7.453\n",
      "Time cost in one epoch 4.391293525695801 s\n",
      "[130/2000] loss_d: -0.419, loss_g: 7.830\n",
      "Time cost in one epoch 4.400841236114502 s\n",
      "[131/2000] loss_d: -0.465, loss_g: 6.928\n",
      "Time cost in one epoch 4.310945510864258 s\n",
      "[132/2000] loss_d: -0.362, loss_g: 7.090\n",
      "Time cost in one epoch 4.337177991867065 s\n",
      "[133/2000] loss_d: -0.427, loss_g: 7.740\n",
      "Time cost in one epoch 4.543024063110352 s\n",
      "[134/2000] loss_d: -0.399, loss_g: 7.360\n",
      "Time cost in one epoch 4.422602891921997 s\n",
      "[135/2000] loss_d: -0.394, loss_g: 7.025\n",
      "Time cost in one epoch 4.377195596694946 s\n",
      "[136/2000] loss_d: -0.425, loss_g: 6.795\n",
      "Time cost in one epoch 4.306187629699707 s\n",
      "[137/2000] loss_d: -0.362, loss_g: 5.800\n",
      "Time cost in one epoch 4.398044586181641 s\n",
      "[138/2000] loss_d: -0.419, loss_g: 5.879\n",
      "Time cost in one epoch 4.3697168827056885 s\n",
      "[139/2000] loss_d: -0.342, loss_g: 6.395\n",
      "Time cost in one epoch 4.422339200973511 s\n",
      "[140/2000] loss_d: -0.423, loss_g: 4.806\n",
      "Time cost in one epoch 4.380648851394653 s\n",
      "[141/2000] loss_d: -0.398, loss_g: 5.866\n",
      "Time cost in one epoch 4.458831787109375 s\n",
      "[142/2000] loss_d: -0.432, loss_g: 5.395\n",
      "Time cost in one epoch 4.370668411254883 s\n",
      "[143/2000] loss_d: -0.399, loss_g: 4.340\n",
      "Time cost in one epoch 4.4079203605651855 s\n",
      "[144/2000] loss_d: -0.352, loss_g: 5.739\n",
      "Time cost in one epoch 4.541290760040283 s\n",
      "[145/2000] loss_d: -0.356, loss_g: 5.790\n",
      "Time cost in one epoch 4.407294988632202 s\n",
      "[146/2000] loss_d: -0.365, loss_g: 6.495\n",
      "Time cost in one epoch 4.469296932220459 s\n",
      "[147/2000] loss_d: -0.325, loss_g: 6.665\n",
      "Time cost in one epoch 4.369975328445435 s\n",
      "[148/2000] loss_d: -0.327, loss_g: 7.027\n",
      "Time cost in one epoch 4.423539400100708 s\n",
      "[149/2000] loss_d: -0.343, loss_g: 5.744\n",
      "Time cost in one epoch 4.3344175815582275 s\n",
      "[150/2000] loss_d: -0.389, loss_g: 6.322\n"
     ]
    },
    {
     "data": {
      "text/plain": [
       "<Figure size 640x480 with 0 Axes>"
      ]
     },
     "metadata": {},
     "output_type": "display_data"
    },
    {
     "data": {
      "image/png": "[encoded data removed]",
      "text/plain": [
       "<Figure size 300x300 with 1 Axes>"
      ]
     },
     "metadata": {},
     "output_type": "display_data"
    },
    {
     "data": {
      "image/png": "[encoded data removed]",
      "text/plain": [
       "<Figure size 300x300 with 1 Axes>"
      ]
     },
     "metadata": {},
     "output_type": "display_data"
    },
    {
     "name": "stdout",
     "output_type": "stream",
     "text": [
      "Time cost in one epoch 4.7219932079315186 s\n",
      "[151/2000] loss_d: -0.372, loss_g: 5.162\n",
      "Time cost in one epoch 4.758833169937134 s\n",
      "[152/2000] loss_d: -0.420, loss_g: 4.821\n",
      "Time cost in one epoch 4.39576268196106 s\n",
      "[153/2000] loss_d: -0.366, loss_g: 4.358\n",
      "Time cost in one epoch 4.3483452796936035 s\n",
      "[154/2000] loss_d: -0.322, loss_g: 4.246\n",
      "Time cost in one epoch 4.4540205001831055 s\n",
      "[155/2000] loss_d: -0.300, loss_g: 5.021\n",
      "Time cost in one epoch 4.37986421585083 s\n",
      "[156/2000] loss_d: -0.352, loss_g: 3.390\n",
      "Time cost in one epoch 4.380525827407837 s\n",
      "[157/2000] loss_d: -0.355, loss_g: 4.843\n",
      "Time cost in one epoch 4.444411277770996 s\n",
      "[158/2000] loss_d: -0.351, loss_g: 5.125\n",
      "Time cost in one epoch 4.4993577003479 s\n",
      "[159/2000] loss_d: -0.341, loss_g: 5.476\n",
      "Time cost in one epoch 4.393747806549072 s\n",
      "[160/2000] loss_d: -0.315, loss_g: 5.715\n",
      "Time cost in one epoch 4.3953423500061035 s\n",
      "[161/2000] loss_d: -0.363, loss_g: 4.862\n",
      "Time cost in one epoch 4.415761947631836 s\n",
      "[162/2000] loss_d: -0.339, loss_g: 5.211\n",
      "Time cost in one epoch 4.456524133682251 s\n",
      "[163/2000] loss_d: -0.407, loss_g: 4.635\n",
      "Time cost in one epoch 4.412860870361328 s\n",
      "[164/2000] loss_d: -0.344, loss_g: 4.875\n",
      "Time cost in one epoch 4.342192888259888 s\n",
      "[165/2000] loss_d: -0.339, loss_g: 4.672\n",
      "Time cost in one epoch 4.409793853759766 s\n",
      "[166/2000] loss_d: -0.325, loss_g: 5.205\n",
      "Time cost in one epoch 4.363508939743042 s\n",
      "[167/2000] loss_d: -0.305, loss_g: 6.093\n",
      "Time cost in one epoch 4.537658929824829 s\n",
      "[168/2000] loss_d: -0.362, loss_g: 6.009\n",
      "Time cost in one epoch 4.878250598907471 s\n",
      "[169/2000] loss_d: -0.341, loss_g: 6.013\n",
      "Time cost in one epoch 9.516844987869263 s\n",
      "[170/2000] loss_d: -0.317, loss_g: 5.510\n",
      "Time cost in one epoch 9.485577583312988 s\n",
      "[171/2000] loss_d: -0.306, loss_g: 5.715\n",
      "Time cost in one epoch 9.43246340751648 s\n",
      "[172/2000] loss_d: -0.349, loss_g: 4.492\n",
      "Time cost in one epoch 9.464045524597168 s\n",
      "[173/2000] loss_d: -0.406, loss_g: 4.213\n",
      "Time cost in one epoch 9.471771240234375 s\n",
      "[174/2000] loss_d: -0.369, loss_g: 3.769\n",
      "Time cost in one epoch 8.78592848777771 s\n",
      "[175/2000] loss_d: -0.373, loss_g: 5.086\n"
     ]
    },
    {
     "data": {
      "text/plain": [
       "<Figure size 640x480 with 0 Axes>"
      ]
     },
     "metadata": {},
     "output_type": "display_data"
    },
    {
     "data": {
      "image/png": "[encoded data removed]",
      "text/plain": [
       "<Figure size 300x300 with 1 Axes>"
      ]
     },
     "metadata": {},
     "output_type": "display_data"
    },
    {
     "data": {
      "image/png": "[encoded data removed]",
      "text/plain": [
       "<Figure size 300x300 with 1 Axes>"
      ]
     },
     "metadata": {},
     "output_type": "display_data"
    },
    {
     "name": "stdout",
     "output_type": "stream",
     "text": [
      "Time cost in one epoch 4.2666802406311035 s\n",
      "[176/2000] loss_d: -0.260, loss_g: 3.689\n",
      "Time cost in one epoch 4.181392669677734 s\n",
      "[177/2000] loss_d: -0.360, loss_g: 4.694\n",
      "Time cost in one epoch 4.1553473472595215 s\n",
      "[178/2000] loss_d: -0.336, loss_g: 4.928\n",
      "Time cost in one epoch 4.086597919464111 s\n",
      "[179/2000] loss_d: -0.311, loss_g: 5.523\n",
      "Time cost in one epoch 4.172497034072876 s\n",
      "[180/2000] loss_d: -0.351, loss_g: 4.811\n",
      "Time cost in one epoch 4.171691417694092 s\n",
      "[181/2000] loss_d: -0.336, loss_g: 5.819\n",
      "Time cost in one epoch 4.265415668487549 s\n",
      "[182/2000] loss_d: -0.289, loss_g: 4.119\n",
      "Time cost in one epoch 4.182959318161011 s\n",
      "[183/2000] loss_d: -0.296, loss_g: 5.577\n",
      "Time cost in one epoch 4.222052812576294 s\n",
      "[184/2000] loss_d: -0.308, loss_g: 4.340\n",
      "Time cost in one epoch 4.252044439315796 s\n",
      "[185/2000] loss_d: -0.275, loss_g: 4.616\n",
      "Time cost in one epoch 4.238561153411865 s\n",
      "[186/2000] loss_d: -0.335, loss_g: 4.515\n",
      "Time cost in one epoch 4.21208930015564 s\n",
      "[187/2000] loss_d: -0.322, loss_g: 4.785\n",
      "Time cost in one epoch 4.281839609146118 s\n",
      "[188/2000] loss_d: -0.342, loss_g: 4.262\n",
      "Time cost in one epoch 4.224812269210815 s\n",
      "[189/2000] loss_d: -0.281, loss_g: 3.791\n",
      "Time cost in one epoch 4.219295501708984 s\n",
      "[190/2000] loss_d: -0.240, loss_g: 4.938\n",
      "Time cost in one epoch 4.328364133834839 s\n",
      "[191/2000] loss_d: -0.337, loss_g: 5.886\n",
      "Time cost in one epoch 4.255303382873535 s\n",
      "[192/2000] loss_d: -0.280, loss_g: 5.967\n",
      "Time cost in one epoch 4.4309515953063965 s\n",
      "[193/2000] loss_d: -0.311, loss_g: 5.608\n",
      "Time cost in one epoch 4.284933567047119 s\n",
      "[194/2000] loss_d: -0.408, loss_g: 2.760\n",
      "Time cost in one epoch 4.31148099899292 s\n",
      "[195/2000] loss_d: -0.387, loss_g: 4.157\n",
      "Time cost in one epoch 4.389162540435791 s\n",
      "[196/2000] loss_d: -0.331, loss_g: 3.095\n",
      "Time cost in one epoch 4.262243747711182 s\n",
      "[197/2000] loss_d: -0.327, loss_g: 2.196\n",
      "Time cost in one epoch 4.284542798995972 s\n",
      "[198/2000] loss_d: -0.277, loss_g: 3.782\n",
      "Time cost in one epoch 4.306578159332275 s\n",
      "[199/2000] loss_d: -0.426, loss_g: 1.858\n",
      "Time cost in one epoch 4.386128187179565 s\n",
      "[200/2000] loss_d: -0.274, loss_g: 2.188\n"
     ]
    },
    {
     "data": {
      "text/plain": [
       "<Figure size 640x480 with 0 Axes>"
      ]
     },
     "metadata": {},
     "output_type": "display_data"
    },
    {
     "data": {
      "image/png": "[encoded data removed]",
      "text/plain": [
       "<Figure size 300x300 with 1 Axes>"
      ]
     },
     "metadata": {},
     "output_type": "display_data"
    },
    {
     "data": {
      "image/png": "[encoded data removed]",
      "text/plain": [
       "<Figure size 300x300 with 1 Axes>"
      ]
     },
     "metadata": {},
     "output_type": "display_data"
    },
    {
     "name": "stdout",
     "output_type": "stream",
     "text": [
      "Time cost in one epoch 4.48845100402832 s\n",
      "[201/2000] loss_d: -0.342, loss_g: 1.901\n",
      "Time cost in one epoch 4.340174674987793 s\n",
      "[202/2000] loss_d: -0.414, loss_g: 1.341\n",
      "Time cost in one epoch 4.313870906829834 s\n",
      "[203/2000] loss_d: -0.273, loss_g: 2.732\n",
      "Time cost in one epoch 4.594280242919922 s\n",
      "[204/2000] loss_d: -0.350, loss_g: 2.427\n",
      "Time cost in one epoch 4.357180595397949 s\n",
      "[205/2000] loss_d: -0.279, loss_g: 1.411\n",
      "Time cost in one epoch 4.372452735900879 s\n",
      "[206/2000] loss_d: -0.311, loss_g: 1.780\n",
      "Time cost in one epoch 4.380892515182495 s\n",
      "[207/2000] loss_d: -0.321, loss_g: 2.025\n",
      "Time cost in one epoch 4.305988550186157 s\n",
      "[208/2000] loss_d: -0.422, loss_g: 2.602\n",
      "Time cost in one epoch 4.4139933586120605 s\n",
      "[209/2000] loss_d: -0.329, loss_g: 1.980\n",
      "Time cost in one epoch 4.353132009506226 s\n",
      "[210/2000] loss_d: -0.251, loss_g: 2.533\n",
      "Time cost in one epoch 4.346404075622559 s\n",
      "[211/2000] loss_d: -0.306, loss_g: 2.640\n",
      "Time cost in one epoch 4.408122777938843 s\n",
      "[212/2000] loss_d: -0.279, loss_g: 1.760\n",
      "Time cost in one epoch 4.402085542678833 s\n",
      "[213/2000] loss_d: -0.277, loss_g: 2.071\n",
      "Time cost in one epoch 4.34321141242981 s\n",
      "[214/2000] loss_d: -0.188, loss_g: 2.476\n",
      "Time cost in one epoch 4.5313780307769775 s\n",
      "[215/2000] loss_d: -0.338, loss_g: 1.395\n",
      "Time cost in one epoch 4.318965196609497 s\n",
      "[216/2000] loss_d: -0.319, loss_g: 0.851\n",
      "Time cost in one epoch 4.347987651824951 s\n",
      "[217/2000] loss_d: -0.391, loss_g: 1.668\n",
      "Time cost in one epoch 4.4297356605529785 s\n",
      "[218/2000] loss_d: -0.429, loss_g: 0.979\n",
      "Time cost in one epoch 4.370990753173828 s\n",
      "[219/2000] loss_d: -0.384, loss_g: 2.512\n",
      "Time cost in one epoch 4.35361123085022 s\n",
      "[220/2000] loss_d: -0.222, loss_g: 2.610\n",
      "Time cost in one epoch 4.407487154006958 s\n",
      "[221/2000] loss_d: -0.280, loss_g: 1.160\n",
      "Time cost in one epoch 4.376137018203735 s\n",
      "[222/2000] loss_d: -0.279, loss_g: 1.995\n",
      "Time cost in one epoch 4.988919019699097 s\n",
      "[223/2000] loss_d: -0.325, loss_g: 1.259\n",
      "Time cost in one epoch 9.660386323928833 s\n",
      "[224/2000] loss_d: -0.331, loss_g: 1.423\n",
      "Time cost in one epoch 9.624343872070312 s\n",
      "[225/2000] loss_d: -0.288, loss_g: 0.656\n"
     ]
    },
    {
     "data": {
      "text/plain": [
       "<Figure size 640x480 with 0 Axes>"
      ]
     },
     "metadata": {},
     "output_type": "display_data"
    },
    {
     "data": {
      "image/png": "[encoded data removed]",
      "text/plain": [
       "<Figure size 300x300 with 1 Axes>"
      ]
     },
     "metadata": {},
     "output_type": "display_data"
    },
    {
     "data": {
      "image/png": "[encoded data removed]",
      "text/plain": [
       "<Figure size 300x300 with 1 Axes>"
      ]
     },
     "metadata": {},
     "output_type": "display_data"
    },
    {
     "name": "stdout",
     "output_type": "stream",
     "text": [
      "Time cost in one epoch 10.320637702941895 s\n",
      "[226/2000] loss_d: -0.352, loss_g: -0.103\n",
      "Time cost in one epoch 9.404937982559204 s\n",
      "[227/2000] loss_d: -0.250, loss_g: -0.181\n",
      "Time cost in one epoch 9.449413776397705 s\n",
      "[228/2000] loss_d: -0.455, loss_g: -0.138\n",
      "Time cost in one epoch 8.439737558364868 s\n",
      "[229/2000] loss_d: -0.346, loss_g: -1.000\n",
      "Time cost in one epoch 4.098562240600586 s\n",
      "[230/2000] loss_d: -0.347, loss_g: -1.977\n",
      "Time cost in one epoch 4.128284215927124 s\n",
      "[231/2000] loss_d: -0.384, loss_g: -1.438\n",
      "Time cost in one epoch 4.1102635860443115 s\n",
      "[232/2000] loss_d: -0.333, loss_g: -0.021\n",
      "Time cost in one epoch 4.193296432495117 s\n",
      "[233/2000] loss_d: -0.345, loss_g: 0.046\n",
      "Time cost in one epoch 4.110497236251831 s\n",
      "[234/2000] loss_d: -0.316, loss_g: -1.278\n",
      "Time cost in one epoch 4.178662538528442 s\n",
      "[235/2000] loss_d: -0.252, loss_g: -0.785\n",
      "Time cost in one epoch 4.136415958404541 s\n",
      "[236/2000] loss_d: -0.224, loss_g: -2.259\n",
      "Time cost in one epoch 4.209818363189697 s\n",
      "[237/2000] loss_d: -0.218, loss_g: 0.603\n",
      "Time cost in one epoch 4.208103895187378 s\n",
      "[238/2000] loss_d: -0.222, loss_g: 1.013\n",
      "Time cost in one epoch 4.198207855224609 s\n",
      "[239/2000] loss_d: -0.314, loss_g: 0.184\n",
      "Time cost in one epoch 4.18665075302124 s\n",
      "[240/2000] loss_d: -0.200, loss_g: 0.356\n",
      "Time cost in one epoch 4.230535984039307 s\n",
      "[241/2000] loss_d: -0.447, loss_g: 1.100\n",
      "Time cost in one epoch 4.3142664432525635 s\n",
      "[242/2000] loss_d: -0.219, loss_g: 0.865\n",
      "Time cost in one epoch 4.281722784042358 s\n",
      "[243/2000] loss_d: -0.420, loss_g: 0.473\n",
      "Time cost in one epoch 4.271392583847046 s\n",
      "[244/2000] loss_d: -0.272, loss_g: 1.010\n",
      "Time cost in one epoch 4.489304542541504 s\n",
      "[245/2000] loss_d: -0.266, loss_g: 1.326\n",
      "Time cost in one epoch 4.246495723724365 s\n",
      "[246/2000] loss_d: -0.334, loss_g: 2.624\n",
      "Time cost in one epoch 4.293061971664429 s\n",
      "[247/2000] loss_d: -0.209, loss_g: 0.191\n",
      "Time cost in one epoch 4.327141761779785 s\n",
      "[248/2000] loss_d: -0.283, loss_g: 2.518\n",
      "Time cost in one epoch 4.251620769500732 s\n",
      "[249/2000] loss_d: -0.141, loss_g: 0.488\n",
      "Time cost in one epoch 4.272045850753784 s\n",
      "[250/2000] loss_d: -0.305, loss_g: 2.389\n"
     ]
    },
    {
     "data": {
      "text/plain": [
       "<Figure size 640x480 with 0 Axes>"
      ]
     },
     "metadata": {},
     "output_type": "display_data"
    },
    {
     "data": {
      "image/png": "[encoded data removed]",
      "text/plain": [
       "<Figure size 300x300 with 1 Axes>"
      ]
     },
     "metadata": {},
     "output_type": "display_data"
    },
    {
     "data": {
      "image/png": "[encoded data removed]",
      "text/plain": [
       "<Figure size 300x300 with 1 Axes>"
      ]
     },
     "metadata": {},
     "output_type": "display_data"
    },
    {
     "name": "stdout",
     "output_type": "stream",
     "text": [
      "Time cost in one epoch 4.50670599937439 s\n",
      "[251/2000] loss_d: -0.187, loss_g: -0.167\n",
      "Time cost in one epoch 4.243990898132324 s\n",
      "[252/2000] loss_d: -0.309, loss_g: 2.315\n",
      "Time cost in one epoch 4.292559862136841 s\n",
      "[253/2000] loss_d: -0.187, loss_g: 0.028\n",
      "Time cost in one epoch 4.347725868225098 s\n",
      "[254/2000] loss_d: -0.382, loss_g: 0.917\n",
      "Time cost in one epoch 4.356403112411499 s\n",
      "[255/2000] loss_d: -0.275, loss_g: 0.470\n",
      "Time cost in one epoch 4.420543193817139 s\n",
      "[256/2000] loss_d: -0.353, loss_g: 1.484\n",
      "Time cost in one epoch 4.332067489624023 s\n",
      "[257/2000] loss_d: -0.359, loss_g: 2.255\n",
      "Time cost in one epoch 4.333942651748657 s\n",
      "[258/2000] loss_d: -0.406, loss_g: 0.492\n",
      "Time cost in one epoch 4.475417613983154 s\n",
      "[259/2000] loss_d: -0.219, loss_g: 1.225\n",
      "Time cost in one epoch 4.373366832733154 s\n",
      "[260/2000] loss_d: -0.234, loss_g: 1.048\n",
      "Time cost in one epoch 4.339543104171753 s\n",
      "[261/2000] loss_d: -0.304, loss_g: 2.184\n",
      "Time cost in one epoch 4.385517358779907 s\n",
      "[262/2000] loss_d: -0.204, loss_g: 0.260\n",
      "Time cost in one epoch 4.409466505050659 s\n",
      "[263/2000] loss_d: -0.293, loss_g: 2.124\n",
      "Time cost in one epoch 4.36554741859436 s\n",
      "[264/2000] loss_d: -0.259, loss_g: -0.696\n",
      "Time cost in one epoch 4.367444276809692 s\n",
      "[265/2000] loss_d: -0.289, loss_g: 3.135\n",
      "Time cost in one epoch 4.386811256408691 s\n",
      "[266/2000] loss_d: -0.415, loss_g: -0.241\n",
      "Time cost in one epoch 4.607938289642334 s\n",
      "[267/2000] loss_d: -0.286, loss_g: 0.002\n",
      "Time cost in one epoch 4.361982345581055 s\n",
      "[268/2000] loss_d: -0.227, loss_g: 0.913\n",
      "Time cost in one epoch 4.3110032081604 s\n",
      "[269/2000] loss_d: -0.256, loss_g: 1.121\n",
      "Time cost in one epoch 4.403474569320679 s\n",
      "[270/2000] loss_d: -0.420, loss_g: 2.422\n",
      "Time cost in one epoch 4.396316766738892 s\n",
      "[271/2000] loss_d: -0.377, loss_g: -0.484\n",
      "Time cost in one epoch 4.4498450756073 s\n",
      "[272/2000] loss_d: -0.175, loss_g: 0.706\n",
      "Time cost in one epoch 4.403864145278931 s\n",
      "[273/2000] loss_d: -0.194, loss_g: -0.346\n",
      "Time cost in one epoch 4.358773708343506 s\n",
      "[274/2000] loss_d: -0.305, loss_g: 1.051\n",
      "Time cost in one epoch 4.443449258804321 s\n",
      "[275/2000] loss_d: -0.313, loss_g: -0.232\n"
     ]
    },
    {
     "data": {
      "text/plain": [
       "<Figure size 640x480 with 0 Axes>"
      ]
     },
     "metadata": {},
     "output_type": "display_data"
    },
    {
     "data": {
      "image/png": "[encoded data removed]",
      "text/plain": [
       "<Figure size 300x300 with 1 Axes>"
      ]
     },
     "metadata": {},
     "output_type": "display_data"
    },
    {
     "data": {
      "image/png": "[encoded data removed]",
      "text/plain": [
       "<Figure size 300x300 with 1 Axes>"
      ]
     },
     "metadata": {},
     "output_type": "display_data"
    },
    {
     "name": "stdout",
     "output_type": "stream",
     "text": [
      "Time cost in one epoch 5.8190758228302 s\n",
      "[276/2000] loss_d: -0.224, loss_g: 0.009\n",
      "Time cost in one epoch 9.442752361297607 s\n",
      "[277/2000] loss_d: -0.244, loss_g: -2.115\n",
      "Time cost in one epoch 9.420753240585327 s\n",
      "[278/2000] loss_d: -0.261, loss_g: 1.511\n",
      "Time cost in one epoch 9.657639265060425 s\n",
      "[279/2000] loss_d: -0.267, loss_g: -0.911\n",
      "Time cost in one epoch 9.51047968864441 s\n",
      "[280/2000] loss_d: -0.261, loss_g: 0.797\n",
      "Time cost in one epoch 9.424572229385376 s\n",
      "[281/2000] loss_d: -0.228, loss_g: 0.654\n",
      "Time cost in one epoch 9.064949750900269 s\n",
      "[282/2000] loss_d: -0.222, loss_g: -0.841\n",
      "Time cost in one epoch 4.076760292053223 s\n",
      "[283/2000] loss_d: -0.235, loss_g: -2.080\n",
      "Time cost in one epoch 4.096376419067383 s\n",
      "[284/2000] loss_d: -0.294, loss_g: -0.996\n",
      "Time cost in one epoch 4.087514400482178 s\n",
      "[285/2000] loss_d: -0.392, loss_g: 0.300\n",
      "Time cost in one epoch 4.144345045089722 s\n",
      "[286/2000] loss_d: -0.183, loss_g: 1.892\n",
      "Time cost in one epoch 4.141985654830933 s\n",
      "[287/2000] loss_d: -0.229, loss_g: -1.305\n",
      "Time cost in one epoch 4.148259878158569 s\n",
      "[288/2000] loss_d: -0.240, loss_g: -1.287\n",
      "Time cost in one epoch 4.269206285476685 s\n",
      "[289/2000] loss_d: -0.210, loss_g: 3.648\n",
      "Time cost in one epoch 4.167731761932373 s\n",
      "[290/2000] loss_d: -0.333, loss_g: 1.777\n",
      "Time cost in one epoch 4.193450450897217 s\n",
      "[291/2000] loss_d: -0.204, loss_g: 0.206\n",
      "Time cost in one epoch 4.203458070755005 s\n",
      "[292/2000] loss_d: -0.268, loss_g: 2.031\n",
      "Time cost in one epoch 4.317445278167725 s\n",
      "[293/2000] loss_d: -0.458, loss_g: 0.409\n",
      "Time cost in one epoch 4.225246906280518 s\n",
      "[294/2000] loss_d: -0.110, loss_g: -0.217\n",
      "Time cost in one epoch 4.285033464431763 s\n",
      "[295/2000] loss_d: -0.247, loss_g: 1.025\n",
      "Time cost in one epoch 4.3295676708221436 s\n",
      "[296/2000] loss_d: -0.231, loss_g: -1.259\n",
      "Time cost in one epoch 4.360625267028809 s\n",
      "[297/2000] loss_d: -0.252, loss_g: 0.094\n",
      "Time cost in one epoch 4.229135036468506 s\n",
      "[298/2000] loss_d: -0.228, loss_g: -1.540\n",
      "Time cost in one epoch 4.26698112487793 s\n",
      "[299/2000] loss_d: -0.153, loss_g: 0.793\n",
      "Time cost in one epoch 4.298731803894043 s\n",
      "[300/2000] loss_d: -0.241, loss_g: -3.443\n"
     ]
    },
    {
     "data": {
      "text/plain": [
       "<Figure size 640x480 with 0 Axes>"
      ]
     },
     "metadata": {},
     "output_type": "display_data"
    },
    {
     "data": {
      "image/png": "[encoded data removed]",
      "text/plain": [
       "<Figure size 300x300 with 1 Axes>"
      ]
     },
     "metadata": {},
     "output_type": "display_data"
    },
    {
     "data": {
      "image/png": "[encoded data removed]",
      "text/plain": [
       "<Figure size 300x300 with 1 Axes>"
      ]
     },
     "metadata": {},
     "output_type": "display_data"
    },
    {
     "name": "stdout",
     "output_type": "stream",
     "text": [
      "Time cost in one epoch 4.506159782409668 s\n",
      "[301/2000] loss_d: -0.281, loss_g: 1.467\n",
      "Time cost in one epoch 4.336794853210449 s\n",
      "[302/2000] loss_d: -0.230, loss_g: 3.069\n",
      "Time cost in one epoch 4.257182359695435 s\n",
      "[303/2000] loss_d: -0.258, loss_g: -1.115\n",
      "Time cost in one epoch 4.319681167602539 s\n",
      "[304/2000] loss_d: -0.149, loss_g: -1.678\n",
      "Time cost in one epoch 4.405154705047607 s\n",
      "[305/2000] loss_d: -0.294, loss_g: 1.074\n",
      "Time cost in one epoch 4.397382974624634 s\n",
      "[306/2000] loss_d: -0.104, loss_g: 2.136\n",
      "Time cost in one epoch 4.318288803100586 s\n",
      "[307/2000] loss_d: -0.312, loss_g: -0.186\n",
      "Time cost in one epoch 4.474517822265625 s\n",
      "[308/2000] loss_d: -0.161, loss_g: 0.546\n",
      "Time cost in one epoch 4.328921556472778 s\n",
      "[309/2000] loss_d: -0.204, loss_g: -2.278\n",
      "Time cost in one epoch 4.345975399017334 s\n",
      "[310/2000] loss_d: -0.254, loss_g: 0.455\n",
      "Time cost in one epoch 4.380447149276733 s\n",
      "[311/2000] loss_d: -0.306, loss_g: -0.544\n",
      "Time cost in one epoch 4.3632214069366455 s\n",
      "[312/2000] loss_d: -0.317, loss_g: -0.819\n",
      "Time cost in one epoch 4.333688020706177 s\n",
      "[313/2000] loss_d: -0.254, loss_g: -3.002\n",
      "Time cost in one epoch 4.371328830718994 s\n",
      "[314/2000] loss_d: -0.295, loss_g: -2.144\n",
      "Time cost in one epoch 4.40409779548645 s\n",
      "[315/2000] loss_d: -0.168, loss_g: -0.872\n",
      "Time cost in one epoch 4.44911789894104 s\n",
      "[316/2000] loss_d: -0.228, loss_g: -5.184\n",
      "Time cost in one epoch 4.366217136383057 s\n",
      "[317/2000] loss_d: -0.269, loss_g: -0.279\n",
      "Time cost in one epoch 4.327020883560181 s\n",
      "[318/2000] loss_d: -0.189, loss_g: -0.752\n",
      "Time cost in one epoch 4.648471355438232 s\n",
      "[319/2000] loss_d: -0.162, loss_g: -0.265\n",
      "Time cost in one epoch 4.31968092918396 s\n",
      "[320/2000] loss_d: -0.267, loss_g: -2.755\n",
      "Time cost in one epoch 4.4204511642456055 s\n",
      "[321/2000] loss_d: -0.223, loss_g: 2.527\n",
      "Time cost in one epoch 4.452184200286865 s\n",
      "[322/2000] loss_d: -0.245, loss_g: -0.886\n",
      "Time cost in one epoch 4.424343824386597 s\n",
      "[323/2000] loss_d: -0.253, loss_g: -2.961\n",
      "Time cost in one epoch 4.881958723068237 s\n",
      "[324/2000] loss_d: -0.309, loss_g: -0.458\n",
      "Time cost in one epoch 9.581640720367432 s\n",
      "[325/2000] loss_d: -0.350, loss_g: 3.638\n"
     ]
    },
    {
     "data": {
      "text/plain": [
       "<Figure size 640x480 with 0 Axes>"
      ]
     },
     "metadata": {},
     "output_type": "display_data"
    },
    {
     "data": {
      "image/png": "[encoded data removed]",
      "text/plain": [
       "<Figure size 300x300 with 1 Axes>"
      ]
     },
     "metadata": {},
     "output_type": "display_data"
    },
    {
     "data": {
      "image/png": "[encoded data removed]",
      "text/plain": [
       "<Figure size 300x300 with 1 Axes>"
      ]
     },
     "metadata": {},
     "output_type": "display_data"
    },
    {
     "name": "stdout",
     "output_type": "stream",
     "text": [
      "Time cost in one epoch 10.233744144439697 s\n",
      "[326/2000] loss_d: -0.233, loss_g: -1.342\n",
      "Time cost in one epoch 9.45262360572815 s\n",
      "[327/2000] loss_d: -0.233, loss_g: 5.407\n",
      "Time cost in one epoch 9.713799715042114 s\n",
      "[328/2000] loss_d: -0.149, loss_g: 1.240\n",
      "Time cost in one epoch 9.581793308258057 s\n",
      "[329/2000] loss_d: -0.360, loss_g: -4.210\n",
      "Time cost in one epoch 8.824643611907959 s\n",
      "[330/2000] loss_d: -0.192, loss_g: -2.950\n",
      "Time cost in one epoch 4.085198640823364 s\n",
      "[331/2000] loss_d: -0.245, loss_g: -1.792\n",
      "Time cost in one epoch 4.13840389251709 s\n",
      "[332/2000] loss_d: -0.189, loss_g: 0.023\n",
      "Time cost in one epoch 4.167859077453613 s\n",
      "[333/2000] loss_d: -0.293, loss_g: 2.699\n",
      "Time cost in one epoch 4.211108684539795 s\n",
      "[334/2000] loss_d: -0.201, loss_g: 1.335\n",
      "Time cost in one epoch 4.162579298019409 s\n",
      "[335/2000] loss_d: -0.206, loss_g: 5.398\n",
      "Time cost in one epoch 4.198870420455933 s\n",
      "[336/2000] loss_d: -0.202, loss_g: -0.682\n",
      "Time cost in one epoch 4.169003248214722 s\n",
      "[337/2000] loss_d: -0.242, loss_g: 1.360\n",
      "Time cost in one epoch 4.180866956710815 s\n",
      "[338/2000] loss_d: -0.253, loss_g: -1.777\n",
      "Time cost in one epoch 4.164079427719116 s\n",
      "[339/2000] loss_d: -0.335, loss_g: 1.599\n",
      "Time cost in one epoch 4.279767274856567 s\n",
      "[340/2000] loss_d: -0.096, loss_g: 1.676\n",
      "Time cost in one epoch 4.239370346069336 s\n",
      "[341/2000] loss_d: -0.292, loss_g: -4.008\n",
      "Time cost in one epoch 4.236119985580444 s\n",
      "[342/2000] loss_d: -0.191, loss_g: -2.628\n",
      "Time cost in one epoch 4.194749355316162 s\n",
      "[343/2000] loss_d: -0.262, loss_g: 0.399\n",
      "Time cost in one epoch 4.210796356201172 s\n",
      "[344/2000] loss_d: -0.175, loss_g: -3.596\n",
      "Time cost in one epoch 4.343462944030762 s\n",
      "[345/2000] loss_d: -0.243, loss_g: 0.121\n",
      "Time cost in one epoch 4.246756076812744 s\n",
      "[346/2000] loss_d: -0.143, loss_g: -2.446\n",
      "Time cost in one epoch 4.265213966369629 s\n",
      "[347/2000] loss_d: -0.192, loss_g: 0.793\n",
      "Time cost in one epoch 4.285222053527832 s\n",
      "[348/2000] loss_d: -0.256, loss_g: -3.117\n",
      "Time cost in one epoch 4.329413414001465 s\n",
      "[349/2000] loss_d: -0.198, loss_g: -0.077\n",
      "Time cost in one epoch 4.256574392318726 s\n",
      "[350/2000] loss_d: -0.266, loss_g: -0.539\n"
     ]
    },
    {
     "data": {
      "text/plain": [
       "<Figure size 640x480 with 0 Axes>"
      ]
     },
     "metadata": {},
     "output_type": "display_data"
    },
    {
     "data": {
      "image/png": "[encoded data removed]",
      "text/plain": [
       "<Figure size 300x300 with 1 Axes>"
      ]
     },
     "metadata": {},
     "output_type": "display_data"
    },
    {
     "data": {
      "image/png": "[encoded data removed]",
      "text/plain": [
       "<Figure size 300x300 with 1 Axes>"
      ]
     },
     "metadata": {},
     "output_type": "display_data"
    },
    {
     "name": "stdout",
     "output_type": "stream",
     "text": [
      "Time cost in one epoch 4.4714860916137695 s\n",
      "[351/2000] loss_d: -0.317, loss_g: -0.510\n",
      "Time cost in one epoch 4.279578447341919 s\n",
      "[352/2000] loss_d: -0.131, loss_g: 2.996\n",
      "Time cost in one epoch 4.30750036239624 s\n",
      "[353/2000] loss_d: -0.293, loss_g: 1.589\n",
      "Time cost in one epoch 4.381649971008301 s\n",
      "[354/2000] loss_d: -0.164, loss_g: 2.685\n",
      "Time cost in one epoch 4.358110427856445 s\n",
      "[355/2000] loss_d: -0.299, loss_g: 2.613\n",
      "Time cost in one epoch 4.320919752120972 s\n",
      "[356/2000] loss_d: -0.197, loss_g: 1.759\n",
      "Time cost in one epoch 4.320352554321289 s\n",
      "[357/2000] loss_d: -0.242, loss_g: 1.423\n",
      "Time cost in one epoch 4.345177173614502 s\n",
      "[358/2000] loss_d: -0.232, loss_g: 5.222\n",
      "Time cost in one epoch 4.267090320587158 s\n",
      "[359/2000] loss_d: -0.216, loss_g: -0.172\n",
      "Time cost in one epoch 4.532872676849365 s\n",
      "[360/2000] loss_d: -0.171, loss_g: 0.871\n",
      "Time cost in one epoch 4.33780837059021 s\n",
      "[361/2000] loss_d: -0.168, loss_g: -0.735\n",
      "Time cost in one epoch 4.341289281845093 s\n",
      "[362/2000] loss_d: -0.223, loss_g: -0.803\n",
      "Time cost in one epoch 4.34482216835022 s\n",
      "[363/2000] loss_d: -0.100, loss_g: -1.721\n",
      "Time cost in one epoch 4.339950799942017 s\n",
      "[364/2000] loss_d: -0.322, loss_g: -0.672\n",
      "Time cost in one epoch 4.3991053104400635 s\n",
      "[365/2000] loss_d: -0.113, loss_g: -1.564\n",
      "Time cost in one epoch 4.364504337310791 s\n",
      "[366/2000] loss_d: -0.254, loss_g: 0.336\n",
      "Time cost in one epoch 4.360751390457153 s\n",
      "[367/2000] loss_d: -0.190, loss_g: -0.363\n",
      "Time cost in one epoch 4.346766948699951 s\n",
      "[368/2000] loss_d: -0.173, loss_g: -0.311\n",
      "Time cost in one epoch 4.337865829467773 s\n",
      "[369/2000] loss_d: -0.157, loss_g: -1.320\n",
      "Time cost in one epoch 4.392528772354126 s\n",
      "[370/2000] loss_d: -0.243, loss_g: 0.385\n",
      "Time cost in one epoch 4.6099724769592285 s\n",
      "[371/2000] loss_d: -0.251, loss_g: 0.142\n",
      "Time cost in one epoch 4.394941091537476 s\n",
      "[372/2000] loss_d: -0.232, loss_g: -0.785\n",
      "Time cost in one epoch 4.996894836425781 s\n",
      "[373/2000] loss_d: -0.290, loss_g: 0.370\n",
      "Time cost in one epoch 9.564293622970581 s\n",
      "[374/2000] loss_d: -0.063, loss_g: 1.844\n",
      "Time cost in one epoch 9.453413009643555 s\n",
      "[375/2000] loss_d: -0.310, loss_g: -0.491\n"
     ]
    },
    {
     "data": {
      "text/plain": [
       "<Figure size 640x480 with 0 Axes>"
      ]
     },
     "metadata": {},
     "output_type": "display_data"
    },
    {
     "data": {
      "image/png": "[encoded data removed]",
      "text/plain": [
       "<Figure size 300x300 with 1 Axes>"
      ]
     },
     "metadata": {},
     "output_type": "display_data"
    },
    {
     "data": {
      "image/png": "[encoded data removed]",
      "text/plain": [
       "<Figure size 300x300 with 1 Axes>"
      ]
     },
     "metadata": {},
     "output_type": "display_data"
    },
    {
     "name": "stdout",
     "output_type": "stream",
     "text": [
      "Time cost in one epoch 10.492059707641602 s\n",
      "[376/2000] loss_d: -0.217, loss_g: 4.937\n",
      "Time cost in one epoch 10.18459415435791 s\n",
      "[377/2000] loss_d: -0.186, loss_g: -0.167\n",
      "Time cost in one epoch 9.761559247970581 s\n",
      "[378/2000] loss_d: -0.251, loss_g: 2.361\n",
      "Time cost in one epoch 9.904208183288574 s\n",
      "[379/2000] loss_d: -0.179, loss_g: -1.036\n",
      "Time cost in one epoch 8.906402587890625 s\n",
      "[380/2000] loss_d: -0.210, loss_g: 0.801\n",
      "Time cost in one epoch 4.107809066772461 s\n",
      "[381/2000] loss_d: -0.254, loss_g: -2.950\n",
      "Time cost in one epoch 4.184825658798218 s\n",
      "[382/2000] loss_d: -0.230, loss_g: -1.796\n",
      "Time cost in one epoch 4.245920181274414 s\n",
      "[383/2000] loss_d: -0.139, loss_g: -3.080\n",
      "Time cost in one epoch 4.439668893814087 s\n",
      "[384/2000] loss_d: -0.179, loss_g: -2.096\n",
      "Time cost in one epoch 4.394243478775024 s\n",
      "[385/2000] loss_d: -0.192, loss_g: -2.339\n",
      "Time cost in one epoch 4.700321197509766 s\n",
      "[386/2000] loss_d: -0.253, loss_g: -2.069\n",
      "Time cost in one epoch 5.155480146408081 s\n",
      "[387/2000] loss_d: -0.222, loss_g: -1.706\n",
      "Time cost in one epoch 4.841886758804321 s\n",
      "[388/2000] loss_d: -0.226, loss_g: -1.604\n",
      "Time cost in one epoch 5.162654161453247 s\n",
      "[389/2000] loss_d: -0.167, loss_g: -1.617\n",
      "Time cost in one epoch 5.0547168254852295 s\n",
      "[390/2000] loss_d: -0.201, loss_g: 0.176\n",
      "Time cost in one epoch 5.405802965164185 s\n",
      "[391/2000] loss_d: -0.142, loss_g: -2.152\n",
      "Time cost in one epoch 5.134264707565308 s\n",
      "[392/2000] loss_d: -0.205, loss_g: -0.792\n",
      "Time cost in one epoch 5.189178943634033 s\n",
      "[393/2000] loss_d: -0.191, loss_g: -2.259\n",
      "Time cost in one epoch 5.267904281616211 s\n",
      "[394/2000] loss_d: -0.228, loss_g: 0.472\n",
      "Time cost in one epoch 5.2365031242370605 s\n",
      "[395/2000] loss_d: -0.263, loss_g: -0.377\n",
      "Time cost in one epoch 5.167175769805908 s\n",
      "[396/2000] loss_d: -0.225, loss_g: -0.829\n",
      "Time cost in one epoch 5.48909854888916 s\n",
      "[397/2000] loss_d: -0.223, loss_g: -2.039\n",
      "Time cost in one epoch 5.23586106300354 s\n",
      "[398/2000] loss_d: -0.142, loss_g: 0.612\n",
      "Time cost in one epoch 5.496192455291748 s\n",
      "[399/2000] loss_d: -0.193, loss_g: -2.804\n",
      "Time cost in one epoch 5.322859764099121 s\n",
      "[400/2000] loss_d: -0.186, loss_g: -0.265\n"
     ]
    },
    {
     "data": {
      "text/plain": [
       "<Figure size 640x480 with 0 Axes>"
      ]
     },
     "metadata": {},
     "output_type": "display_data"
    },
    {
     "data": {
      "image/png": "[encoded data removed]",
      "text/plain": [
       "<Figure size 300x300 with 1 Axes>"
      ]
     },
     "metadata": {},
     "output_type": "display_data"
    },
    {
     "data": {
      "image/png": "[encoded data removed]",
      "text/plain": [
       "<Figure size 300x300 with 1 Axes>"
      ]
     },
     "metadata": {},
     "output_type": "display_data"
    },
    {
     "name": "stdout",
     "output_type": "stream",
     "text": [
      "Time cost in one epoch 5.665841102600098 s\n",
      "[401/2000] loss_d: -0.192, loss_g: -2.790\n",
      "Time cost in one epoch 5.840694189071655 s\n",
      "[402/2000] loss_d: -0.211, loss_g: -2.805\n",
      "Time cost in one epoch 10.399593591690063 s\n",
      "[403/2000] loss_d: -0.350, loss_g: -6.316\n",
      "Time cost in one epoch 11.321950435638428 s\n",
      "[404/2000] loss_d: -0.160, loss_g: -3.429\n",
      "Time cost in one epoch 10.786774158477783 s\n",
      "[405/2000] loss_d: -0.272, loss_g: -3.085\n",
      "Time cost in one epoch 10.838156461715698 s\n",
      "[406/2000] loss_d: -0.215, loss_g: -0.411\n",
      "Time cost in one epoch 10.538734197616577 s\n",
      "[407/2000] loss_d: -0.371, loss_g: -4.514\n",
      "Time cost in one epoch 10.660300970077515 s\n",
      "[408/2000] loss_d: -0.169, loss_g: -1.711\n",
      "Time cost in one epoch 10.619611501693726 s\n",
      "[409/2000] loss_d: -0.226, loss_g: 0.833\n",
      "Time cost in one epoch 10.998023986816406 s\n",
      "[410/2000] loss_d: -0.153, loss_g: -2.751\n",
      "Time cost in one epoch 10.174952268600464 s\n",
      "[411/2000] loss_d: -0.174, loss_g: -1.622\n",
      "Time cost in one epoch 4.668882846832275 s\n",
      "[412/2000] loss_d: -0.255, loss_g: -1.072\n",
      "Time cost in one epoch 4.906805992126465 s\n",
      "[413/2000] loss_d: -0.167, loss_g: -1.819\n",
      "Time cost in one epoch 4.948123455047607 s\n",
      "[414/2000] loss_d: -0.219, loss_g: 3.321\n",
      "Time cost in one epoch 5.561121463775635 s\n",
      "[415/2000] loss_d: -0.224, loss_g: -1.133\n",
      "Time cost in one epoch 4.961017608642578 s\n",
      "[416/2000] loss_d: -0.234, loss_g: 1.636\n",
      "Time cost in one epoch 4.96279764175415 s\n",
      "[417/2000] loss_d: -0.170, loss_g: -1.599\n",
      "Time cost in one epoch 5.163187026977539 s\n",
      "[418/2000] loss_d: -0.153, loss_g: -0.599\n",
      "Time cost in one epoch 5.159926176071167 s\n",
      "[419/2000] loss_d: -0.152, loss_g: -1.787\n",
      "Time cost in one epoch 5.067441701889038 s\n",
      "[420/2000] loss_d: -0.286, loss_g: 1.069\n",
      "Time cost in one epoch 5.298592567443848 s\n",
      "[421/2000] loss_d: -0.258, loss_g: -1.673\n",
      "Time cost in one epoch 5.1119091510772705 s\n",
      "[422/2000] loss_d: -0.161, loss_g: 1.134\n",
      "Time cost in one epoch 5.263009309768677 s\n",
      "[423/2000] loss_d: -0.167, loss_g: 0.959\n",
      "Time cost in one epoch 4.9287109375 s\n",
      "[424/2000] loss_d: -0.181, loss_g: 1.152\n",
      "Time cost in one epoch 5.459394454956055 s\n",
      "[425/2000] loss_d: -0.091, loss_g: -2.924\n"
     ]
    },
    {
     "data": {
      "text/plain": [
       "<Figure size 640x480 with 0 Axes>"
      ]
     },
     "metadata": {},
     "output_type": "display_data"
    },
    {
     "data": {
      "image/png": "[encoded data removed]",
      "text/plain": [
       "<Figure size 300x300 with 1 Axes>"
      ]
     },
     "metadata": {},
     "output_type": "display_data"
    },
    {
     "data": {
      "image/png": "[encoded data removed]",
      "text/plain": [
       "<Figure size 300x300 with 1 Axes>"
      ]
     },
     "metadata": {},
     "output_type": "display_data"
    },
    {
     "name": "stdout",
     "output_type": "stream",
     "text": [
      "Time cost in one epoch 5.590879678726196 s\n",
      "[426/2000] loss_d: -0.189, loss_g: -2.281\n",
      "Time cost in one epoch 5.326661109924316 s\n",
      "[427/2000] loss_d: -0.265, loss_g: -0.525\n",
      "Time cost in one epoch 5.166971921920776 s\n",
      "[428/2000] loss_d: -0.217, loss_g: 5.647\n",
      "Time cost in one epoch 5.401492118835449 s\n",
      "[429/2000] loss_d: -0.187, loss_g: -0.568\n",
      "Time cost in one epoch 5.388790845870972 s\n",
      "[430/2000] loss_d: -0.218, loss_g: 1.313\n",
      "Time cost in one epoch 5.492657899856567 s\n",
      "[431/2000] loss_d: -0.202, loss_g: -1.114\n",
      "Time cost in one epoch 5.156412363052368 s\n",
      "[432/2000] loss_d: -0.133, loss_g: -0.140\n",
      "Time cost in one epoch 5.47105598449707 s\n",
      "[433/2000] loss_d: -0.198, loss_g: 0.900\n",
      "Time cost in one epoch 5.65235447883606 s\n",
      "[434/2000] loss_d: -0.152, loss_g: 1.266\n",
      "Time cost in one epoch 10.5924232006073 s\n",
      "[435/2000] loss_d: -0.190, loss_g: -2.579\n",
      "Time cost in one epoch 10.79427719116211 s\n",
      "[436/2000] loss_d: -0.188, loss_g: -0.668\n",
      "Time cost in one epoch 11.288487434387207 s\n",
      "[437/2000] loss_d: -0.172, loss_g: -0.749\n",
      "Time cost in one epoch 11.256038427352905 s\n",
      "[438/2000] loss_d: -0.244, loss_g: -0.005\n",
      "Time cost in one epoch 11.194861650466919 s\n",
      "[439/2000] loss_d: -0.263, loss_g: -2.528\n",
      "Time cost in one epoch 10.999502658843994 s\n",
      "[440/2000] loss_d: -0.190, loss_g: -1.323\n",
      "Time cost in one epoch 9.343940019607544 s\n",
      "[441/2000] loss_d: -0.247, loss_g: 2.397\n",
      "Time cost in one epoch 4.8501574993133545 s\n",
      "[442/2000] loss_d: -0.215, loss_g: -1.567\n",
      "Time cost in one epoch 4.775180339813232 s\n",
      "[443/2000] loss_d: -0.213, loss_g: 0.558\n",
      "Time cost in one epoch 4.851968288421631 s\n",
      "[444/2000] loss_d: -0.170, loss_g: 0.025\n",
      "Time cost in one epoch 4.950416088104248 s\n",
      "[445/2000] loss_d: -0.104, loss_g: 0.753\n",
      "Time cost in one epoch 5.070310115814209 s\n",
      "[446/2000] loss_d: -0.232, loss_g: -0.465\n",
      "Time cost in one epoch 5.06237530708313 s\n",
      "[447/2000] loss_d: -0.233, loss_g: 0.609\n",
      "Time cost in one epoch 5.092512130737305 s\n",
      "[448/2000] loss_d: -0.175, loss_g: 1.459\n",
      "Time cost in one epoch 5.075420618057251 s\n",
      "[449/2000] loss_d: -0.200, loss_g: 0.049\n",
      "Time cost in one epoch 5.1262242794036865 s\n",
      "[450/2000] loss_d: -0.081, loss_g: -0.723\n"
     ]
    },
    {
     "data": {
      "text/plain": [
       "<Figure size 640x480 with 0 Axes>"
      ]
     },
     "metadata": {},
     "output_type": "display_data"
    },
    {
     "data": {
      "image/png": "[encoded data removed]",
      "text/plain": [
       "<Figure size 300x300 with 1 Axes>"
      ]
     },
     "metadata": {},
     "output_type": "display_data"
    },
    {
     "data": {
      "image/png": "[encoded data removed]",
      "text/plain": [
       "<Figure size 300x300 with 1 Axes>"
      ]
     },
     "metadata": {},
     "output_type": "display_data"
    },
    {
     "name": "stdout",
     "output_type": "stream",
     "text": [
      "Time cost in one epoch 5.355085849761963 s\n",
      "[451/2000] loss_d: -0.187, loss_g: 4.248\n",
      "Time cost in one epoch 5.245062828063965 s\n",
      "[452/2000] loss_d: -0.187, loss_g: -1.127\n",
      "Time cost in one epoch 5.335559844970703 s\n",
      "[453/2000] loss_d: -0.214, loss_g: 1.488\n",
      "Time cost in one epoch 5.118997573852539 s\n",
      "[454/2000] loss_d: -0.171, loss_g: 0.407\n",
      "Time cost in one epoch 5.349846601486206 s\n",
      "[455/2000] loss_d: -0.228, loss_g: 0.229\n",
      "Time cost in one epoch 5.511803150177002 s\n",
      "[456/2000] loss_d: -0.238, loss_g: -0.152\n",
      "Time cost in one epoch 5.2589311599731445 s\n",
      "[457/2000] loss_d: -0.157, loss_g: 0.266\n",
      "Time cost in one epoch 5.403727769851685 s\n",
      "[458/2000] loss_d: -0.135, loss_g: 0.141\n",
      "Time cost in one epoch 5.196897745132446 s\n",
      "[459/2000] loss_d: -0.140, loss_g: -1.701\n",
      "Time cost in one epoch 5.368997573852539 s\n",
      "[460/2000] loss_d: -0.189, loss_g: 4.062\n",
      "Time cost in one epoch 5.227901458740234 s\n",
      "[461/2000] loss_d: -0.137, loss_g: -2.690\n",
      "Time cost in one epoch 10.934747219085693 s\n",
      "[462/2000] loss_d: -0.175, loss_g: 0.351\n",
      "Time cost in one epoch 10.600428819656372 s\n",
      "[463/2000] loss_d: -0.191, loss_g: -1.513\n",
      "Time cost in one epoch 10.566742897033691 s\n",
      "[464/2000] loss_d: -0.273, loss_g: 2.766\n",
      "Time cost in one epoch 10.427531003952026 s\n",
      "[465/2000] loss_d: -0.075, loss_g: -4.592\n",
      "Time cost in one epoch 10.802100658416748 s\n",
      "[466/2000] loss_d: -0.341, loss_g: -2.346\n",
      "Time cost in one epoch 10.217952728271484 s\n",
      "[467/2000] loss_d: -0.134, loss_g: -2.953\n",
      "Time cost in one epoch 10.486949682235718 s\n",
      "[468/2000] loss_d: -0.243, loss_g: -1.577\n",
      "Time cost in one epoch 10.644520998001099 s\n",
      "[469/2000] loss_d: -0.190, loss_g: -0.828\n",
      "Time cost in one epoch 10.19373369216919 s\n",
      "[470/2000] loss_d: -0.172, loss_g: -0.227\n",
      "Time cost in one epoch 4.712664604187012 s\n",
      "[471/2000] loss_d: -0.200, loss_g: -1.001\n",
      "Time cost in one epoch 4.891609191894531 s\n",
      "[472/2000] loss_d: -0.118, loss_g: 0.600\n",
      "Time cost in one epoch 5.035595893859863 s\n",
      "[473/2000] loss_d: -0.176, loss_g: 5.366\n",
      "Time cost in one epoch 4.9454240798950195 s\n",
      "[474/2000] loss_d: -0.228, loss_g: 2.960\n",
      "Time cost in one epoch 4.8889195919036865 s\n",
      "[475/2000] loss_d: -0.195, loss_g: -0.501\n"
     ]
    },
    {
     "data": {
      "text/plain": [
       "<Figure size 640x480 with 0 Axes>"
      ]
     },
     "metadata": {},
     "output_type": "display_data"
    },
    {
     "data": {
      "image/png": "[encoded data removed]",
      "text/plain": [
       "<Figure size 300x300 with 1 Axes>"
      ]
     },
     "metadata": {},
     "output_type": "display_data"
    },
    {
     "data": {
      "image/png": "[encoded data removed]",
      "text/plain": [
       "<Figure size 300x300 with 1 Axes>"
      ]
     },
     "metadata": {},
     "output_type": "display_data"
    },
    {
     "name": "stdout",
     "output_type": "stream",
     "text": [
      "Time cost in one epoch 5.162357568740845 s\n",
      "[476/2000] loss_d: -0.140, loss_g: 3.812\n",
      "Time cost in one epoch 4.314793825149536 s\n",
      "[477/2000] loss_d: -0.230, loss_g: 0.577\n",
      "Time cost in one epoch 4.282309055328369 s\n",
      "[478/2000] loss_d: -0.152, loss_g: 1.624\n",
      "Time cost in one epoch 4.2531514167785645 s\n",
      "[479/2000] loss_d: -0.236, loss_g: 3.296\n",
      "Time cost in one epoch 4.3191821575164795 s\n",
      "[480/2000] loss_d: -0.168, loss_g: 3.688\n",
      "Time cost in one epoch 4.3506176471710205 s\n",
      "[481/2000] loss_d: -0.196, loss_g: 0.268\n",
      "Time cost in one epoch 4.343097448348999 s\n",
      "[482/2000] loss_d: -0.145, loss_g: 3.444\n",
      "Time cost in one epoch 4.302330732345581 s\n",
      "[483/2000] loss_d: -0.184, loss_g: 1.200\n",
      "Time cost in one epoch 4.2723963260650635 s\n",
      "[484/2000] loss_d: -0.156, loss_g: 5.019\n",
      "Time cost in one epoch 4.27501368522644 s\n",
      "[485/2000] loss_d: -0.208, loss_g: 2.519\n",
      "Time cost in one epoch 4.46371054649353 s\n",
      "[486/2000] loss_d: -0.175, loss_g: 0.279\n",
      "Time cost in one epoch 4.375950336456299 s\n",
      "[487/2000] loss_d: -0.114, loss_g: 5.386\n",
      "Time cost in one epoch 4.432634592056274 s\n",
      "[488/2000] loss_d: -0.235, loss_g: 1.240\n",
      "Time cost in one epoch 4.422361135482788 s\n",
      "[489/2000] loss_d: -0.255, loss_g: 5.491\n",
      "Time cost in one epoch 4.471318244934082 s\n",
      "[490/2000] loss_d: -0.249, loss_g: 2.735\n",
      "Time cost in one epoch 4.413998603820801 s\n",
      "[491/2000] loss_d: -0.114, loss_g: 3.969\n",
      "Time cost in one epoch 4.965906620025635 s\n",
      "[492/2000] loss_d: -0.189, loss_g: 3.863\n",
      "Time cost in one epoch 5.051202774047852 s\n",
      "[493/2000] loss_d: -0.189, loss_g: 2.094\n",
      "Time cost in one epoch 4.5310070514678955 s\n",
      "[494/2000] loss_d: -0.115, loss_g: 5.021\n",
      "Time cost in one epoch 4.470263957977295 s\n",
      "[495/2000] loss_d: -0.206, loss_g: 0.622\n",
      "Time cost in one epoch 4.553266763687134 s\n",
      "[496/2000] loss_d: -0.233, loss_g: -1.161\n",
      "Time cost in one epoch 4.466867685317993 s\n",
      "[497/2000] loss_d: -0.102, loss_g: 5.575\n",
      "Time cost in one epoch 4.488239765167236 s\n",
      "[498/2000] loss_d: -0.165, loss_g: -0.267\n",
      "Time cost in one epoch 4.438025712966919 s\n",
      "[499/2000] loss_d: -0.183, loss_g: 5.221\n",
      "Time cost in one epoch 4.573258399963379 s\n",
      "[500/2000] loss_d: -0.143, loss_g: 2.473\n"
     ]
    },
    {
     "data": {
      "text/plain": [
       "<Figure size 640x480 with 0 Axes>"
      ]
     },
     "metadata": {},
     "output_type": "display_data"
    },
    {
     "data": {
      "image/png": "[encoded data removed]",
      "text/plain": [
       "<Figure size 300x300 with 1 Axes>"
      ]
     },
     "metadata": {},
     "output_type": "display_data"
    },
    {
     "data": {
      "image/png": "[encoded data removed]",
      "text/plain": [
       "<Figure size 300x300 with 1 Axes>"
      ]
     },
     "metadata": {},
     "output_type": "display_data"
    },
    {
     "name": "stdout",
     "output_type": "stream",
     "text": [
      "Time cost in one epoch 4.680823802947998 s\n",
      "[501/2000] loss_d: -0.176, loss_g: 6.650\n",
      "Time cost in one epoch 4.555333375930786 s\n",
      "[502/2000] loss_d: -0.256, loss_g: 2.173\n",
      "Time cost in one epoch 5.508155822753906 s\n",
      "[503/2000] loss_d: -0.191, loss_g: -0.313\n",
      "Time cost in one epoch 10.427481651306152 s\n",
      "[504/2000] loss_d: -0.192, loss_g: 4.990\n",
      "Time cost in one epoch 10.24858021736145 s\n",
      "[505/2000] loss_d: -0.128, loss_g: 2.484\n",
      "Time cost in one epoch 10.258554697036743 s\n",
      "[506/2000] loss_d: -0.210, loss_g: 0.462\n",
      "Time cost in one epoch 10.244588136672974 s\n",
      "[507/2000] loss_d: -0.108, loss_g: 3.316\n",
      "Time cost in one epoch 10.491917133331299 s\n",
      "[508/2000] loss_d: -0.111, loss_g: 2.879\n",
      "Time cost in one epoch 10.459018230438232 s\n",
      "[509/2000] loss_d: -0.136, loss_g: 3.053\n",
      "Time cost in one epoch 4.210933208465576 s\n",
      "[510/2000] loss_d: -0.185, loss_g: 1.271\n",
      "Time cost in one epoch 4.244451999664307 s\n",
      "[511/2000] loss_d: -0.178, loss_g: 3.494\n",
      "Time cost in one epoch 4.229619979858398 s\n",
      "[512/2000] loss_d: -0.105, loss_g: 2.721\n",
      "Time cost in one epoch 4.234856367111206 s\n",
      "[513/2000] loss_d: -0.208, loss_g: 3.824\n",
      "Time cost in one epoch 4.350804805755615 s\n",
      "[514/2000] loss_d: -0.223, loss_g: 3.180\n",
      "Time cost in one epoch 4.33939003944397 s\n",
      "[515/2000] loss_d: -0.141, loss_g: 4.000\n",
      "Time cost in one epoch 4.40321946144104 s\n",
      "[516/2000] loss_d: -0.228, loss_g: 0.484\n",
      "Time cost in one epoch 4.4510931968688965 s\n",
      "[517/2000] loss_d: -0.147, loss_g: 0.732\n",
      "Time cost in one epoch 4.752286434173584 s\n",
      "[518/2000] loss_d: -0.264, loss_g: 5.377\n",
      "Time cost in one epoch 4.6844682693481445 s\n",
      "[519/2000] loss_d: -0.168, loss_g: 1.855\n",
      "Time cost in one epoch 4.758845090866089 s\n"
     ]
    },
    {
     "ename": "RuntimeError",
     "evalue": "DataLoader worker (pid(s) 8988) exited unexpectedly",
     "output_type": "error",
     "traceback": [
      "\u001b[1;31m---------------------------------------------------------------------------\u001b[0m",
      "\u001b[1;31mEmpty\u001b[0m                                     Traceback (most recent call last)",
      "\u001b[1;32m~\\anaconda3\\envs\\pytorch\\lib\\site-packages\\torch\\utils\\data\\dataloader.py\u001b[0m in \u001b[0;36m_try_get_data\u001b[1;34m(self, timeout)\u001b[0m\n\u001b[0;32m   1119\u001b[0m         \u001b[1;32mtry\u001b[0m\u001b[1;33m:\u001b[0m\u001b[1;33m\u001b[0m\u001b[1;33m\u001b[0m\u001b[0m\n\u001b[1;32m-> 1120\u001b[1;33m             \u001b[0mdata\u001b[0m \u001b[1;33m=\u001b[0m \u001b[0mself\u001b[0m\u001b[1;33m.\u001b[0m\u001b[0m_data_queue\u001b[0m\u001b[1;33m.\u001b[0m\u001b[0mget\u001b[0m\u001b[1;33m(\u001b[0m\u001b[0mtimeout\u001b[0m\u001b[1;33m=\u001b[0m\u001b[0mtimeout\u001b[0m\u001b[1;33m)\u001b[0m\u001b[1;33m\u001b[0m\u001b[1;33m\u001b[0m\u001b[0m\n\u001b[0m\u001b[0;32m   1121\u001b[0m             \u001b[1;32mreturn\u001b[0m \u001b[1;33m(\u001b[0m\u001b[1;32mTrue\u001b[0m\u001b[1;33m,\u001b[0m \u001b[0mdata\u001b[0m\u001b[1;33m)\u001b[0m\u001b[1;33m\u001b[0m\u001b[1;33m\u001b[0m\u001b[0m\n",
      "\u001b[1;32m~\\anaconda3\\envs\\pytorch\\lib\\multiprocessing\\queues.py\u001b[0m in \u001b[0;36mget\u001b[1;34m(self, block, timeout)\u001b[0m\n\u001b[0;32m    104\u001b[0m                     \u001b[1;32mif\u001b[0m \u001b[1;32mnot\u001b[0m \u001b[0mself\u001b[0m\u001b[1;33m.\u001b[0m\u001b[0m_poll\u001b[0m\u001b[1;33m(\u001b[0m\u001b[0mtimeout\u001b[0m\u001b[1;33m)\u001b[0m\u001b[1;33m:\u001b[0m\u001b[1;33m\u001b[0m\u001b[1;33m\u001b[0m\u001b[0m\n\u001b[1;32m--> 105\u001b[1;33m                         \u001b[1;32mraise\u001b[0m \u001b[0mEmpty\u001b[0m\u001b[1;33m\u001b[0m\u001b[1;33m\u001b[0m\u001b[0m\n\u001b[0m\u001b[0;32m    106\u001b[0m                 \u001b[1;32melif\u001b[0m \u001b[1;32mnot\u001b[0m \u001b[0mself\u001b[0m\u001b[1;33m.\u001b[0m\u001b[0m_poll\u001b[0m\u001b[1;33m(\u001b[0m\u001b[1;33m)\u001b[0m\u001b[1;33m:\u001b[0m\u001b[1;33m\u001b[0m\u001b[1;33m\u001b[0m\u001b[0m\n",
      "\u001b[1;31mEmpty\u001b[0m: ",
      "\nThe above exception was the direct cause of the following exception:\n",
      "\u001b[1;31mRuntimeError\u001b[0m                              Traceback (most recent call last)",
      "\u001b[1;32m~\\AppData\\Local\\Temp\\ipykernel_15108\\3268720954.py\u001b[0m in \u001b[0;36m<module>\u001b[1;34m\u001b[0m\n\u001b[0;32m      7\u001b[0m     \u001b[0mstep_save_data\u001b[0m \u001b[1;33m=\u001b[0m \u001b[1;36m1000\u001b[0m\u001b[1;33m,\u001b[0m \u001b[1;31m#1000\u001b[0m\u001b[1;33m\u001b[0m\u001b[1;33m\u001b[0m\u001b[0m\n\u001b[0;32m      8\u001b[0m     \u001b[0miteration_generator\u001b[0m \u001b[1;33m=\u001b[0m \u001b[1;33m(\u001b[0m\u001b[1;36m2000\u001b[0m\u001b[1;33m//\u001b[0m\u001b[0mbatch_size\u001b[0m\u001b[1;33m)\u001b[0m \u001b[1;33m+\u001b[0m \u001b[1;36m1\u001b[0m\u001b[1;33m,\u001b[0m \u001b[1;31m# 2000 samples\u001b[0m\u001b[1;33m\u001b[0m\u001b[1;33m\u001b[0m\u001b[0m\n\u001b[1;32m----> 9\u001b[1;33m     \u001b[0mn_critic\u001b[0m \u001b[1;33m=\u001b[0m \u001b[1;36m5\u001b[0m\u001b[1;33m,\u001b[0m \u001b[1;31m#5\u001b[0m\u001b[1;33m\u001b[0m\u001b[1;33m\u001b[0m\u001b[0m\n\u001b[0m\u001b[0;32m     10\u001b[0m     )\n",
      "\u001b[1;32m~\\AppData\\Local\\Temp\\ipykernel_15108\\3210138892.py\u001b[0m in \u001b[0;36mtrain_model\u001b[1;34m(self, x_train, y_train, dataloder_num_workers, train_epoch, step_valid, step_save_data, iteration_generator, n_critic)\u001b[0m\n\u001b[0;32m     57\u001b[0m             \u001b[0mtime_start_epoch\u001b[0m \u001b[1;33m=\u001b[0m \u001b[0mtime\u001b[0m\u001b[1;33m.\u001b[0m\u001b[0mtime\u001b[0m\u001b[1;33m(\u001b[0m\u001b[1;33m)\u001b[0m\u001b[1;33m\u001b[0m\u001b[1;33m\u001b[0m\u001b[0m\n\u001b[0;32m     58\u001b[0m \u001b[1;33m\u001b[0m\u001b[0m\n\u001b[1;32m---> 59\u001b[1;33m             \u001b[1;32mfor\u001b[0m \u001b[0mi\u001b[0m\u001b[1;33m,\u001b[0m \u001b[0mdata\u001b[0m \u001b[1;32min\u001b[0m \u001b[0menumerate\u001b[0m\u001b[1;33m(\u001b[0m\u001b[0mdata_loader\u001b[0m\u001b[1;33m)\u001b[0m\u001b[1;33m:\u001b[0m\u001b[1;33m\u001b[0m\u001b[1;33m\u001b[0m\u001b[0m\n\u001b[0m\u001b[0;32m     60\u001b[0m                 \u001b[0mx_real\u001b[0m\u001b[1;33m,\u001b[0m \u001b[0mx_label\u001b[0m \u001b[1;33m=\u001b[0m \u001b[0mdata\u001b[0m\u001b[1;33m\u001b[0m\u001b[1;33m\u001b[0m\u001b[0m\n\u001b[0;32m     61\u001b[0m                 \u001b[0mx_real\u001b[0m \u001b[1;33m=\u001b[0m \u001b[0mx_real\u001b[0m\u001b[1;33m.\u001b[0m\u001b[0mto\u001b[0m\u001b[1;33m(\u001b[0m\u001b[0mself\u001b[0m\u001b[1;33m.\u001b[0m\u001b[0mdevice\u001b[0m\u001b[1;33m)\u001b[0m\u001b[1;33m\u001b[0m\u001b[1;33m\u001b[0m\u001b[0m\n",
      "\u001b[1;32m~\\anaconda3\\envs\\pytorch\\lib\\site-packages\\torch\\utils\\data\\dataloader.py\u001b[0m in \u001b[0;36m__next__\u001b[1;34m(self)\u001b[0m\n\u001b[0;32m    626\u001b[0m                 \u001b[1;31m# TODO(https://github.com/pytorch/pytorch/issues/76750)\u001b[0m\u001b[1;33m\u001b[0m\u001b[1;33m\u001b[0m\u001b[1;33m\u001b[0m\u001b[0m\n\u001b[0;32m    627\u001b[0m                 \u001b[0mself\u001b[0m\u001b[1;33m.\u001b[0m\u001b[0m_reset\u001b[0m\u001b[1;33m(\u001b[0m\u001b[1;33m)\u001b[0m  \u001b[1;31m# type: ignore[call-arg]\u001b[0m\u001b[1;33m\u001b[0m\u001b[1;33m\u001b[0m\u001b[0m\n\u001b[1;32m--> 628\u001b[1;33m             \u001b[0mdata\u001b[0m \u001b[1;33m=\u001b[0m \u001b[0mself\u001b[0m\u001b[1;33m.\u001b[0m\u001b[0m_next_data\u001b[0m\u001b[1;33m(\u001b[0m\u001b[1;33m)\u001b[0m\u001b[1;33m\u001b[0m\u001b[1;33m\u001b[0m\u001b[0m\n\u001b[0m\u001b[0;32m    629\u001b[0m             \u001b[0mself\u001b[0m\u001b[1;33m.\u001b[0m\u001b[0m_num_yielded\u001b[0m \u001b[1;33m+=\u001b[0m \u001b[1;36m1\u001b[0m\u001b[1;33m\u001b[0m\u001b[1;33m\u001b[0m\u001b[0m\n\u001b[0;32m    630\u001b[0m             \u001b[1;32mif\u001b[0m \u001b[0mself\u001b[0m\u001b[1;33m.\u001b[0m\u001b[0m_dataset_kind\u001b[0m \u001b[1;33m==\u001b[0m \u001b[0m_DatasetKind\u001b[0m\u001b[1;33m.\u001b[0m\u001b[0mIterable\u001b[0m \u001b[1;32mand\u001b[0m\u001b[0;31m \u001b[0m\u001b[0;31m\\\u001b[0m\u001b[1;33m\u001b[0m\u001b[1;33m\u001b[0m\u001b[0m\n",
      "\u001b[1;32m~\\anaconda3\\envs\\pytorch\\lib\\site-packages\\torch\\utils\\data\\dataloader.py\u001b[0m in \u001b[0;36m_next_data\u001b[1;34m(self)\u001b[0m\n\u001b[0;32m   1314\u001b[0m \u001b[1;33m\u001b[0m\u001b[0m\n\u001b[0;32m   1315\u001b[0m             \u001b[1;32massert\u001b[0m \u001b[1;32mnot\u001b[0m \u001b[0mself\u001b[0m\u001b[1;33m.\u001b[0m\u001b[0m_shutdown\u001b[0m \u001b[1;32mand\u001b[0m \u001b[0mself\u001b[0m\u001b[1;33m.\u001b[0m\u001b[0m_tasks_outstanding\u001b[0m \u001b[1;33m>\u001b[0m \u001b[1;36m0\u001b[0m\u001b[1;33m\u001b[0m\u001b[1;33m\u001b[0m\u001b[0m\n\u001b[1;32m-> 1316\u001b[1;33m             \u001b[0midx\u001b[0m\u001b[1;33m,\u001b[0m \u001b[0mdata\u001b[0m \u001b[1;33m=\u001b[0m \u001b[0mself\u001b[0m\u001b[1;33m.\u001b[0m\u001b[0m_get_data\u001b[0m\u001b[1;33m(\u001b[0m\u001b[1;33m)\u001b[0m\u001b[1;33m\u001b[0m\u001b[1;33m\u001b[0m\u001b[0m\n\u001b[0m\u001b[0;32m   1317\u001b[0m             \u001b[0mself\u001b[0m\u001b[1;33m.\u001b[0m\u001b[0m_tasks_outstanding\u001b[0m \u001b[1;33m-=\u001b[0m \u001b[1;36m1\u001b[0m\u001b[1;33m\u001b[0m\u001b[1;33m\u001b[0m\u001b[0m\n\u001b[0;32m   1318\u001b[0m             \u001b[1;32mif\u001b[0m \u001b[0mself\u001b[0m\u001b[1;33m.\u001b[0m\u001b[0m_dataset_kind\u001b[0m \u001b[1;33m==\u001b[0m \u001b[0m_DatasetKind\u001b[0m\u001b[1;33m.\u001b[0m\u001b[0mIterable\u001b[0m\u001b[1;33m:\u001b[0m\u001b[1;33m\u001b[0m\u001b[1;33m\u001b[0m\u001b[0m\n",
      "\u001b[1;32m~\\anaconda3\\envs\\pytorch\\lib\\site-packages\\torch\\utils\\data\\dataloader.py\u001b[0m in \u001b[0;36m_get_data\u001b[1;34m(self)\u001b[0m\n\u001b[0;32m   1280\u001b[0m         \u001b[1;32melse\u001b[0m\u001b[1;33m:\u001b[0m\u001b[1;33m\u001b[0m\u001b[1;33m\u001b[0m\u001b[0m\n\u001b[0;32m   1281\u001b[0m             \u001b[1;32mwhile\u001b[0m \u001b[1;32mTrue\u001b[0m\u001b[1;33m:\u001b[0m\u001b[1;33m\u001b[0m\u001b[1;33m\u001b[0m\u001b[0m\n\u001b[1;32m-> 1282\u001b[1;33m                 \u001b[0msuccess\u001b[0m\u001b[1;33m,\u001b[0m \u001b[0mdata\u001b[0m \u001b[1;33m=\u001b[0m \u001b[0mself\u001b[0m\u001b[1;33m.\u001b[0m\u001b[0m_try_get_data\u001b[0m\u001b[1;33m(\u001b[0m\u001b[1;33m)\u001b[0m\u001b[1;33m\u001b[0m\u001b[1;33m\u001b[0m\u001b[0m\n\u001b[0m\u001b[0;32m   1283\u001b[0m                 \u001b[1;32mif\u001b[0m \u001b[0msuccess\u001b[0m\u001b[1;33m:\u001b[0m\u001b[1;33m\u001b[0m\u001b[1;33m\u001b[0m\u001b[0m\n\u001b[0;32m   1284\u001b[0m                     \u001b[1;32mreturn\u001b[0m \u001b[0mdata\u001b[0m\u001b[1;33m\u001b[0m\u001b[1;33m\u001b[0m\u001b[0m\n",
      "\u001b[1;32m~\\anaconda3\\envs\\pytorch\\lib\\site-packages\\torch\\utils\\data\\dataloader.py\u001b[0m in \u001b[0;36m_try_get_data\u001b[1;34m(self, timeout)\u001b[0m\n\u001b[0;32m   1131\u001b[0m             \u001b[1;32mif\u001b[0m \u001b[0mlen\u001b[0m\u001b[1;33m(\u001b[0m\u001b[0mfailed_workers\u001b[0m\u001b[1;33m)\u001b[0m \u001b[1;33m>\u001b[0m \u001b[1;36m0\u001b[0m\u001b[1;33m:\u001b[0m\u001b[1;33m\u001b[0m\u001b[1;33m\u001b[0m\u001b[0m\n\u001b[0;32m   1132\u001b[0m                 \u001b[0mpids_str\u001b[0m \u001b[1;33m=\u001b[0m \u001b[1;34m', '\u001b[0m\u001b[1;33m.\u001b[0m\u001b[0mjoin\u001b[0m\u001b[1;33m(\u001b[0m\u001b[0mstr\u001b[0m\u001b[1;33m(\u001b[0m\u001b[0mw\u001b[0m\u001b[1;33m.\u001b[0m\u001b[0mpid\u001b[0m\u001b[1;33m)\u001b[0m \u001b[1;32mfor\u001b[0m \u001b[0mw\u001b[0m \u001b[1;32min\u001b[0m \u001b[0mfailed_workers\u001b[0m\u001b[1;33m)\u001b[0m\u001b[1;33m\u001b[0m\u001b[1;33m\u001b[0m\u001b[0m\n\u001b[1;32m-> 1133\u001b[1;33m                 \u001b[1;32mraise\u001b[0m \u001b[0mRuntimeError\u001b[0m\u001b[1;33m(\u001b[0m\u001b[1;34m'DataLoader worker (pid(s) {}) exited unexpectedly'\u001b[0m\u001b[1;33m.\u001b[0m\u001b[0mformat\u001b[0m\u001b[1;33m(\u001b[0m\u001b[0mpids_str\u001b[0m\u001b[1;33m)\u001b[0m\u001b[1;33m)\u001b[0m \u001b[1;32mfrom\u001b[0m \u001b[0me\u001b[0m\u001b[1;33m\u001b[0m\u001b[1;33m\u001b[0m\u001b[0m\n\u001b[0m\u001b[0;32m   1134\u001b[0m             \u001b[1;32mif\u001b[0m \u001b[0misinstance\u001b[0m\u001b[1;33m(\u001b[0m\u001b[0me\u001b[0m\u001b[1;33m,\u001b[0m \u001b[0mqueue\u001b[0m\u001b[1;33m.\u001b[0m\u001b[0mEmpty\u001b[0m\u001b[1;33m)\u001b[0m\u001b[1;33m:\u001b[0m\u001b[1;33m\u001b[0m\u001b[1;33m\u001b[0m\u001b[0m\n\u001b[0;32m   1135\u001b[0m                 \u001b[1;32mreturn\u001b[0m \u001b[1;33m(\u001b[0m\u001b[1;32mFalse\u001b[0m\u001b[1;33m,\u001b[0m \u001b[1;32mNone\u001b[0m\u001b[1;33m)\u001b[0m\u001b[1;33m\u001b[0m\u001b[1;33m\u001b[0m\u001b[0m\n",
      "\u001b[1;31mRuntimeError\u001b[0m: DataLoader worker (pid(s) 8988) exited unexpectedly"
     ]
    }
   ],
   "source": [
    "model.train_model(\n",
    "    x_train = data_alt_3_4,     \n",
    "    y_train = label_alt_onehot,     \n",
    "    dataloder_num_workers = 1,\n",
    "    train_epoch = 2000,  #17000\n",
    "    step_valid = 25, #50\n",
    "    step_save_data = 1000, #1000\n",
    "    iteration_generator = (2000//batch_size) + 1, # 2000 samples \n",
    "    n_critic = 5, #5\n",
    "    )"
   ]
  },
  {
   "cell_type": "code",
   "execution_count": null,
   "id": "db03b3f0",
   "metadata": {},
   "outputs": [],
   "source": [
    "model.show_train_hist()"
   ]
  },
  {
   "cell_type": "code",
   "execution_count": null,
   "id": "4c967b92",
   "metadata": {},
   "outputs": [],
   "source": [
    "torch.cuda.empty_cache()"
   ]
  },
  {
   "cell_type": "markdown",
   "id": "bb8b7e89",
   "metadata": {},
   "source": [
    "# Show generated data"
   ]
  },
  {
   "cell_type": "code",
   "execution_count": null,
   "id": "78fe9b0a",
   "metadata": {},
   "outputs": [],
   "source": [
    "# gen_trained = torch.load(saver_path + 'gen.pkl')\n",
    "\n",
    "# ############        num_alternative = 3      #######################\n",
    "# z_fake = torch.randn(batch_size, dim_z, 1, 1).to(device)\n",
    "# z_label = np.zeros([batch_size, 1]) + 0\n",
    "# z_label = one_hot(z_label, num_class).reshape([batch_size, num_class, 1, 1])\n",
    "# z_label = torch.Tensor(z_label).to(device)    \n",
    "\n",
    "# gen_alt3 = gen_trained(z_fake, z_label)\n",
    "# ############        num_alternative = 4      #######################\n",
    "# z_fake = torch.randn(batch_size, dim_z, 1, 1).to(device)\n",
    "# z_label = np.zeros([batch_size, 1]) + 1\n",
    "# z_label = one_hot(z_label, num_class).reshape([batch_size, num_class, 1, 1])\n",
    "# z_label = torch.Tensor(z_label).to(device)    \n",
    "\n",
    "# gen_alt4 = gen_trained(z_fake, z_label)\n",
    "\n",
    "# plt.figure(epoch)\n",
    "# fig, ax = plt.subplots(figsize=(3, 3))\n",
    "# ax.cla()\n",
    "# ax.imshow(gen_alt3.data.cpu().numpy()[0], cmap='gray')\n",
    "\n",
    "# fig, ax = plt.subplots(figsize=(3, 3))\n",
    "# ax.cla()\n",
    "# ax.imshow(gen_alt4.data.cpu().numpy()[0], cmap='gray')            \n",
    "# plt.show()"
   ]
  },
  {
   "cell_type": "code",
   "execution_count": null,
   "id": "9e414c1e",
   "metadata": {},
   "outputs": [],
   "source": []
  }
 ],
 "metadata": {
  "kernelspec": {
   "display_name": "pytorch",
   "language": "python",
   "name": "pytorch"
  },
  "language_info": {
   "codemirror_mode": {
    "name": "ipython",
    "version": 3
   },
   "file_extension": ".py",
   "mimetype": "text/x-python",
   "name": "python",
   "nbconvert_exporter": "python",
   "pygments_lexer": "ipython3",
   "version": "3.7.13"
  }
 },
 "nbformat": 4,
 "nbformat_minor": 5
}
