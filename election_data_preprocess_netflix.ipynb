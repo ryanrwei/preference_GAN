{
 "cells": [
  {
   "cell_type": "code",
   "execution_count": 1,
   "id": "731dde13",
   "metadata": {
    "scrolled": true
   },
   "outputs": [],
   "source": [
    "import numpy as np\n",
    "import os\n",
    "import pandas as pd\n",
    "import random\n",
    "import matplotlib.pyplot as plt"
   ]
  },
  {
   "cell_type": "code",
   "execution_count": 2,
   "id": "cd00e0d4",
   "metadata": {},
   "outputs": [],
   "source": [
    "def resize_dat(x, img_size, img_width, img_height, input_size):\n",
    "    cell_size = int(img_size//input_size)\n",
    "    \n",
    "    enlarged_dat = []\n",
    "    for j in range(x.shape[0]):\n",
    "        dat = x[j]\n",
    "        tmp = []\n",
    "        for i in range(dat.shape[0]):\n",
    "            for _ in range(cell_size):\n",
    "                tmp.append(dat[i])\n",
    "        tmp = np.array(tmp).reshape([img_height, img_width])\n",
    "        enlarged_dat.append(tmp)\n",
    "    enlarged_dat = np.array(enlarged_dat)    \n",
    "    return enlarged_dat"
   ]
  },
  {
   "cell_type": "code",
   "execution_count": 6,
   "id": "25a32ea8",
   "metadata": {
    "scrolled": true
   },
   "outputs": [
    {
     "name": "stdout",
     "output_type": "stream",
     "text": [
      "[[125 324   1   0   1   0]\n",
      " [ 56  11 120  88  41 128]\n",
      " [196  85   4   0   2   0]\n",
      " [ 45   3 271  49   6  23]\n",
      " [101  30  40  17  79  35]]\n"
     ]
    }
   ],
   "source": [
    "data_alt3_pd = pd.read_csv('data/netflix_data_3alt.csv')\n",
    "data_alt3_pd = data_alt3_pd.iloc[:,1:]\n",
    "# print(data_alt3.head())\n",
    "data_alt3 = data_alt3_pd.iloc[:,1:].values\n",
    "print(data_alt3[:5])"
   ]
  },
  {
   "cell_type": "code",
   "execution_count": 4,
   "id": "93c4d0e4",
   "metadata": {},
   "outputs": [
    {
     "data": {
      "text/plain": [
       "Index(['movies', 'ABC', 'ACB', 'BAC', 'BCA', 'CAB', 'CBA'], dtype='object')"
      ]
     },
     "execution_count": 4,
     "metadata": {},
     "output_type": "execute_result"
    }
   ],
   "source": [
    "data_alt3_pd.columns"
   ]
  },
  {
   "cell_type": "markdown",
   "id": "b3a105f2",
   "metadata": {},
   "source": [
    "# normalization\n"
   ]
  },
  {
   "cell_type": "code",
   "execution_count": 9,
   "id": "54231510",
   "metadata": {},
   "outputs": [
    {
     "name": "stdout",
     "output_type": "stream",
     "text": [
      "(4860,)\n",
      "(4860, 6)\n"
     ]
    }
   ],
   "source": [
    "sum_vote = np.sum(data_alt3, 1)\n",
    "print(sum_vote.shape)\n",
    "data_alt3_normal = np.divide(data_alt3.T, sum_vote).T\n",
    "print(data_alt3_normal.shape)"
   ]
  },
  {
   "cell_type": "markdown",
   "id": "3f76115a",
   "metadata": {},
   "source": [
    "# resize"
   ]
  },
  {
   "cell_type": "code",
   "execution_count": 10,
   "id": "8dd24305",
   "metadata": {},
   "outputs": [
    {
     "ename": "ValueError",
     "evalue": "cannot reshape array of size 720 into shape (24,24)",
     "output_type": "error",
     "traceback": [
      "\u001b[1;31m---------------------------------------------------------------------------\u001b[0m",
      "\u001b[1;31mValueError\u001b[0m                                Traceback (most recent call last)",
      "\u001b[1;32m~\\AppData\\Local\\Temp\\ipykernel_17088\\3486650138.py\u001b[0m in \u001b[0;36m<module>\u001b[1;34m\u001b[0m\n\u001b[0;32m      5\u001b[0m \u001b[0minput_size\u001b[0m \u001b[1;33m=\u001b[0m \u001b[0mnp\u001b[0m\u001b[1;33m.\u001b[0m\u001b[0mmath\u001b[0m\u001b[1;33m.\u001b[0m\u001b[0mfactorial\u001b[0m\u001b[1;33m(\u001b[0m\u001b[1;36m3\u001b[0m\u001b[1;33m)\u001b[0m\u001b[1;33m\u001b[0m\u001b[1;33m\u001b[0m\u001b[0m\n\u001b[0;32m      6\u001b[0m \u001b[1;33m\u001b[0m\u001b[0m\n\u001b[1;32m----> 7\u001b[1;33m \u001b[0melection_data_alt3_resize\u001b[0m \u001b[1;33m=\u001b[0m \u001b[0mresize_dat\u001b[0m\u001b[1;33m(\u001b[0m\u001b[0mdata_alt3_normal\u001b[0m\u001b[1;33m,\u001b[0m \u001b[0mimg_size\u001b[0m\u001b[1;33m,\u001b[0m \u001b[0mimg_width\u001b[0m\u001b[1;33m,\u001b[0m \u001b[0mimg_height\u001b[0m\u001b[1;33m,\u001b[0m \u001b[0minput_size\u001b[0m\u001b[1;33m)\u001b[0m\u001b[1;33m\u001b[0m\u001b[1;33m\u001b[0m\u001b[0m\n\u001b[0m\u001b[0;32m      8\u001b[0m \u001b[0mprint\u001b[0m\u001b[1;33m(\u001b[0m\u001b[0melection_data_alt3_resize\u001b[0m\u001b[1;33m.\u001b[0m\u001b[0mshape\u001b[0m\u001b[1;33m)\u001b[0m\u001b[1;33m\u001b[0m\u001b[1;33m\u001b[0m\u001b[0m\n",
      "\u001b[1;32m~\\AppData\\Local\\Temp\\ipykernel_17088\\3216317582.py\u001b[0m in \u001b[0;36mresize_dat\u001b[1;34m(x, img_size, img_width, img_height, input_size)\u001b[0m\n\u001b[0;32m      9\u001b[0m             \u001b[1;32mfor\u001b[0m \u001b[0m_\u001b[0m \u001b[1;32min\u001b[0m \u001b[0mrange\u001b[0m\u001b[1;33m(\u001b[0m\u001b[0mcell_size\u001b[0m\u001b[1;33m)\u001b[0m\u001b[1;33m:\u001b[0m\u001b[1;33m\u001b[0m\u001b[1;33m\u001b[0m\u001b[0m\n\u001b[0;32m     10\u001b[0m                 \u001b[0mtmp\u001b[0m\u001b[1;33m.\u001b[0m\u001b[0mappend\u001b[0m\u001b[1;33m(\u001b[0m\u001b[0mdat\u001b[0m\u001b[1;33m[\u001b[0m\u001b[0mi\u001b[0m\u001b[1;33m]\u001b[0m\u001b[1;33m)\u001b[0m\u001b[1;33m\u001b[0m\u001b[1;33m\u001b[0m\u001b[0m\n\u001b[1;32m---> 11\u001b[1;33m         \u001b[0mtmp\u001b[0m \u001b[1;33m=\u001b[0m \u001b[0mnp\u001b[0m\u001b[1;33m.\u001b[0m\u001b[0marray\u001b[0m\u001b[1;33m(\u001b[0m\u001b[0mtmp\u001b[0m\u001b[1;33m)\u001b[0m\u001b[1;33m.\u001b[0m\u001b[0mreshape\u001b[0m\u001b[1;33m(\u001b[0m\u001b[1;33m[\u001b[0m\u001b[0mimg_height\u001b[0m\u001b[1;33m,\u001b[0m \u001b[0mimg_width\u001b[0m\u001b[1;33m]\u001b[0m\u001b[1;33m)\u001b[0m\u001b[1;33m\u001b[0m\u001b[1;33m\u001b[0m\u001b[0m\n\u001b[0m\u001b[0;32m     12\u001b[0m         \u001b[0menlarged_dat\u001b[0m\u001b[1;33m.\u001b[0m\u001b[0mappend\u001b[0m\u001b[1;33m(\u001b[0m\u001b[0mtmp\u001b[0m\u001b[1;33m)\u001b[0m\u001b[1;33m\u001b[0m\u001b[1;33m\u001b[0m\u001b[0m\n\u001b[0;32m     13\u001b[0m     \u001b[0menlarged_dat\u001b[0m \u001b[1;33m=\u001b[0m \u001b[0mnp\u001b[0m\u001b[1;33m.\u001b[0m\u001b[0marray\u001b[0m\u001b[1;33m(\u001b[0m\u001b[0menlarged_dat\u001b[0m\u001b[1;33m)\u001b[0m\u001b[1;33m\u001b[0m\u001b[1;33m\u001b[0m\u001b[0m\n",
      "\u001b[1;31mValueError\u001b[0m: cannot reshape array of size 720 into shape (24,24)"
     ]
    }
   ],
   "source": [
    "img_size = np.math.factorial(6)\n",
    "img_width = 30\n",
    "# img_width = 24\n",
    "img_height = 24\n",
    "input_size = np.math.factorial(3)\n",
    "\n",
    "election_data_alt3_resize = resize_dat(data_alt3_normal, img_size, img_width, img_height, input_size)\n",
    "\n",
    "\n",
    "print(election_data_alt3_resize.shape)"
   ]
  },
  {
   "cell_type": "code",
   "execution_count": null,
   "id": "20b8f4bc",
   "metadata": {},
   "outputs": [],
   "source": [
    "fig, ax = plt.subplots(figsize=(5, 5))\n",
    "ax.cla()\n",
    "ax.imshow(np.reshape(election_data_alt3_resize[2], (img_height, img_width)), cmap='gray')"
   ]
  },
  {
   "cell_type": "code",
   "execution_count": null,
   "id": "c55c83f6",
   "metadata": {},
   "outputs": [],
   "source": [
    "election_data_alt3_resize = election_data_alt3_resize.reshape([-1, img_height * img_width])\n",
    "print(election_data_alt3_resize.shape)"
   ]
  },
  {
   "cell_type": "code",
   "execution_count": null,
   "id": "6fc031ed",
   "metadata": {},
   "outputs": [],
   "source": [
    "election_data_alt3_resize = pd.DataFrame(election_data_alt3_resize)\n",
    "election_data_alt3_resize.to_csv('./data/netflix_data_3alt_square.csv')"
   ]
  },
  {
   "cell_type": "markdown",
   "id": "a9a23511",
   "metadata": {},
   "source": [
    "# -------------------------------------------------------------------------"
   ]
  },
  {
   "cell_type": "code",
   "execution_count": null,
   "id": "76ca5bca",
   "metadata": {},
   "outputs": [],
   "source": [
    "data_alt4_pd = pd.read_csv('data/netflix_data_4alt.csv')\n",
    "data_alt4_pd = data_alt4_pd.iloc[:,1:]\n",
    "# data_alt4.head()\n",
    "data_alt4 = data_alt4_pd.iloc[:,1:].values"
   ]
  },
  {
   "cell_type": "code",
   "execution_count": null,
   "id": "1758cb57",
   "metadata": {},
   "outputs": [],
   "source": [
    "data_alt4_pd.columns"
   ]
  },
  {
   "cell_type": "markdown",
   "id": "d5636bec",
   "metadata": {},
   "source": [
    "# normalization"
   ]
  },
  {
   "cell_type": "code",
   "execution_count": null,
   "id": "7f92337b",
   "metadata": {},
   "outputs": [],
   "source": [
    "sum_vote = np.sum(data_alt4, 1)\n",
    "print(sum_vote.shape)\n",
    "data_alt4_normal = np.divide(data_alt4.T, sum_vote).T\n",
    "print(data_alt4_normal.shape)"
   ]
  },
  {
   "cell_type": "code",
   "execution_count": null,
   "id": "fadd31e8",
   "metadata": {},
   "outputs": [],
   "source": [
    "data_alt4_normal[0]"
   ]
  },
  {
   "cell_type": "markdown",
   "id": "fe7b3165",
   "metadata": {},
   "source": [
    "# resize"
   ]
  },
  {
   "cell_type": "code",
   "execution_count": null,
   "id": "a92af910",
   "metadata": {},
   "outputs": [],
   "source": [
    "img_size = np.math.factorial(6)\n",
    "# img_width = 30\n",
    "img_width = 24\n",
    "img_height = 24\n",
    "input_size = np.math.factorial(4)\n",
    "\n",
    "election_data_alt4_resize = resize_dat(data_alt4_normal, img_size, img_width, img_height, input_size)\n",
    "print(election_data_alt4_resize.shape)"
   ]
  },
  {
   "cell_type": "code",
   "execution_count": null,
   "id": "2c5b885c",
   "metadata": {},
   "outputs": [],
   "source": [
    "fig, ax = plt.subplots(figsize=(5, 5))\n",
    "ax.cla()\n",
    "ax.imshow(np.reshape(election_data_alt4_resize[99], (img_height, img_width)), cmap='gray')"
   ]
  },
  {
   "cell_type": "code",
   "execution_count": null,
   "id": "69ad1c8e",
   "metadata": {},
   "outputs": [],
   "source": [
    "election_data_alt4_resize = election_data_alt4_resize.reshape([-1, img_height * img_width])\n",
    "print(election_data_alt4_resize.shape)"
   ]
  },
  {
   "cell_type": "code",
   "execution_count": null,
   "id": "42f7157b",
   "metadata": {},
   "outputs": [],
   "source": [
    "election_data_alt4_resize = pd.DataFrame(election_data_alt4_resize)\n",
    "election_data_alt4_resize.to_csv('./data/netflix_data_4alt_square.csv')"
   ]
  },
  {
   "cell_type": "code",
   "execution_count": null,
   "id": "5201cc0e",
   "metadata": {},
   "outputs": [],
   "source": []
  },
  {
   "cell_type": "code",
   "execution_count": null,
   "id": "30bd12a4",
   "metadata": {},
   "outputs": [],
   "source": []
  }
 ],
 "metadata": {
  "kernelspec": {
   "display_name": "pytorch",
   "language": "python",
   "name": "pytorch"
  },
  "language_info": {
   "codemirror_mode": {
    "name": "ipython",
    "version": 3
   },
   "file_extension": ".py",
   "mimetype": "text/x-python",
   "name": "python",
   "nbconvert_exporter": "python",
   "pygments_lexer": "ipython3",
   "version": "3.7.13"
  }
 },
 "nbformat": 4,
 "nbformat_minor": 5
}
