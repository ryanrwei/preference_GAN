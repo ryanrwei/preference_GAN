{
 "cells": [
  {
   "cell_type": "code",
   "execution_count": 1,
   "metadata": {
    "scrolled": true
   },
   "outputs": [],
   "source": [
    "import os\n",
    "import numpy as np\n",
    "import matplotlib.pyplot as plt\n",
    "import pandas as pd\n",
    "import time\n",
    "import random\n",
    "from sklearn.neighbors import NearestNeighbors\n",
    "from utils import one_hot, resize_to_ori_calMRE, resize_to_ori\n"
   ]
  },
  {
   "cell_type": "code",
   "execution_count": 2,
   "metadata": {},
   "outputs": [],
   "source": [
    "folder = 'SMOTE_alt4/'\n",
    "gen_results = 'generated_results/'\n",
    "\n",
    "model = 'model_'+'.ckpt'\n",
    "\n",
    "if not os.path.isdir(folder):\n",
    "    os.mkdir(folder)\n",
    "    \n",
    "if not os.path.isdir(folder + gen_results):\n",
    "    os.mkdir(folder + gen_results)\n",
    "\n",
    "# save ckpt\n",
    "saver_path = os.path.join(folder, model)\n",
    "\n",
    "# read ckpt\n",
    "restore_path = os.path.join(folder)\n",
    "\n",
    "# save generated data\n",
    "generated_path = os.path.join(folder + gen_results)"
   ]
  },
  {
   "cell_type": "code",
   "execution_count": 3,
   "metadata": {},
   "outputs": [
    {
     "name": "stdout",
     "output_type": "stream",
     "text": [
      "(1000, 24, 30)\n",
      "(1000, 24)\n"
     ]
    }
   ],
   "source": [
    "img_size = np.math.factorial(6)\n",
    "img_width = 30\n",
    "img_height = 24\n",
    "ori_size = np.math.factorial(4)\n",
    "\n",
    "data_alt4 = pd.read_csv('./data/netflix_data_4alt_resize.csv')\n",
    "data_alt4 = data_alt4.iloc[:1000,1:].values\n",
    "\n",
    "data_alt4 = data_alt4.reshape([-1, img_height, img_width])\n",
    "print(data_alt4.shape)\n",
    "\n",
    "data_alt4_ori = resize_to_ori_calMRE(data_alt4, img_size, img_width, img_height, ori_size)\n",
    "print(data_alt4_ori.shape)"
   ]
  },
  {
   "cell_type": "code",
   "execution_count": 4,
   "metadata": {},
   "outputs": [],
   "source": [
    "class Smote:\n",
    "    \"\"\"\n",
    "    SMOTE过采样算法.\n",
    "\n",
    "\n",
    "    Parameters:\n",
    "    -----------\n",
    "    k: int\n",
    "        选取的近邻数目.\n",
    "    sampling_rate: int\n",
    "        采样倍数, attention sampling_rate < k.\n",
    "    newindex: int\n",
    "        生成的新样本(合成样本)的索引号.\n",
    "    \"\"\"\n",
    "    def __init__(self, sampling_rate=5, k=5):\n",
    "        self.sampling_rate = sampling_rate\n",
    "        self.k = k\n",
    "        self.newindex = 0\n",
    "\n",
    "    def fit(self, X, y=None):\n",
    "        if y is not None:\n",
    "            negative_X = X[y==0]\n",
    "            X = X[y==1]\n",
    "\n",
    "        n_samples, n_features = X.shape\n",
    "        # 初始化一个矩阵, 用来存储合成样本\n",
    "        self.synthetic = np.zeros((n_samples * self.sampling_rate, n_features))\n",
    "\n",
    "        # 找出正样本集(数据集X)中的每一个样本在数据集X中的k个近邻\n",
    "        knn = NearestNeighbors(n_neighbors=self.k).fit(X)\n",
    "        for i in range(len(X)):\n",
    "            k_neighbors = knn.kneighbors(X[i].reshape(1,-1), \n",
    "                                         return_distance=False)[0]\n",
    "            # 对正样本集(minority class samples)中每个样本, 分别根据其k个近邻生成\n",
    "            # sampling_rate个新的样本\n",
    "            self.synthetic_samples(X, i, k_neighbors)\n",
    "\n",
    "        if y is not None:\n",
    "            return ( np.concatenate((self.synthetic, X, negative_X), axis=0), \n",
    "                     np.concatenate(([1]*(len(self.synthetic)+len(X)), y[y==0]), axis=0) )\n",
    "\n",
    "#         return np.concatenate((self.synthetic, X), axis=0)\n",
    "        return self.synthetic\n",
    "\n",
    "    # 对正样本集(minority class samples)中每个样本, 分别根据其k个近邻生成sampling_rate个新的样本\n",
    "    def synthetic_samples(self, X, i, k_neighbors):\n",
    "        for j in range(self.sampling_rate):\n",
    "            # 从k个近邻里面随机选择一个近邻\n",
    "            neighbor = np.random.choice(k_neighbors)\n",
    "            # 计算样本X[i]与刚刚选择的近邻的差\n",
    "            diff = X[neighbor] - X[i]\n",
    "            # 生成新的数据\n",
    "            self.synthetic[self.newindex] = X[i] + random.random() * diff\n",
    "            self.newindex += 1\n",
    "            "
   ]
  },
  {
   "cell_type": "code",
   "execution_count": 5,
   "metadata": {},
   "outputs": [],
   "source": [
    "gen_dataset = []\n",
    "\n",
    "for i in range(int(20000/1000)):\n",
    "    smote = Smote(sampling_rate = 1, k = 20)\n",
    "    gen_alt4 = smote.fit(data_alt4_ori)\n",
    "    gen_dataset.append(gen_alt4)\n",
    "    \n",
    "# gen_dataset = np.array(gen_dataset)#.reshape()\n",
    "# print(gen_dataset.shape)"
   ]
  },
  {
   "cell_type": "code",
   "execution_count": 6,
   "metadata": {},
   "outputs": [
    {
     "name": "stdout",
     "output_type": "stream",
     "text": [
      "(20000, 24)\n"
     ]
    }
   ],
   "source": [
    "gen_dataset = np.array(gen_dataset).reshape([-1, data_alt4_ori.shape[-1]])\n",
    "print(gen_dataset.shape)"
   ]
  },
  {
   "cell_type": "code",
   "execution_count": 7,
   "metadata": {},
   "outputs": [],
   "source": [
    "gen_alt_pd = pd.DataFrame(gen_dataset, columns = ['ABCD', 'ACBD', 'BACD', 'BCAD', 'CABD', 'CBAD', 'DABC',\n",
    "                           'DACB', 'DBAC', 'DBCA', 'DCAB', 'DCBA', 'ADBC', 'ADCB', 'BDAC', 'BDCA',\n",
    "                           'CDAB', 'CDBA', 'ABDC', 'ACDB', 'BADC', 'BCDA', 'CADB', 'CBDA'])\n",
    "gen_alt_pd.to_csv(generated_path + 'generated_atl4' + '.csv')                    \n",
    "                    "
   ]
  },
  {
   "cell_type": "code",
   "execution_count": null,
   "metadata": {},
   "outputs": [],
   "source": []
  }
 ],
 "metadata": {
  "kernelspec": {
   "display_name": "Python 3",
   "language": "python",
   "name": "python3"
  },
  "language_info": {
   "codemirror_mode": {
    "name": "ipython",
    "version": 3
   },
   "file_extension": ".py",
   "mimetype": "text/x-python",
   "name": "python",
   "nbconvert_exporter": "python",
   "pygments_lexer": "ipython3",
   "version": "3.6.13"
  }
 },
 "nbformat": 4,
 "nbformat_minor": 4
}
