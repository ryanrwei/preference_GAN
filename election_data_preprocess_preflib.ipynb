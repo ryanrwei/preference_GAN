{
 "cells": [
  {
   "cell_type": "code",
   "execution_count": 1,
   "id": "731dde13",
   "metadata": {},
   "outputs": [],
   "source": [
    "from preflibtools.instances.preflibinstance import PreflibInstance\n",
    "import preflibtools\n",
    "import numpy as np\n",
    "import os\n",
    "import collections\n",
    "import pandas as pd\n",
    "from scipy import linalg\n",
    "from collections import OrderedDict\n",
    "import random\n",
    "import matplotlib.pyplot as plt"
   ]
  },
  {
   "cell_type": "code",
   "execution_count": 2,
   "id": "1c711681",
   "metadata": {},
   "outputs": [],
   "source": [
    "def intro_data(x):\n",
    "    print(\"The number of alternatives: \", x.num_alternatives) \n",
    "    print(\"The number of voters: \", x.num_voters)\n",
    "    print(\"The sum of vote count(considering the weight of each vote): \", x.sum_vote_count)    \n",
    "    print(\"The number of different orders that have been submitted: \", x.num_unique_order)\n",
    "    print(\"The order and name of alternatives: \")\n",
    "    for alt, alt_name in instance.alternatives_name.items():\n",
    "        alternative = alt\n",
    "        name = alt_name\n",
    "        print(alternative, name)"
   ]
  },
  {
   "cell_type": "code",
   "execution_count": 3,
   "id": "1b43ad04",
   "metadata": {},
   "outputs": [
    {
     "data": {
      "text/plain": [
       "315"
      ]
     },
     "execution_count": 3,
     "metadata": {},
     "output_type": "execute_result"
    }
   ],
   "source": [
    "filedir = \"./soc/\"\n",
    "files = []\n",
    "for filename in os.listdir(filedir):\n",
    "    instance = PreflibInstance()\n",
    "    instance.parse(filedir + filename)\n",
    "    files.append(instance)\n",
    "len(files)"
   ]
  },
  {
   "cell_type": "markdown",
   "id": "0490debd",
   "metadata": {},
   "source": [
    "# num_alternatives, num_repeat"
   ]
  },
  {
   "cell_type": "code",
   "execution_count": 4,
   "id": "12ba16e2",
   "metadata": {},
   "outputs": [],
   "source": [
    "# list_alternatives = []\n",
    "# for i in files:\n",
    "#     list_alternatives.append(i.num_alternatives)\n",
    "# list_alternatives = np.array(list_alternatives)\n",
    "# len(list_alternatives)"
   ]
  },
  {
   "cell_type": "code",
   "execution_count": 5,
   "id": "7135446b",
   "metadata": {},
   "outputs": [],
   "source": [
    "# num_alternatives, num_repeat = np.unique(list_alternatives, return_counts=True)\n",
    "\n",
    "# print(num_alternatives)\n",
    "# print('----------------')\n",
    "# print(num_repeat)"
   ]
  },
  {
   "cell_type": "code",
   "execution_count": 6,
   "id": "325e14a5",
   "metadata": {},
   "outputs": [],
   "source": [
    "def sort_order(x):\n",
    "    data_random = {}\n",
    "    sort_order = []\n",
    "    data_np = []\n",
    "\n",
    "    for orders in x.orders:\n",
    "        key = ''\n",
    "        multiplicity = x.order_multiplicity[orders]\n",
    "\n",
    "        #transfrom order from tuple to str\n",
    "        for order in orders:\n",
    "            key = key + str(np.array(order)[0])\n",
    "\n",
    "        data_random[key] = multiplicity\n",
    "        sort_order.append(key)  \n",
    "\n",
    "    sort_order.sort()     \n",
    "\n",
    "    for order in sort_order:\n",
    "        data_np.append(data_random[order])\n",
    "\n",
    "    data_np = np.array(data_np)\n",
    "    data_np = data_np / np.sum(data_np)\n",
    "    return data_np"
   ]
  },
  {
   "cell_type": "code",
   "execution_count": 7,
   "id": "cd00e0d4",
   "metadata": {},
   "outputs": [],
   "source": [
    "def resize_dat(x, img_size, img_width, img_height, input_size):\n",
    "    cell_size = int(img_size//input_size)\n",
    "    \n",
    "    enlarged_dat = []\n",
    "    for j in range(x.shape[0]):\n",
    "        dat = x[j]\n",
    "        tmp = []\n",
    "        for i in range(dat.shape[0]):\n",
    "            for _ in range(cell_size):\n",
    "                tmp.append(dat[i])\n",
    "        tmp = np.array(tmp).reshape([img_height, img_width])\n",
    "        enlarged_dat.append(tmp)\n",
    "    enlarged_dat = np.array(enlarged_dat)    \n",
    "    return enlarged_dat"
   ]
  },
  {
   "cell_type": "markdown",
   "id": "7840a23b",
   "metadata": {},
   "source": [
    "# get samples with num_alternatives is 3"
   ]
  },
  {
   "cell_type": "code",
   "execution_count": 8,
   "id": "9e34e802",
   "metadata": {},
   "outputs": [
    {
     "data": {
      "text/plain": [
       "100"
      ]
     },
     "execution_count": 8,
     "metadata": {},
     "output_type": "execute_result"
    }
   ],
   "source": [
    "files_select = []\n",
    "for i in files:\n",
    "    if (i.num_alternatives == 3):\n",
    "        files_select.append(i)\n",
    "len(files_select)"
   ]
  },
  {
   "cell_type": "markdown",
   "id": "62e074e2",
   "metadata": {},
   "source": [
    "# put order and its num of each sample into a np.array"
   ]
  },
  {
   "cell_type": "code",
   "execution_count": 9,
   "id": "f7a74a53",
   "metadata": {},
   "outputs": [
    {
     "name": "stdout",
     "output_type": "stream",
     "text": [
      "(100, 6)\n"
     ]
    }
   ],
   "source": [
    "election_data_alt3 = []\n",
    "\n",
    "for i in files_select:\n",
    "    order_np = sort_order(i)\n",
    "#     print(order_np)\n",
    "    election_data_alt3.append(order_np) \n",
    "election_data_alt3 = np.array(election_data_alt3)\n",
    "print(election_data_alt3.shape)"
   ]
  },
  {
   "cell_type": "code",
   "execution_count": 10,
   "id": "8dd24305",
   "metadata": {},
   "outputs": [
    {
     "name": "stdout",
     "output_type": "stream",
     "text": [
      "(100, 24, 30)\n"
     ]
    }
   ],
   "source": [
    "img_size = np.math.factorial(6)\n",
    "img_width = 30\n",
    "img_height = 24\n",
    "input_size = np.math.factorial(3)\n",
    "\n",
    "election_data_alt3_resize = resize_dat(election_data_alt3, img_size, img_width, img_height, input_size)\n",
    "print(election_data_alt3_resize.shape)"
   ]
  },
  {
   "cell_type": "code",
   "execution_count": 11,
   "id": "20b8f4bc",
   "metadata": {},
   "outputs": [
    {
     "data": {
      "text/plain": [
       "<matplotlib.image.AxesImage at 0x2154d4cb4a8>"
      ]
     },
     "execution_count": 11,
     "metadata": {},
     "output_type": "execute_result"
    },
    {
     "data": {
      "image/png": "[encoded data removed]",
      "text/plain": [
       "<Figure size 360x360 with 1 Axes>"
      ]
     },
     "metadata": {
      "needs_background": "light"
     },
     "output_type": "display_data"
    }
   ],
   "source": [
    "fig, ax = plt.subplots(figsize=(5, 5))\n",
    "ax.cla()\n",
    "ax.imshow(np.reshape(election_data_alt3_resize[0], (img_height, img_width)), cmap='gray')"
   ]
  },
  {
   "cell_type": "code",
   "execution_count": 12,
   "id": "c55c83f6",
   "metadata": {},
   "outputs": [
    {
     "name": "stdout",
     "output_type": "stream",
     "text": [
      "(100, 720)\n"
     ]
    }
   ],
   "source": [
    "election_data_alt3_resize = election_data_alt3_resize.reshape([-1, img_height * img_width])\n",
    "print(election_data_alt3_resize.shape)"
   ]
  },
  {
   "cell_type": "code",
   "execution_count": 13,
   "id": "6fc031ed",
   "metadata": {},
   "outputs": [],
   "source": [
    "election_data_alt3_resize = pd.DataFrame(election_data_alt3_resize)\n",
    "election_data_alt3_resize.to_csv('election_data_alt3_resize.csv')"
   ]
  },
  {
   "cell_type": "markdown",
   "id": "a9a23511",
   "metadata": {},
   "source": [
    "# -------------------------------------------------------------------------"
   ]
  },
  {
   "cell_type": "markdown",
   "id": "c8cd84b9",
   "metadata": {},
   "source": [
    "# get samples with num_alternatives is 4"
   ]
  },
  {
   "cell_type": "code",
   "execution_count": 14,
   "id": "df866703",
   "metadata": {},
   "outputs": [
    {
     "data": {
      "text/plain": [
       "108"
      ]
     },
     "execution_count": 14,
     "metadata": {},
     "output_type": "execute_result"
    }
   ],
   "source": [
    "files_select = []\n",
    "for i in files:\n",
    "    if (i.num_alternatives == 4):\n",
    "        files_select.append(i)\n",
    "len(files_select)"
   ]
  },
  {
   "cell_type": "code",
   "execution_count": 15,
   "id": "76ca5bca",
   "metadata": {},
   "outputs": [
    {
     "name": "stdout",
     "output_type": "stream",
     "text": [
      "(108, 24)\n"
     ]
    }
   ],
   "source": [
    "election_data_alt4 = []\n",
    "\n",
    "for i in files_select:\n",
    "    order_np = sort_order(i, )\n",
    "    election_data_alt4.append(order_np) \n",
    "election_data_alt4 = np.array(election_data_alt4)\n",
    "print(election_data_alt4.shape)"
   ]
  },
  {
   "cell_type": "code",
   "execution_count": 16,
   "id": "a92af910",
   "metadata": {},
   "outputs": [
    {
     "name": "stdout",
     "output_type": "stream",
     "text": [
      "(108, 24, 30)\n"
     ]
    }
   ],
   "source": [
    "img_size = np.math.factorial(6)\n",
    "img_width = 30\n",
    "img_height = 24\n",
    "input_size = np.math.factorial(4)\n",
    "\n",
    "election_data_alt4_resize = resize_dat(election_data_alt4, img_size, img_width, img_height, input_size)\n",
    "print(election_data_alt4_resize.shape)"
   ]
  },
  {
   "cell_type": "code",
   "execution_count": 17,
   "id": "2c5b885c",
   "metadata": {},
   "outputs": [
    {
     "data": {
      "text/plain": [
       "<matplotlib.image.AxesImage at 0x2154dc56eb8>"
      ]
     },
     "execution_count": 17,
     "metadata": {},
     "output_type": "execute_result"
    },
    {
     "data": {
      "image/png": "[encoded data removed]",
      "text/plain": [
       "<Figure size 360x360 with 1 Axes>"
      ]
     },
     "metadata": {
      "needs_background": "light"
     },
     "output_type": "display_data"
    }
   ],
   "source": [
    "fig, ax = plt.subplots(figsize=(5, 5))\n",
    "ax.cla()\n",
    "ax.imshow(np.reshape(election_data_alt4_resize[0], (img_height, img_width)), cmap='gray')"
   ]
  },
  {
   "cell_type": "code",
   "execution_count": 18,
   "id": "69ad1c8e",
   "metadata": {},
   "outputs": [
    {
     "name": "stdout",
     "output_type": "stream",
     "text": [
      "(108, 720)\n"
     ]
    }
   ],
   "source": [
    "election_data_alt4_resize = election_data_alt4_resize.reshape([-1, img_height * img_width])\n",
    "print(election_data_alt4_resize.shape)"
   ]
  },
  {
   "cell_type": "code",
   "execution_count": 19,
   "id": "42f7157b",
   "metadata": {},
   "outputs": [],
   "source": [
    "election_data_alt4_resize = pd.DataFrame(election_data_alt4_resize)\n",
    "election_data_alt4_resize.to_csv('election_data_alt4_resize.csv')"
   ]
  },
  {
   "cell_type": "code",
   "execution_count": null,
   "id": "5201cc0e",
   "metadata": {},
   "outputs": [],
   "source": []
  },
  {
   "cell_type": "markdown",
   "id": "5e2979d5",
   "metadata": {},
   "source": [
    "# ------------------------------------------------------------------"
   ]
  },
  {
   "cell_type": "code",
   "execution_count": 20,
   "id": "1a2bc511",
   "metadata": {},
   "outputs": [
    {
     "name": "stdout",
     "output_type": "stream",
     "text": [
      "(100, 120)\n"
     ]
    }
   ],
   "source": [
    "num_data = 100\n",
    "img_size = 120\n",
    "\n",
    "fake_alt5 = []\n",
    "for _ in range(num_data*img_size):\n",
    "    fake_alt5.append(random.random())\n",
    "fake_alt5 = np.array(fake_alt5).reshape([num_data, img_size])\n",
    "print(fake_alt5.shape)"
   ]
  },
  {
   "cell_type": "code",
   "execution_count": 21,
   "id": "b1b46a89",
   "metadata": {},
   "outputs": [
    {
     "name": "stdout",
     "output_type": "stream",
     "text": [
      "(100, 24, 30)\n"
     ]
    }
   ],
   "source": [
    "img_size = np.math.factorial(6)\n",
    "img_width = 30\n",
    "img_height = 24\n",
    "input_size = np.math.factorial(5)\n",
    "\n",
    "fake_alt5_resize = resize_dat(fake_alt5, img_size, img_width, img_height, input_size)\n",
    "print(fake_alt5_resize.shape)"
   ]
  },
  {
   "cell_type": "code",
   "execution_count": 22,
   "id": "6b8ae522",
   "metadata": {},
   "outputs": [
    {
     "data": {
      "text/plain": [
       "<matplotlib.image.AxesImage at 0x2154ec9c0f0>"
      ]
     },
     "execution_count": 22,
     "metadata": {},
     "output_type": "execute_result"
    },
    {
     "data": {
      "image/png": "[encoded data removed]",
      "text/plain": [
       "<Figure size 360x360 with 1 Axes>"
      ]
     },
     "metadata": {
      "needs_background": "light"
     },
     "output_type": "display_data"
    }
   ],
   "source": [
    "fig, ax = plt.subplots(figsize=(5, 5))\n",
    "ax.cla()\n",
    "ax.imshow(np.reshape(fake_alt5_resize[0], (img_height, img_width)), cmap='gray')"
   ]
  },
  {
   "cell_type": "code",
   "execution_count": null,
   "id": "c7144386",
   "metadata": {},
   "outputs": [],
   "source": []
  },
  {
   "cell_type": "code",
   "execution_count": null,
   "id": "f4492084",
   "metadata": {},
   "outputs": [],
   "source": []
  },
  {
   "cell_type": "code",
   "execution_count": null,
   "id": "e1e91a89",
   "metadata": {},
   "outputs": [],
   "source": []
  },
  {
   "cell_type": "code",
   "execution_count": null,
   "id": "823934d2",
   "metadata": {},
   "outputs": [],
   "source": []
  }
 ],
 "metadata": {
  "kernelspec": {
   "display_name": "tf1.12",
   "language": "python",
   "name": "tf1.12"
  },
  "language_info": {
   "codemirror_mode": {
    "name": "ipython",
    "version": 3
   },
   "file_extension": ".py",
   "mimetype": "text/x-python",
   "name": "python",
   "nbconvert_exporter": "python",
   "pygments_lexer": "ipython3",
   "version": "3.6.13"
  }
 },
 "nbformat": 4,
 "nbformat_minor": 5
}
