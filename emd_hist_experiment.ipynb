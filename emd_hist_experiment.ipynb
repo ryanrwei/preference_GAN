{
 "cells": [
  {
   "cell_type": "code",
   "execution_count": 1,
   "id": "87ed5f26",
   "metadata": {
    "scrolled": true
   },
   "outputs": [],
   "source": [
    "import pandas as pd\n",
    "import os, time, itertools, imageio, pickle, random\n",
    "import numpy as np\n",
    "import matplotlib.pyplot as plt\n",
    "import random\n",
    "from utils import one_hot, resize_to_ori_calMRE, resize_to_ori\n",
    "from Kmeans_sampling import Kmeans\n",
    "from itertools import permutations\n",
    "import scipy.stats\n",
    "from scipy import stats"
   ]
  },
  {
   "cell_type": "code",
   "execution_count": 2,
   "id": "158a9141",
   "metadata": {},
   "outputs": [],
   "source": [
    " def calc_distance_emd_hist(x1, x2, m):\n",
    "        np.set_printoptions(precision=2)\n",
    "        # x1, x2 are two election histograms (normalized)\n",
    "        # m is number of alternatives\n",
    "\n",
    "        fact_m = len(x1)\n",
    "\n",
    "        # find mapping\n",
    "        alts = tuple(range(m))\n",
    "        perms = list(permutations(alts))\n",
    "\n",
    "        emd = np.inf\n",
    "\n",
    "        for i, p1 in enumerate(perms):\n",
    "\n",
    "            new_x2 = []\n",
    "            for p2 in perms:\n",
    "\n",
    "                new_p2 = []\n",
    "                for j in p2:\n",
    "                    new_p2.append(p1[j])\n",
    "                new_p2 = tuple(new_p2)\n",
    "                idx = perms.index(new_p2)\n",
    "\n",
    "                new_x2.append(x2[idx])\n",
    "            new_x2 = np.array(new_x2)\n",
    "\n",
    "            emd = np.min((emd, np.linalg.norm(x1 - new_x2)))\n",
    "\n",
    "        return emd"
   ]
  },
  {
   "cell_type": "code",
   "execution_count": 3,
   "id": "aea24567",
   "metadata": {},
   "outputs": [],
   "source": [
    "folder = 'election_GAN/'\n",
    "gen_results = 'generated_results/'\n",
    "\n",
    "model = 'model_'+'.ckpt'\n",
    "\n",
    "if not os.path.isdir(folder):\n",
    "    os.mkdir(folder)\n",
    "    \n",
    "if not os.path.isdir(folder + gen_results):\n",
    "    os.mkdir(folder + gen_results)\n",
    "\n",
    "# save ckpt\n",
    "saver_path = os.path.join(folder, model)\n",
    "\n",
    "# read ckpt\n",
    "restore_path = os.path.join(folder)\n",
    "\n",
    "# save generated data\n",
    "generated_path = os.path.join(folder + gen_results)"
   ]
  },
  {
   "cell_type": "code",
   "execution_count": 4,
   "id": "ffeddad7",
   "metadata": {},
   "outputs": [
    {
     "name": "stdout",
     "output_type": "stream",
     "text": [
      "(1000, 24, 30)\n",
      "(1000, 24, 30)\n",
      "(3001, 24, 30)\n"
     ]
    }
   ],
   "source": [
    "img_width = 30\n",
    "img_height = 24\n",
    "\n",
    "data_alt3_all = pd.read_csv('./data/netflix_data_3alt_resize.csv')\n",
    "data_alt3 = data_alt3_all.iloc[:1000,1:].values\n",
    "data_alt3_val = data_alt3_all.iloc[1000:2000,1:].values\n",
    "data_alt3_rest = data_alt3_all.iloc[2000:,1:].values\n",
    "\n",
    "data_alt3 = data_alt3.reshape([-1, img_height, img_width])\n",
    "data_alt3_val = data_alt3_val.reshape([-1, img_height, img_width])\n",
    "data_alt3_rest = data_alt3_rest.reshape([-1, img_height, img_width])\n",
    "print(data_alt3.shape)\n",
    "print(data_alt3_val.shape)\n",
    "print(data_alt3_rest.shape)"
   ]
  },
  {
   "cell_type": "code",
   "execution_count": 5,
   "id": "4647ae49",
   "metadata": {},
   "outputs": [
    {
     "name": "stdout",
     "output_type": "stream",
     "text": [
      "(1000, 6)\n",
      "(1000, 6)\n",
      "(3001, 6)\n"
     ]
    }
   ],
   "source": [
    "img_size = np.math.factorial(6)\n",
    "img_width = 30\n",
    "img_height = 24\n",
    "ori_size = np.math.factorial(3)\n",
    "\n",
    "data_alt3_ori = resize_to_ori_calMRE(data_alt3, img_size, img_width, img_height, ori_size)\n",
    "data_alt3_val_ori = resize_to_ori_calMRE(data_alt3_val, img_size, img_width, img_height, ori_size)\n",
    "data_alt3_rest_ori = resize_to_ori_calMRE(data_alt3_rest, img_size, img_width, img_height, ori_size)\n",
    "\n",
    "print(data_alt3_ori.shape)\n",
    "print(data_alt3_val_ori.shape)\n",
    "print(data_alt3_rest_ori.shape)"
   ]
  },
  {
   "cell_type": "code",
   "execution_count": 6,
   "id": "d35eee39",
   "metadata": {},
   "outputs": [],
   "source": [
    "def plot_distribution(x, x_axis_len):\n",
    "    delta_real_sort = np.sort(x)\n",
    "\n",
    "    delta_real_sort_count = []\n",
    "    delta_real_sort_subsample = []\n",
    "    x_axis = []\n",
    "\n",
    "    for i in range(0, x_axis_len, 1):\n",
    "        x_axis.append(i/100)\n",
    "        iter_ = i/100\n",
    "        count = np.where( (iter_ <= delta_real_sort) & (delta_real_sort <= (iter_+0.01)))\n",
    "        count_ = np.array(count).reshape([-1]).shape[0]\n",
    "        delta_real_sort_count.append(count_)\n",
    "\n",
    "    delta_real_sort_count = np.array(delta_real_sort_count)\n",
    "    print(len(delta_real_sort_count))\n",
    "\n",
    "    plt.bar(range(len(delta_real_sort_count)), delta_real_sort_count)\n",
    "\n",
    "    plt.show()"
   ]
  },
  {
   "cell_type": "code",
   "execution_count": null,
   "id": "3f2f9fe6",
   "metadata": {},
   "outputs": [],
   "source": []
  },
  {
   "cell_type": "markdown",
   "id": "79727962",
   "metadata": {},
   "source": [
    "# train vs train (emd_dist)"
   ]
  },
  {
   "cell_type": "code",
   "execution_count": 7,
   "id": "b84aa752",
   "metadata": {},
   "outputs": [
    {
     "name": "stdout",
     "output_type": "stream",
     "text": [
      "(1000000,)\n",
      "0.8409545103246107\n",
      "0.0\n",
      "0.3217094651815909\n",
      "0.12272004614343288\n"
     ]
    }
   ],
   "source": [
    "delta_train_train_emd = []\n",
    "for i in range(len(data_alt3_ori)):\n",
    "    for j in range(len(data_alt3_ori)):\n",
    "        delta_train_train_emd.append(calc_distance_emd_hist(data_alt3_ori[i], data_alt3_ori[j], 3))     \n",
    "        \n",
    "delta_train_train_emd = np.array(delta_train_train_emd)\n",
    "print(delta_train_train_emd.shape)\n",
    "print(np.max(delta_train_train_emd))\n",
    "print(np.min(delta_train_train_emd))\n",
    "print(np.mean(delta_train_train_emd))\n",
    "print(np.std(delta_train_train_emd, 0))"
   ]
  },
  {
   "cell_type": "code",
   "execution_count": 8,
   "id": "2b43f769",
   "metadata": {},
   "outputs": [
    {
     "name": "stdout",
     "output_type": "stream",
     "text": [
      "85\n"
     ]
    },
    {
     "data": {
      "image/png": "[encoded data removed]",
      "text/plain": [
       "<Figure size 432x288 with 1 Axes>"
      ]
     },
     "metadata": {
      "needs_background": "light"
     },
     "output_type": "display_data"
    }
   ],
   "source": [
    "plot_distribution(delta_train_train_emd, 85)"
   ]
  },
  {
   "cell_type": "markdown",
   "id": "1681ac66",
   "metadata": {},
   "source": [
    "# train vs noise (emd_dist)"
   ]
  },
  {
   "cell_type": "code",
   "execution_count": 9,
   "id": "5c4f200f",
   "metadata": {},
   "outputs": [
    {
     "name": "stdout",
     "output_type": "stream",
     "text": [
      "(1000000,)\n",
      "1.8630555156104838\n",
      "0.09710461688237951\n",
      "0.9915690121318147\n",
      "0.26082199802118644\n"
     ]
    }
   ],
   "source": [
    "noise = np.random.random([1000,6])\n",
    "\n",
    "delta_train_noise_emd = []\n",
    "for i in range(len(data_alt3_ori)):\n",
    "    for j in range(len(data_alt3_ori)):\n",
    "        delta_train_noise_emd.append(calc_distance_emd_hist(data_alt3_ori[i], noise[j], 3))        \n",
    "\n",
    "delta_train_noise_emd = np.array(delta_train_noise_emd)\n",
    "print(delta_train_noise_emd.shape)\n",
    "print(np.max(delta_train_noise_emd))\n",
    "print(np.min(delta_train_noise_emd))\n",
    "print(np.mean(delta_train_noise_emd))\n",
    "print(np.std(delta_train_noise_emd, 0))"
   ]
  },
  {
   "cell_type": "code",
   "execution_count": 10,
   "id": "34ff3bc7",
   "metadata": {},
   "outputs": [
    {
     "name": "stdout",
     "output_type": "stream",
     "text": [
      "190\n"
     ]
    },
    {
     "data": {
      "image/png": "[encoded data removed]",
      "text/plain": [
       "<Figure size 432x288 with 1 Axes>"
      ]
     },
     "metadata": {
      "needs_background": "light"
     },
     "output_type": "display_data"
    }
   ],
   "source": [
    "plot_distribution(delta_train_noise_emd, 190)"
   ]
  },
  {
   "cell_type": "markdown",
   "id": "05fbf78e",
   "metadata": {},
   "source": [
    "# train vs gen (emd_dist)"
   ]
  },
  {
   "cell_type": "code",
   "execution_count": 11,
   "id": "c8fe1a86",
   "metadata": {
    "scrolled": true
   },
   "outputs": [],
   "source": [
    "# img_width = 30\n",
    "# img_height = 24\n",
    "# img_size = np.math.factorial(6)\n",
    "# ori_size = np.math.factorial(3)\n",
    "\n",
    "# data_alt3_gen = pd.read_csv('./generated_results/generated_atl3.csv')\n",
    "# data_alt3_gen = data_alt3_gen.iloc[:1000,1:].values\n",
    "\n",
    "# print(data_alt3_gen.shape)"
   ]
  },
  {
   "cell_type": "code",
   "execution_count": 12,
   "id": "53dc343a",
   "metadata": {},
   "outputs": [],
   "source": [
    "# noise = np.random.random([1000,6])\n",
    "\n",
    "# delta_train_gen_emd = []\n",
    "# for i in range(len(data_alt3_ori)):\n",
    "#     for j in range(len(data_alt3_ori)):\n",
    "#         delta_train_gen_emd.append(calc_distance_emd_hist(data_alt3_ori[i], data_alt3_gen[j], 3))        \n",
    "\n",
    "# delta_train_gen_emd = np.array(delta_train_gen_emd)\n",
    "# print(delta_train_gen_emd.shape)\n",
    "# print(np.max(delta_train_gen_emd))\n",
    "# print(np.min(delta_train_gen_emd))\n",
    "# print(np.mean(delta_train_gen_emd))\n",
    "# print(np.std(delta_train_gen_emd, 0))"
   ]
  },
  {
   "cell_type": "code",
   "execution_count": 13,
   "id": "2af45977",
   "metadata": {},
   "outputs": [],
   "source": [
    "# plot_distribution(delta_train_gen_emd, 85)"
   ]
  },
  {
   "cell_type": "markdown",
   "id": "843c9f5a",
   "metadata": {},
   "source": [
    "# train vs gen_1D (emd_dist)"
   ]
  },
  {
   "cell_type": "code",
   "execution_count": 14,
   "id": "e82d1731",
   "metadata": {},
   "outputs": [
    {
     "name": "stdout",
     "output_type": "stream",
     "text": [
      "(1000, 6)\n"
     ]
    }
   ],
   "source": [
    "data_alt3_gen_1D = pd.read_csv('gen_alt3_1D.csv')\n",
    "data_alt3_gen_1D = data_alt3_gen_1D.iloc[:1000,1:].values\n",
    "\n",
    "print(data_alt3_gen_1D.shape)"
   ]
  },
  {
   "cell_type": "code",
   "execution_count": 15,
   "id": "8151eb37",
   "metadata": {},
   "outputs": [
    {
     "name": "stdout",
     "output_type": "stream",
     "text": [
      "(1000000,)\n",
      "0.8415834974821147\n",
      "0.017109763447384553\n",
      "0.3096586303629515\n",
      "0.12163884319091614\n"
     ]
    }
   ],
   "source": [
    "noise = np.random.random([1000,6])\n",
    "\n",
    "delta_train_gen_emd = []\n",
    "for i in range(len(data_alt3_ori)):\n",
    "    for j in range(len(data_alt3_ori)):\n",
    "        delta_train_gen_emd.append(calc_distance_emd_hist(data_alt3_ori[i], data_alt3_gen_1D[j], 3))        \n",
    "\n",
    "delta_train_gen_emd = np.array(delta_train_gen_emd)\n",
    "print(delta_train_gen_emd.shape)\n",
    "print(np.max(delta_train_gen_emd))\n",
    "print(np.min(delta_train_gen_emd))\n",
    "print(np.mean(delta_train_gen_emd))\n",
    "print(np.std(delta_train_gen_emd, 0))"
   ]
  },
  {
   "cell_type": "code",
   "execution_count": 16,
   "id": "6c448031",
   "metadata": {},
   "outputs": [
    {
     "name": "stdout",
     "output_type": "stream",
     "text": [
      "85\n"
     ]
    },
    {
     "data": {
      "image/png": "[encoded data removed]",
      "text/plain": [
       "<Figure size 432x288 with 1 Axes>"
      ]
     },
     "metadata": {
      "needs_background": "light"
     },
     "output_type": "display_data"
    }
   ],
   "source": [
    "plot_distribution(delta_train_gen_emd, 85)"
   ]
  },
  {
   "cell_type": "markdown",
   "id": "76888d2f",
   "metadata": {},
   "source": [
    "# train vs gen_1D_condition (emd_dist)"
   ]
  },
  {
   "cell_type": "code",
   "execution_count": 17,
   "id": "8e7ea325",
   "metadata": {},
   "outputs": [
    {
     "name": "stdout",
     "output_type": "stream",
     "text": [
      "(1000, 6)\n"
     ]
    }
   ],
   "source": [
    "data_alt3_gen_1D_condition = pd.read_csv('gen_alt3_1D_condition.csv')\n",
    "data_alt3_gen_1D_condition = data_alt3_gen_1D_condition.iloc[:1000,1:].values\n",
    "\n",
    "print(data_alt3_gen_1D_condition.shape)"
   ]
  },
  {
   "cell_type": "code",
   "execution_count": 18,
   "id": "2489109e",
   "metadata": {},
   "outputs": [
    {
     "name": "stdout",
     "output_type": "stream",
     "text": [
      "(1000000,)\n",
      "0.8107624525099814\n",
      "0.01036260409008667\n",
      "0.3150562800034021\n",
      "0.11116871381039321\n"
     ]
    }
   ],
   "source": [
    "noise = np.random.random([1000,6])\n",
    "\n",
    "delta_train_gen_emd = []\n",
    "for i in range(len(data_alt3_ori)):\n",
    "    for j in range(len(data_alt3_ori)):\n",
    "        delta_train_gen_emd.append(calc_distance_emd_hist(data_alt3_ori[i], data_alt3_gen_1D_condition[j], 3))        \n",
    "\n",
    "delta_train_gen_emd = np.array(delta_train_gen_emd)\n",
    "print(delta_train_gen_emd.shape)\n",
    "print(np.max(delta_train_gen_emd))\n",
    "print(np.min(delta_train_gen_emd))\n",
    "print(np.mean(delta_train_gen_emd))\n",
    "print(np.std(delta_train_gen_emd, 0))"
   ]
  },
  {
   "cell_type": "code",
   "execution_count": 19,
   "id": "1adb0b75",
   "metadata": {},
   "outputs": [
    {
     "name": "stdout",
     "output_type": "stream",
     "text": [
      "85\n"
     ]
    },
    {
     "data": {
      "image/png": "[encoded data removed]",
      "text/plain": [
       "<Figure size 432x288 with 1 Axes>"
      ]
     },
     "metadata": {
      "needs_background": "light"
     },
     "output_type": "display_data"
    }
   ],
   "source": [
    "plot_distribution(delta_train_gen_emd, 85)"
   ]
  },
  {
   "cell_type": "markdown",
   "id": "d322ea39",
   "metadata": {},
   "source": [
    "# ---------------------------------------------------"
   ]
  },
  {
   "cell_type": "markdown",
   "id": "0a194651",
   "metadata": {},
   "source": [
    "# train vs train (MAE)"
   ]
  },
  {
   "cell_type": "code",
   "execution_count": 20,
   "id": "394c059d",
   "metadata": {},
   "outputs": [
    {
     "name": "stdout",
     "output_type": "stream",
     "text": [
      "(1000000,)\n",
      "0.33171324422843257\n",
      "0.0\n",
      "0.14297275102413615\n",
      "0.06789898474932772\n"
     ]
    }
   ],
   "source": [
    "delta_train_train_MAE = []\n",
    "for i in range(len(data_alt3_ori)):\n",
    "    for j in range(len(data_alt3_ori)):\n",
    "        mse_absolute = np.mean(np.abs(data_alt3_ori[i] - data_alt3_ori[j]))\n",
    "        delta_train_train_MAE.append(mse_absolute)     \n",
    "        \n",
    "delta_train_train_MAE = np.array(delta_train_train_MAE)\n",
    "print(delta_train_train_MAE.shape)\n",
    "print(np.max(delta_train_train_MAE))\n",
    "print(np.min(delta_train_train_MAE))\n",
    "print(np.mean(delta_train_train_MAE))\n",
    "print(np.std(delta_train_train_MAE, 0))"
   ]
  },
  {
   "cell_type": "code",
   "execution_count": 21,
   "id": "2ce76b80",
   "metadata": {},
   "outputs": [
    {
     "name": "stdout",
     "output_type": "stream",
     "text": [
      "40\n"
     ]
    },
    {
     "data": {
      "image/png": "[encoded data removed]",
      "text/plain": [
       "<Figure size 432x288 with 1 Axes>"
      ]
     },
     "metadata": {
      "needs_background": "light"
     },
     "output_type": "display_data"
    }
   ],
   "source": [
    "plot_distribution(delta_train_train_MAE, 40)"
   ]
  },
  {
   "cell_type": "markdown",
   "id": "e3d8972a",
   "metadata": {},
   "source": [
    "# train vs noise (MAE)"
   ]
  },
  {
   "cell_type": "code",
   "execution_count": 22,
   "id": "7863a01d",
   "metadata": {},
   "outputs": [
    {
     "name": "stdout",
     "output_type": "stream",
     "text": [
      "(1000000,)\n",
      "0.8262596010107005\n",
      "0.03745617147639265\n",
      "0.38440554494687224\n",
      "0.10525770753424145\n"
     ]
    }
   ],
   "source": [
    "noise = np.random.random([1000,6])\n",
    "\n",
    "delta_train_noise_MAE = []\n",
    "for i in range(len(data_alt3_ori)):\n",
    "    for j in range(len(data_alt3_ori)):\n",
    "        mse_absolute = np.mean(np.abs(data_alt3_ori[i] - noise[j]))\n",
    "        delta_train_noise_MAE.append(mse_absolute)           \n",
    "        \n",
    "\n",
    "delta_train_noise_MAE = np.array(delta_train_noise_MAE)\n",
    "print(delta_train_noise_MAE.shape)\n",
    "print(np.max(delta_train_noise_MAE))\n",
    "print(np.min(delta_train_noise_MAE))\n",
    "print(np.mean(delta_train_noise_MAE))\n",
    "print(np.std(delta_train_noise_MAE, 0))"
   ]
  },
  {
   "cell_type": "code",
   "execution_count": 23,
   "id": "9715986c",
   "metadata": {},
   "outputs": [
    {
     "name": "stdout",
     "output_type": "stream",
     "text": [
      "85\n"
     ]
    },
    {
     "data": {
      "image/png": "[encoded data removed]",
      "text/plain": [
       "<Figure size 432x288 with 1 Axes>"
      ]
     },
     "metadata": {
      "needs_background": "light"
     },
     "output_type": "display_data"
    }
   ],
   "source": [
    "plot_distribution(delta_train_noise_MAE, 85)"
   ]
  },
  {
   "cell_type": "markdown",
   "id": "e030aff8",
   "metadata": {},
   "source": [
    "# train vs gen (MAE)"
   ]
  },
  {
   "cell_type": "code",
   "execution_count": 24,
   "id": "5604b1b5",
   "metadata": {},
   "outputs": [],
   "source": [
    "# delta_train_gen_MAE = []\n",
    "# for i in range(len(data_alt3_ori)):\n",
    "#     for j in range(len(data_alt3_ori)):\n",
    "#         mse_absolute = np.mean(np.abs(data_alt3_ori[i] - data_alt3_gen[j]))\n",
    "#         delta_train_gen_MAE.append(mse_absolute)     \n",
    "        \n",
    "# delta_train_gen_MAE = np.array(delta_train_gen_MAE)\n",
    "# print(delta_train_gen_MAE.shape)\n",
    "# print(np.max(delta_train_gen_MAE))\n",
    "# print(np.min(delta_train_gen_MAE))\n",
    "# print(np.mean(delta_train_gen_MAE))\n",
    "# print(np.std(delta_train_gen_MAE, 0))"
   ]
  },
  {
   "cell_type": "code",
   "execution_count": 25,
   "id": "e2d286e0",
   "metadata": {},
   "outputs": [],
   "source": [
    "# plot_distribution(delta_train_gen_MAE, 40)"
   ]
  },
  {
   "cell_type": "markdown",
   "id": "5395869e",
   "metadata": {},
   "source": [
    "# train vs gen_1D (MAE)"
   ]
  },
  {
   "cell_type": "code",
   "execution_count": 26,
   "id": "053f053e",
   "metadata": {},
   "outputs": [
    {
     "name": "stdout",
     "output_type": "stream",
     "text": [
      "(1000000,)\n",
      "0.3833428410939795\n",
      "0.008767563701117314\n",
      "0.12185475920944114\n",
      "0.05396979186089052\n"
     ]
    }
   ],
   "source": [
    "delta_train_gen_MAE = []\n",
    "for i in range(len(data_alt3_ori)):\n",
    "    for j in range(len(data_alt3_ori)):\n",
    "        mse_absolute = np.mean(np.abs(data_alt3_ori[i] - data_alt3_gen_1D[j]))\n",
    "        delta_train_gen_MAE.append(mse_absolute)     \n",
    "        \n",
    "delta_train_gen_MAE = np.array(delta_train_gen_MAE)\n",
    "print(delta_train_gen_MAE.shape)\n",
    "print(np.max(delta_train_gen_MAE))\n",
    "print(np.min(delta_train_gen_MAE))\n",
    "print(np.mean(delta_train_gen_MAE))\n",
    "print(np.std(delta_train_gen_MAE, 0))"
   ]
  },
  {
   "cell_type": "code",
   "execution_count": 27,
   "id": "4d4cc7cb",
   "metadata": {},
   "outputs": [
    {
     "name": "stdout",
     "output_type": "stream",
     "text": [
      "40\n"
     ]
    },
    {
     "data": {
      "image/png": "[encoded data removed]",
      "text/plain": [
       "<Figure size 432x288 with 1 Axes>"
      ]
     },
     "metadata": {
      "needs_background": "light"
     },
     "output_type": "display_data"
    }
   ],
   "source": [
    "plot_distribution(delta_train_gen_MAE, 40)"
   ]
  },
  {
   "cell_type": "markdown",
   "id": "ba004315",
   "metadata": {},
   "source": [
    "# train vs gen_1D_condition (MAE)"
   ]
  },
  {
   "cell_type": "code",
   "execution_count": 28,
   "id": "0e6dfa09",
   "metadata": {},
   "outputs": [
    {
     "name": "stdout",
     "output_type": "stream",
     "text": [
      "(1000000,)\n",
      "0.39773153750000007\n",
      "0.0036130405492958225\n",
      "0.13853348576271887\n",
      "0.06274604385898556\n"
     ]
    }
   ],
   "source": [
    "delta_train_gen_MAE = []\n",
    "for i in range(len(data_alt3_ori)):\n",
    "    for j in range(len(data_alt3_ori)):\n",
    "        mse_absolute = np.mean(np.abs(data_alt3_ori[i] - data_alt3_gen_1D_condition[j]))\n",
    "        delta_train_gen_MAE.append(mse_absolute)     \n",
    "        \n",
    "delta_train_gen_MAE = np.array(delta_train_gen_MAE)\n",
    "print(delta_train_gen_MAE.shape)\n",
    "print(np.max(delta_train_gen_MAE))\n",
    "print(np.min(delta_train_gen_MAE))\n",
    "print(np.mean(delta_train_gen_MAE))\n",
    "print(np.std(delta_train_gen_MAE, 0))"
   ]
  },
  {
   "cell_type": "code",
   "execution_count": 29,
   "id": "0e1d70ed",
   "metadata": {},
   "outputs": [
    {
     "name": "stdout",
     "output_type": "stream",
     "text": [
      "40\n"
     ]
    },
    {
     "data": {
      "image/png": "[encoded data removed]",
      "text/plain": [
       "<Figure size 432x288 with 1 Axes>"
      ]
     },
     "metadata": {
      "needs_background": "light"
     },
     "output_type": "display_data"
    }
   ],
   "source": [
    "plot_distribution(delta_train_gen_MAE, 40)"
   ]
  },
  {
   "cell_type": "code",
   "execution_count": null,
   "id": "93e9f434",
   "metadata": {},
   "outputs": [],
   "source": []
  },
  {
   "cell_type": "code",
   "execution_count": null,
   "id": "582e9343",
   "metadata": {},
   "outputs": [],
   "source": []
  },
  {
   "cell_type": "code",
   "execution_count": null,
   "id": "af1cfa67",
   "metadata": {},
   "outputs": [],
   "source": []
  },
  {
   "cell_type": "code",
   "execution_count": null,
   "id": "aa01be15",
   "metadata": {},
   "outputs": [],
   "source": []
  },
  {
   "cell_type": "code",
   "execution_count": null,
   "id": "16a4a25c",
   "metadata": {},
   "outputs": [],
   "source": []
  },
  {
   "cell_type": "code",
   "execution_count": null,
   "id": "488f8942",
   "metadata": {},
   "outputs": [],
   "source": []
  },
  {
   "cell_type": "code",
   "execution_count": null,
   "id": "fec23b02",
   "metadata": {},
   "outputs": [],
   "source": []
  },
  {
   "cell_type": "code",
   "execution_count": null,
   "id": "500b47b4",
   "metadata": {},
   "outputs": [],
   "source": []
  },
  {
   "cell_type": "code",
   "execution_count": null,
   "id": "74bd7808",
   "metadata": {},
   "outputs": [],
   "source": []
  },
  {
   "cell_type": "code",
   "execution_count": 24,
   "id": "e737e93b",
   "metadata": {},
   "outputs": [
    {
     "name": "stdout",
     "output_type": "stream",
     "text": [
      "(1000000,)\n",
      "0.33171324422843257\n",
      "0.0\n"
     ]
    }
   ],
   "source": [
    "# random_num = random.randint(0,len(data_alt3_ori))\n",
    "delta_train = []\n",
    "for i in range(len(data_alt3_ori)):\n",
    "# for i in range(1):\n",
    "    for j in range(len(data_alt3_ori)):\n",
    "        mse_absolute = np.mean(np.abs(data_alt3_ori[i] - data_alt3_ori[j]))\n",
    "        delta_train.append(mse_absolute)     \n",
    "        \n",
    "delta_train = np.array(delta_train)\n",
    "print(delta_train.shape)\n",
    "print(np.max(delta_train))\n",
    "print(np.min(delta_train))"
   ]
  },
  {
   "cell_type": "code",
   "execution_count": 25,
   "id": "3bfd1784",
   "metadata": {},
   "outputs": [
    {
     "name": "stdout",
     "output_type": "stream",
     "text": [
      "85\n"
     ]
    },
    {
     "data": {
      "image/png": "[encoded data removed]",
      "text/plain": [
       "<Figure size 432x288 with 1 Axes>"
      ]
     },
     "metadata": {
      "needs_background": "light"
     },
     "output_type": "display_data"
    }
   ],
   "source": [
    "delta_real_sort = np.sort(delta_train)\n",
    "\n",
    "delta_real_sort_count = []\n",
    "delta_real_sort_subsample = []\n",
    "x_axis = []\n",
    "\n",
    "for i in range(0, 85, 1):\n",
    "    x_axis.append(i/100)\n",
    "    iter_ = i/100\n",
    "    count = np.where( (iter_ <= delta_real_sort) & (delta_real_sort <= (iter_+0.01)))\n",
    "    count_ = np.array(count).reshape([-1]).shape[0]\n",
    "    delta_real_sort_count.append(count_)\n",
    "    \n",
    "delta_real_sort_count = np.array(delta_real_sort_count)\n",
    "print(len(delta_real_sort_count))\n",
    "\n",
    "plt.bar(range(len(delta_real_sort_count)), delta_real_sort_count)\n",
    "\n",
    "plt.show()"
   ]
  },
  {
   "cell_type": "code",
   "execution_count": null,
   "id": "2cb9af9b",
   "metadata": {},
   "outputs": [],
   "source": []
  },
  {
   "cell_type": "code",
   "execution_count": null,
   "id": "fb378c4f",
   "metadata": {},
   "outputs": [],
   "source": []
  },
  {
   "cell_type": "code",
   "execution_count": 22,
   "id": "b29266e7",
   "metadata": {},
   "outputs": [
    {
     "name": "stdout",
     "output_type": "stream",
     "text": [
      "(1000000,)\n",
      "1.8287509075324173\n",
      "0.07516898882779754\n"
     ]
    }
   ],
   "source": [
    "noise = np.random.random([1000,6])\n",
    "\n",
    "delta_train_noise = []\n",
    "for i in range(len(data_alt3_ori)):\n",
    "    for j in range(len(data_alt3_ori)):\n",
    "        delta_train_noise.append(calc_distance_emd_hist(data_alt3_ori[i], noise[j], 3))        \n",
    "\n",
    "delta_train_noise = np.array(delta_train_noise)\n",
    "print(delta_train_noise.shape)\n",
    "print(np.max(delta_train_noise))\n",
    "print(np.min(delta_train_noise))"
   ]
  },
  {
   "cell_type": "code",
   "execution_count": 23,
   "id": "e5f90985",
   "metadata": {},
   "outputs": [
    {
     "name": "stdout",
     "output_type": "stream",
     "text": [
      "185\n"
     ]
    },
    {
     "data": {
      "image/png": "[encoded data removed]",
      "text/plain": [
       "<Figure size 432x288 with 1 Axes>"
      ]
     },
     "metadata": {
      "needs_background": "light"
     },
     "output_type": "display_data"
    }
   ],
   "source": [
    "delta_fake_sort = np.sort(delta_train_noise)\n",
    "\n",
    "delta_fake_sort_count = []\n",
    "delta_fake_sort_subsample = []\n",
    "\n",
    "for i in range(0, 185, 1):\n",
    "    iter_ = i/100\n",
    "    count = np.where( (iter_ <= delta_fake_sort) & (delta_fake_sort <= (iter_+0.01)))\n",
    "    count_ = np.array(count).reshape([-1]).shape[0]\n",
    "    delta_fake_sort_count.append(count_)\n",
    "    \n",
    "delta_fake_sort_count = np.array(delta_fake_sort_count)\n",
    "print(len(delta_fake_sort_count))\n",
    "\n",
    "plt.bar(range(len(delta_fake_sort_count)), delta_fake_sort_count)\n",
    "plt.show()"
   ]
  },
  {
   "cell_type": "code",
   "execution_count": 28,
   "id": "5a56368c",
   "metadata": {},
   "outputs": [
    {
     "name": "stdout",
     "output_type": "stream",
     "text": [
      "(1000000,)\n",
      "0.8677025653595889\n",
      "0.03217045829802679\n"
     ]
    }
   ],
   "source": [
    "noise = np.random.random([1000,6])\n",
    "\n",
    "delta_train_noise = []\n",
    "for i in range(len(data_alt3_ori)):\n",
    "    for j in range(len(data_alt3_ori)):\n",
    "#         delta_train_noise.append(calc_distance_emd_hist(data_alt3_ori[i], noise[j], 3))   \n",
    "        mse_absolute = np.mean(np.abs(data_alt3_ori[i] - noise[j]))\n",
    "        delta_train_noise.append(mse_absolute)           \n",
    "        \n",
    "\n",
    "delta_train_noise = np.array(delta_train_noise)\n",
    "print(delta_train_noise.shape)\n",
    "print(np.max(delta_train_noise))\n",
    "print(np.min(delta_train_noise))"
   ]
  },
  {
   "cell_type": "code",
   "execution_count": 29,
   "id": "c381650b",
   "metadata": {},
   "outputs": [
    {
     "name": "stdout",
     "output_type": "stream",
     "text": [
      "185\n"
     ]
    },
    {
     "data": {
      "image/png": "[encoded data removed]",
      "text/plain": [
       "<Figure size 432x288 with 1 Axes>"
      ]
     },
     "metadata": {
      "needs_background": "light"
     },
     "output_type": "display_data"
    }
   ],
   "source": [
    "delta_fake_sort = np.sort(delta_train_noise)\n",
    "\n",
    "delta_fake_sort_count = []\n",
    "delta_fake_sort_subsample = []\n",
    "\n",
    "for i in range(0, 185, 1):\n",
    "    iter_ = i/100\n",
    "    count = np.where( (iter_ <= delta_fake_sort) & (delta_fake_sort <= (iter_+0.01)))\n",
    "    count_ = np.array(count).reshape([-1]).shape[0]\n",
    "    delta_fake_sort_count.append(count_)\n",
    "    \n",
    "delta_fake_sort_count = np.array(delta_fake_sort_count)\n",
    "print(len(delta_fake_sort_count))\n",
    "\n",
    "plt.bar(range(len(delta_fake_sort_count)), delta_fake_sort_count)\n",
    "plt.show()"
   ]
  },
  {
   "cell_type": "code",
   "execution_count": null,
   "id": "bbe507ab",
   "metadata": {},
   "outputs": [],
   "source": []
  },
  {
   "cell_type": "code",
   "execution_count": null,
   "id": "e658895e",
   "metadata": {},
   "outputs": [],
   "source": []
  },
  {
   "cell_type": "code",
   "execution_count": null,
   "id": "3e43d1ae",
   "metadata": {},
   "outputs": [],
   "source": []
  },
  {
   "cell_type": "code",
   "execution_count": null,
   "id": "ed77c558",
   "metadata": {},
   "outputs": [],
   "source": []
  },
  {
   "cell_type": "code",
   "execution_count": null,
   "id": "e2f34ace",
   "metadata": {},
   "outputs": [],
   "source": []
  },
  {
   "cell_type": "code",
   "execution_count": null,
   "id": "613d77f9",
   "metadata": {},
   "outputs": [],
   "source": []
  },
  {
   "cell_type": "code",
   "execution_count": null,
   "id": "d1547000",
   "metadata": {},
   "outputs": [],
   "source": []
  },
  {
   "cell_type": "code",
   "execution_count": null,
   "id": "514e44b8",
   "metadata": {},
   "outputs": [],
   "source": []
  },
  {
   "cell_type": "code",
   "execution_count": null,
   "id": "790639b3",
   "metadata": {},
   "outputs": [],
   "source": []
  },
  {
   "cell_type": "code",
   "execution_count": 7,
   "id": "e91552ae",
   "metadata": {},
   "outputs": [
    {
     "name": "stdout",
     "output_type": "stream",
     "text": [
      "85\n"
     ]
    },
    {
     "data": {
      "image/png": "[encoded data removed]",
      "text/plain": [
       "<Figure size 432x288 with 1 Axes>"
      ]
     },
     "metadata": {
      "needs_background": "light"
     },
     "output_type": "display_data"
    }
   ],
   "source": [
    "delta_real_sort = np.sort(delta_train)\n",
    "\n",
    "delta_real_sort_count = []\n",
    "delta_real_sort_subsample = []\n",
    "x_axis = []\n",
    "\n",
    "for i in range(0, 85, 1):\n",
    "    x_axis.append(i/100)\n",
    "    iter_ = i/100\n",
    "    count = np.where( (iter_ <= delta_real_sort) & (delta_real_sort <= (iter_+0.01)))\n",
    "    count_ = np.array(count).reshape([-1]).shape[0]\n",
    "    delta_real_sort_count.append(count_)\n",
    "    \n",
    "delta_real_sort_count = np.array(delta_real_sort_count)\n",
    "print(len(delta_real_sort_count))\n",
    "\n",
    "plt.bar(range(len(delta_real_sort_count)), delta_real_sort_count)\n",
    "\n",
    "plt.show()"
   ]
  },
  {
   "cell_type": "code",
   "execution_count": 8,
   "id": "69f1d7d7",
   "metadata": {},
   "outputs": [
    {
     "name": "stdout",
     "output_type": "stream",
     "text": [
      "(1000000,)\n",
      "0.8359532961939469\n",
      "0.0039688515341115525\n"
     ]
    }
   ],
   "source": [
    "delta_train_valid = []\n",
    "for i in range(len(data_alt3_ori)):\n",
    "    for j in range(len(data_alt3_ori)):\n",
    "        delta_train_valid.append(calc_distance_emd_hist(data_alt3_ori[i], data_alt3_val_ori[j], 3))        \n",
    "\n",
    "delta_train_valid = np.array(delta_train_valid)\n",
    "print(delta_train_valid.shape)\n",
    "print(np.max(delta_train_valid))\n",
    "print(np.min(delta_train_valid))"
   ]
  },
  {
   "cell_type": "code",
   "execution_count": 9,
   "id": "7915483f",
   "metadata": {},
   "outputs": [
    {
     "name": "stdout",
     "output_type": "stream",
     "text": [
      "85\n"
     ]
    },
    {
     "data": {
      "image/png": "[encoded data removed]",
      "text/plain": [
       "<Figure size 432x288 with 1 Axes>"
      ]
     },
     "metadata": {
      "needs_background": "light"
     },
     "output_type": "display_data"
    }
   ],
   "source": [
    "delta_real_sort = np.sort(delta_train_valid)\n",
    "\n",
    "delta_real_sort_count_valid = []\n",
    "delta_real_sort_subsample = []\n",
    "\n",
    "for i in range(0, 85, 1):\n",
    "    iter_ = i/100\n",
    "    count = np.where( (iter_ <= delta_real_sort) & (delta_real_sort <= (iter_+0.01)))\n",
    "    count_ = np.array(count).reshape([-1]).shape[0]\n",
    "    delta_real_sort_count_valid.append(count_)\n",
    "    \n",
    "delta_real_sort_count_valid = np.array(delta_real_sort_count_valid)\n",
    "print(len(delta_real_sort_count_valid))\n",
    "\n",
    "plt.bar(range(len(delta_real_sort_count_valid)), delta_real_sort_count_valid)\n",
    "plt.show()"
   ]
  },
  {
   "cell_type": "code",
   "execution_count": 10,
   "id": "805fe456",
   "metadata": {},
   "outputs": [
    {
     "data": {
      "image/png": "[encoded data removed]",
      "text/plain": [
       "<Figure size 432x288 with 1 Axes>"
      ]
     },
     "metadata": {
      "needs_background": "light"
     },
     "output_type": "display_data"
    }
   ],
   "source": [
    "plt.bar(range(len(delta_real_sort_count)), delta_real_sort_count)\n",
    "\n",
    "plt.bar(range(len(delta_real_sort_count_valid)), delta_real_sort_count_valid)\n",
    "plt.show()"
   ]
  },
  {
   "cell_type": "code",
   "execution_count": null,
   "id": "e96759dd",
   "metadata": {},
   "outputs": [],
   "source": []
  },
  {
   "cell_type": "code",
   "execution_count": 11,
   "id": "a360c2d6",
   "metadata": {},
   "outputs": [
    {
     "name": "stdout",
     "output_type": "stream",
     "text": [
      "(1000, 24, 30)\n",
      "(1000, 24, 30)\n",
      "(1001, 24, 30)\n"
     ]
    }
   ],
   "source": [
    "data_alt4_all = pd.read_csv('./data/netflix_data_4alt_resize.csv')\n",
    "data_alt4 = data_alt4_all.iloc[:1000,1:].values\n",
    "data_alt4_val = data_alt4_all.iloc[1000:2000,1:].values\n",
    "data_alt4_rest = data_alt4_all.iloc[2000:,1:].values\n",
    "\n",
    "data_alt4 = data_alt4.reshape([-1, img_height, img_width])\n",
    "data_alt4_val = data_alt4_val.reshape([-1, img_height, img_width])\n",
    "data_alt4_rest = data_alt4_rest.reshape([-1, img_height, img_width])\n",
    "print(data_alt4.shape)\n",
    "print(data_alt4_val.shape)\n",
    "print(data_alt4_rest.shape)"
   ]
  },
  {
   "cell_type": "code",
   "execution_count": 12,
   "id": "7862c5d0",
   "metadata": {},
   "outputs": [
    {
     "name": "stdout",
     "output_type": "stream",
     "text": [
      "(1000, 24)\n",
      "(1000, 24)\n",
      "(1001, 24)\n"
     ]
    }
   ],
   "source": [
    "img_size = np.math.factorial(6)\n",
    "img_width = 30\n",
    "img_height = 24\n",
    "ori_size = np.math.factorial(4)\n",
    "\n",
    "data_alt4_ori = resize_to_ori_calMRE(data_alt4, img_size, img_width, img_height, ori_size)\n",
    "data_alt4_val_ori = resize_to_ori_calMRE(data_alt4_val, img_size, img_width, img_height, ori_size)\n",
    "data_alt4_rest_ori = resize_to_ori_calMRE(data_alt4_rest, img_size, img_width, img_height, ori_size)\n",
    "\n",
    "print(data_alt4_ori.shape)\n",
    "print(data_alt4_val_ori.shape)\n",
    "print(data_alt4_rest_ori.shape)"
   ]
  },
  {
   "cell_type": "code",
   "execution_count": 13,
   "id": "4d6c7666",
   "metadata": {},
   "outputs": [
    {
     "name": "stdout",
     "output_type": "stream",
     "text": [
      "(1000000,)\n",
      "0.5687332728110107\n",
      "0.0\n"
     ]
    }
   ],
   "source": [
    "delta_train = []\n",
    "for i in range(len(data_alt4_ori)):\n",
    "    for j in range(len(data_alt4_ori)):\n",
    "        delta_train.append(calc_distance_emd_hist(data_alt4_ori[i], data_alt4_ori[j], 4))     \n",
    "        \n",
    "delta_train = np.array(delta_train)\n",
    "print(delta_train.shape)\n",
    "print(np.max(delta_train))\n",
    "print(np.min(delta_train))"
   ]
  },
  {
   "cell_type": "code",
   "execution_count": 14,
   "id": "9fd488c8",
   "metadata": {},
   "outputs": [
    {
     "name": "stdout",
     "output_type": "stream",
     "text": [
      "85\n"
     ]
    },
    {
     "data": {
      "image/png": "[encoded data removed]",
      "text/plain": [
       "<Figure size 432x288 with 1 Axes>"
      ]
     },
     "metadata": {
      "needs_background": "light"
     },
     "output_type": "display_data"
    }
   ],
   "source": [
    "delta_real_sort = np.sort(delta_train)\n",
    "\n",
    "delta_real_sort_count = []\n",
    "delta_real_sort_subsample = []\n",
    "x_axis = []\n",
    "\n",
    "for i in range(0, 85, 1):\n",
    "    x_axis.append(i/100)\n",
    "    iter_ = i/100\n",
    "    count = np.where( (iter_ <= delta_real_sort) & (delta_real_sort <= (iter_+0.01)))\n",
    "    count_ = np.array(count).reshape([-1]).shape[0]\n",
    "    delta_real_sort_count.append(count_)\n",
    "    \n",
    "delta_real_sort_count = np.array(delta_real_sort_count)\n",
    "print(len(delta_real_sort_count))\n",
    "\n",
    "plt.bar(range(len(delta_real_sort_count)), delta_real_sort_count)\n",
    "\n",
    "plt.show()"
   ]
  },
  {
   "cell_type": "code",
   "execution_count": 15,
   "id": "273bbe80",
   "metadata": {},
   "outputs": [
    {
     "name": "stdout",
     "output_type": "stream",
     "text": [
      "(1000000,)\n",
      "0.5669854899394573\n",
      "0.02873370035954605\n"
     ]
    }
   ],
   "source": [
    "delta_train_valid = []\n",
    "for i in range(len(data_alt4_ori)):\n",
    "    for j in range(len(data_alt4_ori)):\n",
    "        delta_train_valid.append(calc_distance_emd_hist(data_alt4_ori[i], data_alt4_val_ori[j], 4))        \n",
    "\n",
    "delta_train_valid = np.array(delta_train_valid)\n",
    "print(delta_train_valid.shape)\n",
    "print(np.max(delta_train_valid))\n",
    "print(np.min(delta_train_valid))"
   ]
  },
  {
   "cell_type": "code",
   "execution_count": 16,
   "id": "1291d271",
   "metadata": {},
   "outputs": [
    {
     "name": "stdout",
     "output_type": "stream",
     "text": [
      "85\n"
     ]
    },
    {
     "data": {
      "image/png": "[encoded data removed]",
      "text/plain": [
       "<Figure size 432x288 with 1 Axes>"
      ]
     },
     "metadata": {
      "needs_background": "light"
     },
     "output_type": "display_data"
    }
   ],
   "source": [
    "delta_real_sort = np.sort(delta_train_valid)\n",
    "\n",
    "delta_real_sort_count_valid = []\n",
    "delta_real_sort_subsample = []\n",
    "\n",
    "for i in range(0, 85, 1):\n",
    "    iter_ = i/100\n",
    "    count = np.where( (iter_ <= delta_real_sort) & (delta_real_sort <= (iter_+0.01)))\n",
    "    count_ = np.array(count).reshape([-1]).shape[0]\n",
    "    delta_real_sort_count_valid.append(count_)\n",
    "    \n",
    "delta_real_sort_count_valid = np.array(delta_real_sort_count_valid)\n",
    "print(len(delta_real_sort_count_valid))\n",
    "\n",
    "plt.bar(range(len(delta_real_sort_count_valid)), delta_real_sort_count_valid)\n",
    "plt.show()"
   ]
  },
  {
   "cell_type": "code",
   "execution_count": 18,
   "id": "1f42953e",
   "metadata": {},
   "outputs": [
    {
     "data": {
      "image/png": "[encoded data removed]",
      "text/plain": [
       "<Figure size 432x288 with 1 Axes>"
      ]
     },
     "metadata": {
      "needs_background": "light"
     },
     "output_type": "display_data"
    }
   ],
   "source": [
    "plt.bar(range(len(delta_real_sort_count_valid)), delta_real_sort_count_valid)\n",
    "\n",
    "plt.bar(range(len(delta_real_sort_count)), delta_real_sort_count)\n",
    "\n",
    "# plt.bar(range(len(delta_real_sort_count_valid)), delta_real_sort_count_valid)\n",
    "plt.show()"
   ]
  },
  {
   "cell_type": "code",
   "execution_count": null,
   "id": "bb9e97d6",
   "metadata": {},
   "outputs": [],
   "source": []
  },
  {
   "cell_type": "code",
   "execution_count": 10,
   "id": "50a48419",
   "metadata": {},
   "outputs": [
    {
     "name": "stdout",
     "output_type": "stream",
     "text": [
      "(1000000,)\n",
      "0.8409545103246107\n",
      "0.0\n"
     ]
    }
   ],
   "source": [
    "# delta_train = []\n",
    "# for i in range(len(data_alt3_ori)):\n",
    "#     for j in range(len(data_alt3_ori)):\n",
    "#         delta_train.append(calc_distance_emd_hist(data_alt3_ori[i], data_alt3_ori[j], 3))        \n",
    "\n",
    "# delta_train = np.array(delta_train)\n",
    "# print(delta_train.shape)\n",
    "# print(np.max(delta_train))\n",
    "# print(np.min(delta_train))"
   ]
  },
  {
   "cell_type": "code",
   "execution_count": 11,
   "id": "50f9d168",
   "metadata": {},
   "outputs": [
    {
     "name": "stdout",
     "output_type": "stream",
     "text": [
      "(1000000,)\n",
      "0.8359532961939469\n",
      "0.0039688515341115525\n"
     ]
    }
   ],
   "source": [
    "# delta_train_valid = []\n",
    "# for i in range(len(data_alt3_ori)):\n",
    "#     for j in range(len(data_alt3_ori)):\n",
    "#         delta_train_valid.append(calc_distance_emd_hist(data_alt3_ori[i], data_alt3_val_ori[j], 3))        \n",
    "\n",
    "# delta_train_valid = np.array(delta_train_valid)\n",
    "# print(delta_train_valid.shape)\n",
    "# print(np.max(delta_train_valid))\n",
    "# print(np.min(delta_train_valid))"
   ]
  },
  {
   "cell_type": "code",
   "execution_count": 47,
   "id": "fa9701f8",
   "metadata": {},
   "outputs": [
    {
     "name": "stdout",
     "output_type": "stream",
     "text": [
      "(1000000,)\n",
      "0.8356168464622884\n",
      "0.00410098772863484\n"
     ]
    }
   ],
   "source": [
    "# delta_train_rest = []\n",
    "# for i in range(len(data_alt3_ori)):\n",
    "#     for j in range(len(data_alt3_ori)):\n",
    "#         delta_train_rest.append(calc_distance_emd_hist(data_alt3_ori[i], data_alt3_rest_ori[j], 3))        \n",
    "\n",
    "# delta_train_rest = np.array(delta_train_rest)\n",
    "# print(delta_train_rest.shape)\n",
    "# print(np.max(delta_train_rest))\n",
    "# print(np.min(delta_train_rest))"
   ]
  },
  {
   "cell_type": "code",
   "execution_count": 12,
   "id": "8a4acd3c",
   "metadata": {},
   "outputs": [
    {
     "name": "stdout",
     "output_type": "stream",
     "text": [
      "(2000000,)\n",
      "0.8409545103246107\n",
      "0.0\n",
      "0.3178369347709569\n",
      "0.12087203945813023\n"
     ]
    }
   ],
   "source": [
    "# delta_real = np.concatenate((delta_train, delta_train_valid), axis=0)\n",
    "# delta_real_mean = np.mean(delta_real)\n",
    "# delta_real_std = np.std(delta_real, 0)\n",
    "\n",
    "# print(delta_real.shape)\n",
    "# print(np.max(delta_real))\n",
    "# print(np.min(delta_real))\n",
    "# print(delta_real_mean)\n",
    "# print(delta_real_std)"
   ]
  },
  {
   "cell_type": "code",
   "execution_count": 131,
   "id": "eba2e807",
   "metadata": {},
   "outputs": [
    {
     "name": "stdout",
     "output_type": "stream",
     "text": [
      "85\n"
     ]
    },
    {
     "data": {
      "image/png": "[encoded data removed]",
      "text/plain": [
       "<Figure size 432x288 with 1 Axes>"
      ]
     },
     "metadata": {
      "needs_background": "light"
     },
     "output_type": "display_data"
    }
   ],
   "source": [
    "# delta_real_sort = np.sort(delta_train)\n",
    "\n",
    "# delta_real_sort_count = []\n",
    "# delta_real_sort_subsample = []\n",
    "# x_axis = []\n",
    "\n",
    "# for i in range(0, 85, 1):\n",
    "#     x_axis.append(i/100)\n",
    "#     iter_ = i/100\n",
    "#     count = np.where( (iter_ <= delta_real_sort) & (delta_real_sort <= (iter_+0.01)))\n",
    "#     count_ = np.array(count).reshape([-1]).shape[0]\n",
    "#     delta_real_sort_count.append(count_)\n",
    "    \n",
    "# #     delta_real_sort_subsample.append(delta_real_sort[count[0][0]])\n",
    "\n",
    "# delta_real_sort_count = np.array(delta_real_sort_count)\n",
    "# print(len(delta_real_sort_count))\n",
    "\n",
    "# # delta_real_sort_subsample = np.array(delta_real_sort_subsample)\n",
    "# # print(len(delta_real_sort_subsample))\n",
    "\n",
    "# # x_axis = np.array(x_axis)\n",
    "# # print(x_axis)\n",
    "\n",
    "# plt.bar(range(len(delta_real_sort_count)), delta_real_sort_count)\n",
    "# # plt.bar(x_axis, delta_real_sort_count)\n",
    "\n",
    "# plt.show()"
   ]
  },
  {
   "cell_type": "code",
   "execution_count": null,
   "id": "65629e60",
   "metadata": {},
   "outputs": [],
   "source": [
    "# distance(train1, val1) = 0.1\n",
    "# distance(train1, val2) = 0.1\n",
    "# -> val1 == val2 ?"
   ]
  },
  {
   "cell_type": "code",
   "execution_count": 138,
   "id": "5d26ed7f",
   "metadata": {},
   "outputs": [
    {
     "data": {
      "image/png": "[encoded data removed]",
      "text/plain": [
       "<Figure size 432x288 with 1 Axes>"
      ]
     },
     "metadata": {
      "needs_background": "light"
     },
     "output_type": "display_data"
    }
   ],
   "source": [
    "# plt.bar(range(len(delta_real_sort_count)), delta_real_sort_count)\n",
    "\n",
    "# plt.bar(range(len(delta_real_sort_count_valid)), delta_real_sort_count_valid)\n",
    "# plt.show()"
   ]
  },
  {
   "cell_type": "code",
   "execution_count": null,
   "id": "d8f7eac5",
   "metadata": {},
   "outputs": [],
   "source": [
    "# MRE_ab - MRE_valid"
   ]
  },
  {
   "cell_type": "code",
   "execution_count": 132,
   "id": "025c4cd9",
   "metadata": {},
   "outputs": [
    {
     "data": {
      "image/png": "[encoded data removed]",
      "text/plain": [
       "<Figure size 432x288 with 1 Axes>"
      ]
     },
     "metadata": {
      "needs_background": "light"
     },
     "output_type": "display_data"
    }
   ],
   "source": [
    "# plt.bar(range(len(delta_real_sort_count)), delta_real_sort_count)\n",
    "# plt.bar(range(len(delta_fake_sort_count)), delta_fake_sort_count)\n",
    "# plt.show()"
   ]
  },
  {
   "cell_type": "code",
   "execution_count": 137,
   "id": "5d8cd802",
   "metadata": {},
   "outputs": [
    {
     "name": "stdout",
     "output_type": "stream",
     "text": [
      "85\n"
     ]
    },
    {
     "data": {
      "image/png": "[encoded data removed]",
      "text/plain": [
       "<Figure size 432x288 with 1 Axes>"
      ]
     },
     "metadata": {
      "needs_background": "light"
     },
     "output_type": "display_data"
    }
   ],
   "source": [
    "# delta_real_sort = np.sort(delta_train_valid)\n",
    "\n",
    "# delta_real_sort_count_valid = []\n",
    "# delta_real_sort_subsample = []\n",
    "\n",
    "# for i in range(0, 85, 1):\n",
    "#     iter_ = i/100\n",
    "#     count = np.where( (iter_ <= delta_real_sort) & (delta_real_sort <= (iter_+0.01)))\n",
    "#     count_ = np.array(count).reshape([-1]).shape[0]\n",
    "#     delta_real_sort_count_valid.append(count_)\n",
    "    \n",
    "# #     delta_real_sort_subsample.append(delta_real_sort[count[0][0]])\n",
    "\n",
    "# delta_real_sort_count_valid = np.array(delta_real_sort_count_valid)\n",
    "# print(len(delta_real_sort_count_valid))\n",
    "\n",
    "# # delta_real_sort_subsample = np.array(delta_real_sort_subsample)\n",
    "# # print(len(delta_real_sort_subsample))\n",
    "\n",
    "# plt.bar(range(len(delta_real_sort_count_valid)), delta_real_sort_count_valid)\n",
    "# plt.show()"
   ]
  },
  {
   "cell_type": "code",
   "execution_count": 133,
   "id": "603c99b3",
   "metadata": {},
   "outputs": [],
   "source": [
    "# delta_real_sort = np.sort(delta_train_rest)\n",
    "\n",
    "# delta_real_sort_count = []\n",
    "# delta_real_sort_subsample = []\n",
    "\n",
    "# for i in range(0, 85, 1):\n",
    "#     iter_ = i/100\n",
    "#     count = np.where( (iter_ <= delta_real_sort) & (delta_real_sort <= (iter_+0.01)))\n",
    "#     count_ = np.array(count).reshape([-1]).shape[0]\n",
    "#     delta_real_sort_count.append(count_)\n",
    "    \n",
    "# #     delta_real_sort_subsample.append(delta_real_sort[count[0][0]])\n",
    "\n",
    "# delta_real_sort_count = np.array(delta_real_sort_count)\n",
    "# print(len(delta_real_sort_count))\n",
    "\n",
    "# # delta_real_sort_subsample = np.array(delta_real_sort_subsample)\n",
    "# # print(len(delta_real_sort_subsample))\n",
    "\n",
    "# plt.bar(range(len(delta_real_sort_count)), delta_real_sort_count)\n",
    "# plt.show()"
   ]
  },
  {
   "cell_type": "code",
   "execution_count": 134,
   "id": "a71e218a",
   "metadata": {
    "scrolled": true
   },
   "outputs": [],
   "source": [
    "# delta_real_sort = np.sort(delta_real)\n",
    "\n",
    "# delta_real_sort_count = []\n",
    "# delta_real_sort_subsample = []\n",
    "\n",
    "# for i in range(0, 85, 1):\n",
    "#     iter_ = i/100\n",
    "#     count = np.where( (iter_ <= delta_real_sort) & (delta_real_sort <= (iter_+0.01)))\n",
    "#     count_ = np.array(count).reshape([-1]).shape[0]\n",
    "#     delta_real_sort_count.append(count_)\n",
    "    \n",
    "# #     delta_real_sort_subsample.append(delta_real_sort[count[0][0]])\n",
    "\n",
    "# delta_real_sort_count = np.array(delta_real_sort_count)\n",
    "# print(len(delta_real_sort_count))\n",
    "\n",
    "# # delta_real_sort_subsample = np.array(delta_real_sort_subsample)\n",
    "# # print(len(delta_real_sort_subsample))\n",
    "\n",
    "# plt.bar(range(len(delta_real_sort_count)), delta_real_sort_count)\n",
    "# plt.show()"
   ]
  },
  {
   "cell_type": "code",
   "execution_count": 135,
   "id": "f394fd52",
   "metadata": {},
   "outputs": [
    {
     "data": {
      "text/plain": [
       "array([0.  , 0.35, 0.27, ..., 0.22, 0.1 , 0.09])"
      ]
     },
     "execution_count": 135,
     "metadata": {},
     "output_type": "execute_result"
    }
   ],
   "source": [
    "# delta_real"
   ]
  },
  {
   "cell_type": "code",
   "execution_count": 136,
   "id": "be59fdc1",
   "metadata": {},
   "outputs": [
    {
     "data": {
      "text/plain": [
       "Ttest_1sampResult(statistic=-6811.357698808782, pvalue=0.0)"
      ]
     },
     "execution_count": 136,
     "metadata": {},
     "output_type": "execute_result"
    }
   ],
   "source": [
    "# # random_seed = np.random.randint(len(delta_real), size = 100)\n",
    "# # scipy.stats.ttest_1samp(delta_real[random_seed], 0.3)\n",
    "# scipy.stats.ttest_1samp(delta_real, 0.9)"
   ]
  },
  {
   "cell_type": "code",
   "execution_count": null,
   "id": "65a0d9ce",
   "metadata": {},
   "outputs": [],
   "source": []
  },
  {
   "cell_type": "code",
   "execution_count": null,
   "id": "9a4ba006",
   "metadata": {},
   "outputs": [],
   "source": []
  },
  {
   "cell_type": "code",
   "execution_count": 105,
   "id": "b617d493",
   "metadata": {},
   "outputs": [
    {
     "name": "stdout",
     "output_type": "stream",
     "text": [
      "(1000000,)\n",
      "1.8341346666711422\n",
      "0.07373683935075978\n"
     ]
    }
   ],
   "source": [
    "# noise = np.random.random([1000,6])\n",
    "\n",
    "# delta_train_noise = []\n",
    "# for i in range(len(data_alt3_ori)):\n",
    "#     for j in range(len(data_alt3_ori)):\n",
    "#         delta_train_noise.append(calc_distance_emd_hist(data_alt3_ori[i], noise[j], 3))        \n",
    "\n",
    "# delta_train_noise = np.array(delta_train_noise)\n",
    "# print(delta_train_noise.shape)\n",
    "# print(np.max(delta_train_noise))\n",
    "# print(np.min(delta_train_noise))"
   ]
  },
  {
   "cell_type": "code",
   "execution_count": 121,
   "id": "1587c1d3",
   "metadata": {},
   "outputs": [
    {
     "name": "stdout",
     "output_type": "stream",
     "text": [
      "(1000000,)\n",
      "1.8332653635158493\n",
      "0.05052824097004493\n"
     ]
    }
   ],
   "source": [
    "# noise = np.random.random([1000,6])\n",
    "\n",
    "# delta_train_noise = []\n",
    "# for i in range(len(data_alt3_ori)):\n",
    "#     for j in range(len(data_alt3_ori)):\n",
    "#         delta_train_noise.append(calc_distance_emd_hist(data_alt3_ori[i], noise[j], 3))        \n",
    "\n",
    "# delta_train_noise = np.array(delta_train_noise)\n",
    "# print(delta_train_noise.shape)\n",
    "# print(np.max(delta_train_noise))\n",
    "# print(np.min(delta_train_noise))"
   ]
  },
  {
   "cell_type": "code",
   "execution_count": 122,
   "id": "8c2aaceb",
   "metadata": {},
   "outputs": [
    {
     "name": "stdout",
     "output_type": "stream",
     "text": [
      "(1000000,)\n",
      "1.8435402421586249\n",
      "0.09304661754641122\n"
     ]
    }
   ],
   "source": [
    "# noise = np.random.random([1000,6])\n",
    "\n",
    "# delta_train_noise = []\n",
    "# for i in range(len(data_alt3_ori)):\n",
    "#     for j in range(len(data_alt3_ori)):\n",
    "#         delta_train_noise.append(calc_distance_emd_hist(data_alt3_ori[i], noise[j], 3))        \n",
    "\n",
    "# delta_train_noise = np.array(delta_train_noise)\n",
    "# print(delta_train_noise.shape)\n",
    "# print(np.max(delta_train_noise))\n",
    "# print(np.min(delta_train_noise))"
   ]
  },
  {
   "cell_type": "code",
   "execution_count": 128,
   "id": "beae544f",
   "metadata": {},
   "outputs": [
    {
     "name": "stdout",
     "output_type": "stream",
     "text": [
      "185\n"
     ]
    },
    {
     "data": {
      "image/png": "[encoded data removed]",
      "text/plain": [
       "<Figure size 432x288 with 1 Axes>"
      ]
     },
     "metadata": {
      "needs_background": "light"
     },
     "output_type": "display_data"
    }
   ],
   "source": [
    "# delta_fake_sort = np.sort(delta_train_noise)\n",
    "\n",
    "# delta_fake_sort_count = []\n",
    "# delta_fake_sort_subsample = []\n",
    "\n",
    "# for i in range(0, 185, 1):\n",
    "#     iter_ = i/100\n",
    "#     count = np.where( (iter_ <= delta_fake_sort) & (delta_fake_sort <= (iter_+0.01)))\n",
    "#     count_ = np.array(count).reshape([-1]).shape[0]\n",
    "#     delta_fake_sort_count.append(count_)\n",
    "    \n",
    "# #     delta_real_sort_subsample.append(delta_real_sort[count[0][0]])\n",
    "\n",
    "# delta_fake_sort_count = np.array(delta_fake_sort_count)\n",
    "# print(len(delta_fake_sort_count))\n",
    "\n",
    "# # delta_real_sort_subsample = np.array(delta_real_sort_subsample)\n",
    "# # print(len(delta_real_sort_subsample))\n",
    "\n",
    "# plt.bar(range(len(delta_fake_sort_count)), delta_fake_sort_count)\n",
    "# plt.show()"
   ]
  },
  {
   "cell_type": "code",
   "execution_count": null,
   "id": "0c169b41",
   "metadata": {},
   "outputs": [],
   "source": []
  },
  {
   "cell_type": "code",
   "execution_count": 130,
   "id": "5ab8e79d",
   "metadata": {},
   "outputs": [
    {
     "data": {
      "image/png": "[encoded data removed]",
      "text/plain": [
       "<Figure size 432x288 with 1 Axes>"
      ]
     },
     "metadata": {
      "needs_background": "light"
     },
     "output_type": "display_data"
    }
   ],
   "source": [
    "# plt.bar(range(len(delta_real_sort_count)), delta_real_sort_count)\n",
    "# plt.bar(range(len(delta_fake_sort_count)), delta_fake_sort_count)\n",
    "# plt.show()"
   ]
  },
  {
   "cell_type": "code",
   "execution_count": null,
   "id": "4e6e54c3",
   "metadata": {},
   "outputs": [],
   "source": []
  },
  {
   "cell_type": "code",
   "execution_count": null,
   "id": "5c306379",
   "metadata": {},
   "outputs": [],
   "source": []
  }
 ],
 "metadata": {
  "kernelspec": {
   "display_name": "tf1.12",
   "language": "python",
   "name": "tf1.12"
  },
  "language_info": {
   "codemirror_mode": {
    "name": "ipython",
    "version": 3
   },
   "file_extension": ".py",
   "mimetype": "text/x-python",
   "name": "python",
   "nbconvert_exporter": "python",
   "pygments_lexer": "ipython3",
   "version": "3.6.13"
  }
 },
 "nbformat": 4,
 "nbformat_minor": 5
}
